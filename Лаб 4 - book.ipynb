{
  "nbformat": 4,
  "nbformat_minor": 5,
  "metadata": {
    "kernelspec": {
      "display_name": "Python 3",
      "language": "python",
      "name": "python3"
    },
    "language_info": {
      "codemirror_mode": {
        "name": "ipython",
        "version": 3
      },
      "file_extension": ".py",
      "mimetype": "text/x-python",
      "name": "python",
      "nbconvert_exporter": "python",
      "pygments_lexer": "ipython3",
      "version": "3.8.5"
    },
    "papermill": {
      "default_parameters": {},
      "duration": 752.172843,
      "end_time": "2021-05-31T16:18:51.848199",
      "environment_variables": {},
      "exception": null,
      "input_path": "__notebook__.ipynb",
      "output_path": "__notebook__.ipynb",
      "parameters": {},
      "start_time": "2021-05-31T16:06:19.675356",
      "version": "2.3.3"
    },
    "colab": {
      "name": "book-recommendation-system.ipynb",
      "provenance": [],
      "collapsed_sections": []
    }
  },
  "cells": [
    {
      "cell_type": "code",
      "metadata": {
        "colab": {
          "base_uri": "https://localhost:8080/"
        },
        "id": "12WNFy1ryy1E",
        "outputId": "d5710811-42a6-4928-df15-1a1a3b1664af"
      },
      "source": [
        "!pip install surprise"
      ],
      "id": "12WNFy1ryy1E",
      "execution_count": 3,
      "outputs": [
        {
          "output_type": "stream",
          "text": [
            "Collecting surprise\n",
            "  Downloading https://files.pythonhosted.org/packages/61/de/e5cba8682201fcf9c3719a6fdda95693468ed061945493dea2dd37c5618b/surprise-0.1-py2.py3-none-any.whl\n",
            "Collecting scikit-surprise\n",
            "\u001b[?25l  Downloading https://files.pythonhosted.org/packages/97/37/5d334adaf5ddd65da99fc65f6507e0e4599d092ba048f4302fe8775619e8/scikit-surprise-1.1.1.tar.gz (11.8MB)\n",
            "\u001b[K     |████████████████████████████████| 11.8MB 15.9MB/s \n",
            "\u001b[?25hRequirement already satisfied: joblib>=0.11 in /usr/local/lib/python3.7/dist-packages (from scikit-surprise->surprise) (1.0.1)\n",
            "Requirement already satisfied: numpy>=1.11.2 in /usr/local/lib/python3.7/dist-packages (from scikit-surprise->surprise) (1.19.5)\n",
            "Requirement already satisfied: scipy>=1.0.0 in /usr/local/lib/python3.7/dist-packages (from scikit-surprise->surprise) (1.4.1)\n",
            "Requirement already satisfied: six>=1.10.0 in /usr/local/lib/python3.7/dist-packages (from scikit-surprise->surprise) (1.15.0)\n",
            "Building wheels for collected packages: scikit-surprise\n",
            "  Building wheel for scikit-surprise (setup.py) ... \u001b[?25l\u001b[?25hdone\n",
            "  Created wheel for scikit-surprise: filename=scikit_surprise-1.1.1-cp37-cp37m-linux_x86_64.whl size=1617625 sha256=7ab4d119079b061c458230e3318d7cbf8b7cfa2a3ba9e627806dfa8994a025b1\n",
            "  Stored in directory: /root/.cache/pip/wheels/78/9c/3d/41b419c9d2aff5b6e2b4c0fc8d25c538202834058f9ed110d0\n",
            "Successfully built scikit-surprise\n",
            "Installing collected packages: scikit-surprise, surprise\n",
            "Successfully installed scikit-surprise-1.1.1 surprise-0.1\n"
          ],
          "name": "stdout"
        }
      ]
    },
    {
      "cell_type": "code",
      "metadata": {
        "colab": {
          "base_uri": "https://localhost:8080/"
        },
        "id": "BUSMltg82xbU",
        "outputId": "f42ac4a4-e6e7-468c-a9ca-8eaa8a31e367"
      },
      "source": [
        "!pip install pycountry"
      ],
      "id": "BUSMltg82xbU",
      "execution_count": 35,
      "outputs": [
        {
          "output_type": "stream",
          "text": [
            "Collecting pycountry\n",
            "\u001b[?25l  Downloading https://files.pythonhosted.org/packages/76/73/6f1a412f14f68c273feea29a6ea9b9f1e268177d32e0e69ad6790d306312/pycountry-20.7.3.tar.gz (10.1MB)\n",
            "\u001b[K     |████████████████████████████████| 10.1MB 24.7MB/s \n",
            "\u001b[?25hBuilding wheels for collected packages: pycountry\n",
            "  Building wheel for pycountry (setup.py) ... \u001b[?25l\u001b[?25hdone\n",
            "  Created wheel for pycountry: filename=pycountry-20.7.3-py2.py3-none-any.whl size=10746883 sha256=c4d244ef75803b70c871c6cfc5250102f4ef184fdf25273e7128ac318a155e3c\n",
            "  Stored in directory: /root/.cache/pip/wheels/33/4e/a6/be297e6b83567e537bed9df4a93f8590ec01c1acfbcd405348\n",
            "Successfully built pycountry\n",
            "Installing collected packages: pycountry\n",
            "Successfully installed pycountry-20.7.3\n"
          ],
          "name": "stdout"
        }
      ]
    },
    {
      "cell_type": "code",
      "metadata": {
        "execution": {
          "iopub.execute_input": "2021-05-31T16:06:28.019822Z",
          "iopub.status.busy": "2021-05-31T16:06:28.018609Z",
          "iopub.status.idle": "2021-05-31T16:06:29.056294Z",
          "shell.execute_reply": "2021-05-31T16:06:29.056880Z",
          "shell.execute_reply.started": "2021-05-31T14:12:45.662551Z"
        },
        "papermill": {
          "duration": 1.092065,
          "end_time": "2021-05-31T16:06:29.057163",
          "exception": false,
          "start_time": "2021-05-31T16:06:27.965098",
          "status": "completed"
        },
        "tags": [],
        "id": "8GpGT4u0yoLc"
      },
      "source": [
        "import numpy as np\n",
        "import pandas as pd\n",
        "import seaborn as sns\n",
        "import matplotlib.pyplot as plt\n",
        "from surprise import SVD\n",
        "from surprise import Dataset\n",
        "from surprise.model_selection import cross_validate\n",
        "pd.set_option('mode.chained_assignment', None)\n",
        "pd.set_option('display.max_colwidth',None)"
      ],
      "id": "8GpGT4u0yoLc",
      "execution_count": 5,
      "outputs": []
    },
    {
      "cell_type": "code",
      "metadata": {
        "colab": {
          "base_uri": "https://localhost:8080/"
        },
        "id": "Zsf1IUvTzHS2",
        "outputId": "db7bed2c-1ea8-4473-d3da-86ba200f4763"
      },
      "source": [
        "from google.colab import drive\n",
        "drive.mount('/content/drive')"
      ],
      "id": "Zsf1IUvTzHS2",
      "execution_count": 6,
      "outputs": [
        {
          "output_type": "stream",
          "text": [
            "Mounted at /content/drive\n"
          ],
          "name": "stdout"
        }
      ]
    },
    {
      "cell_type": "code",
      "metadata": {
        "colab": {
          "base_uri": "https://localhost:8080/"
        },
        "id": "sindZDpRzR21",
        "outputId": "9efa57bf-2761-40dc-c32e-36037b900561"
      },
      "source": [
        "%cd '/content/drive/MyDrive/archive'"
      ],
      "id": "sindZDpRzR21",
      "execution_count": 7,
      "outputs": [
        {
          "output_type": "stream",
          "text": [
            "/content/drive/MyDrive/archive\n"
          ],
          "name": "stdout"
        }
      ]
    },
    {
      "cell_type": "code",
      "metadata": {
        "execution": {
          "iopub.execute_input": "2021-05-31T16:06:29.152930Z",
          "iopub.status.busy": "2021-05-31T16:06:29.152286Z",
          "iopub.status.idle": "2021-05-31T16:06:33.256370Z",
          "shell.execute_reply": "2021-05-31T16:06:33.255785Z",
          "shell.execute_reply.started": "2021-05-31T14:12:46.669388Z"
        },
        "papermill": {
          "duration": 4.152802,
          "end_time": "2021-05-31T16:06:33.256537",
          "exception": false,
          "start_time": "2021-05-31T16:06:29.103735",
          "status": "completed"
        },
        "tags": [],
        "id": "QZ9Cx9iMyoLf"
      },
      "source": [
        "users = pd.read_csv('Users.csv',low_memory=False)\n",
        "ratings = pd.read_csv('Ratings.csv',low_memory=False)\n",
        "books = pd.read_csv('Books.csv',low_memory=False)"
      ],
      "id": "QZ9Cx9iMyoLf",
      "execution_count": 36,
      "outputs": []
    },
    {
      "cell_type": "code",
      "metadata": {
        "execution": {
          "iopub.execute_input": "2021-05-31T16:06:33.362272Z",
          "iopub.status.busy": "2021-05-31T16:06:33.361626Z",
          "iopub.status.idle": "2021-05-31T16:06:33.435605Z",
          "shell.execute_reply": "2021-05-31T16:06:33.436938Z",
          "shell.execute_reply.started": "2021-05-31T14:12:51.138280Z"
        },
        "papermill": {
          "duration": 0.134219,
          "end_time": "2021-05-31T16:06:33.437284",
          "exception": false,
          "start_time": "2021-05-31T16:06:33.303065",
          "status": "completed"
        },
        "tags": [],
        "colab": {
          "base_uri": "https://localhost:8080/",
          "height": 311
        },
        "id": "4LaqYSoRyoLg",
        "outputId": "66860e6f-2429-4926-82d0-c909f83bcc80"
      },
      "source": [
        "print(books.shape)\n",
        "books.columns=['ISBN','Title','Author','Year_Of_Publication','Publisher','Image_URL_S','Image_URL_M','Image_URL_L']\n",
        "books.drop(['Image_URL_S','Image_URL_L'],axis=1,inplace=True)\n",
        "books.head()"
      ],
      "id": "4LaqYSoRyoLg",
      "execution_count": 37,
      "outputs": [
        {
          "output_type": "stream",
          "text": [
            "(271360, 8)\n"
          ],
          "name": "stdout"
        },
        {
          "output_type": "execute_result",
          "data": {
            "text/html": [
              "<div>\n",
              "<style scoped>\n",
              "    .dataframe tbody tr th:only-of-type {\n",
              "        vertical-align: middle;\n",
              "    }\n",
              "\n",
              "    .dataframe tbody tr th {\n",
              "        vertical-align: top;\n",
              "    }\n",
              "\n",
              "    .dataframe thead th {\n",
              "        text-align: right;\n",
              "    }\n",
              "</style>\n",
              "<table border=\"1\" class=\"dataframe\">\n",
              "  <thead>\n",
              "    <tr style=\"text-align: right;\">\n",
              "      <th></th>\n",
              "      <th>ISBN</th>\n",
              "      <th>Title</th>\n",
              "      <th>Author</th>\n",
              "      <th>Year_Of_Publication</th>\n",
              "      <th>Publisher</th>\n",
              "      <th>Image_URL_M</th>\n",
              "    </tr>\n",
              "  </thead>\n",
              "  <tbody>\n",
              "    <tr>\n",
              "      <th>0</th>\n",
              "      <td>0195153448</td>\n",
              "      <td>Classical Mythology</td>\n",
              "      <td>Mark P. O. Morford</td>\n",
              "      <td>2002</td>\n",
              "      <td>Oxford University Press</td>\n",
              "      <td>http://images.amazon.com/images/P/0195153448.01.MZZZZZZZ.jpg</td>\n",
              "    </tr>\n",
              "    <tr>\n",
              "      <th>1</th>\n",
              "      <td>0002005018</td>\n",
              "      <td>Clara Callan</td>\n",
              "      <td>Richard Bruce Wright</td>\n",
              "      <td>2001</td>\n",
              "      <td>HarperFlamingo Canada</td>\n",
              "      <td>http://images.amazon.com/images/P/0002005018.01.MZZZZZZZ.jpg</td>\n",
              "    </tr>\n",
              "    <tr>\n",
              "      <th>2</th>\n",
              "      <td>0060973129</td>\n",
              "      <td>Decision in Normandy</td>\n",
              "      <td>Carlo D'Este</td>\n",
              "      <td>1991</td>\n",
              "      <td>HarperPerennial</td>\n",
              "      <td>http://images.amazon.com/images/P/0060973129.01.MZZZZZZZ.jpg</td>\n",
              "    </tr>\n",
              "    <tr>\n",
              "      <th>3</th>\n",
              "      <td>0374157065</td>\n",
              "      <td>Flu: The Story of the Great Influenza Pandemic of 1918 and the Search for the Virus That Caused It</td>\n",
              "      <td>Gina Bari Kolata</td>\n",
              "      <td>1999</td>\n",
              "      <td>Farrar Straus Giroux</td>\n",
              "      <td>http://images.amazon.com/images/P/0374157065.01.MZZZZZZZ.jpg</td>\n",
              "    </tr>\n",
              "    <tr>\n",
              "      <th>4</th>\n",
              "      <td>0393045218</td>\n",
              "      <td>The Mummies of Urumchi</td>\n",
              "      <td>E. J. W. Barber</td>\n",
              "      <td>1999</td>\n",
              "      <td>W. W. Norton &amp;amp; Company</td>\n",
              "      <td>http://images.amazon.com/images/P/0393045218.01.MZZZZZZZ.jpg</td>\n",
              "    </tr>\n",
              "  </tbody>\n",
              "</table>\n",
              "</div>"
            ],
            "text/plain": [
              "         ISBN  ...                                                   Image_URL_M\n",
              "0  0195153448  ...  http://images.amazon.com/images/P/0195153448.01.MZZZZZZZ.jpg\n",
              "1  0002005018  ...  http://images.amazon.com/images/P/0002005018.01.MZZZZZZZ.jpg\n",
              "2  0060973129  ...  http://images.amazon.com/images/P/0060973129.01.MZZZZZZZ.jpg\n",
              "3  0374157065  ...  http://images.amazon.com/images/P/0374157065.01.MZZZZZZZ.jpg\n",
              "4  0393045218  ...  http://images.amazon.com/images/P/0393045218.01.MZZZZZZZ.jpg\n",
              "\n",
              "[5 rows x 6 columns]"
            ]
          },
          "metadata": {
            "tags": []
          },
          "execution_count": 37
        }
      ]
    },
    {
      "cell_type": "markdown",
      "metadata": {
        "papermill": {
          "duration": 0.047817,
          "end_time": "2021-05-31T16:06:33.532642",
          "exception": false,
          "start_time": "2021-05-31T16:06:33.484825",
          "status": "completed"
        },
        "tags": [],
        "id": "xJN68P3LyoLh"
      },
      "source": [
        "Check NULL values"
      ],
      "id": "xJN68P3LyoLh"
    },
    {
      "cell_type": "code",
      "metadata": {
        "execution": {
          "iopub.execute_input": "2021-05-31T16:06:33.784430Z",
          "iopub.status.busy": "2021-05-31T16:06:33.783469Z",
          "iopub.status.idle": "2021-05-31T16:06:33.795901Z",
          "shell.execute_reply": "2021-05-31T16:06:33.796628Z",
          "shell.execute_reply.started": "2021-05-31T14:12:51.224121Z"
        },
        "papermill": {
          "duration": 0.216104,
          "end_time": "2021-05-31T16:06:33.796838",
          "exception": false,
          "start_time": "2021-05-31T16:06:33.580734",
          "status": "completed"
        },
        "scrolled": true,
        "tags": [],
        "colab": {
          "base_uri": "https://localhost:8080/"
        },
        "id": "t4ifzd-WyoLh",
        "outputId": "5d30c151-8de0-4da8-f00a-e24c708db129"
      },
      "source": [
        "L=((books.isnull().sum()).sort_values()).to_dict()\n",
        "for i in L:\n",
        "    print(i,\"--->\",L[i])  "
      ],
      "id": "t4ifzd-WyoLh",
      "execution_count": 38,
      "outputs": [
        {
          "output_type": "stream",
          "text": [
            "ISBN ---> 0\n",
            "Title ---> 0\n",
            "Year_Of_Publication ---> 0\n",
            "Image_URL_M ---> 0\n",
            "Author ---> 1\n",
            "Publisher ---> 2\n"
          ],
          "name": "stdout"
        }
      ]
    },
    {
      "cell_type": "code",
      "metadata": {
        "execution": {
          "iopub.execute_input": "2021-05-31T16:06:34.048958Z",
          "iopub.status.busy": "2021-05-31T16:06:34.048262Z",
          "iopub.status.idle": "2021-05-31T16:06:34.066526Z",
          "shell.execute_reply": "2021-05-31T16:06:34.067004Z",
          "shell.execute_reply.started": "2021-05-31T14:12:51.387220Z"
        },
        "papermill": {
          "duration": 0.2211,
          "end_time": "2021-05-31T16:06:34.067198",
          "exception": false,
          "start_time": "2021-05-31T16:06:33.846098",
          "status": "completed"
        },
        "tags": [],
        "colab": {
          "base_uri": "https://localhost:8080/"
        },
        "id": "QuZs3bT3yoLh",
        "outputId": "69c6322b-a879-4539-d803-d4473ddfab2a"
      },
      "source": [
        "books.info()"
      ],
      "id": "QuZs3bT3yoLh",
      "execution_count": 39,
      "outputs": [
        {
          "output_type": "stream",
          "text": [
            "<class 'pandas.core.frame.DataFrame'>\n",
            "RangeIndex: 271360 entries, 0 to 271359\n",
            "Data columns (total 6 columns):\n",
            " #   Column               Non-Null Count   Dtype \n",
            "---  ------               --------------   ----- \n",
            " 0   ISBN                 271360 non-null  object\n",
            " 1   Title                271360 non-null  object\n",
            " 2   Author               271359 non-null  object\n",
            " 3   Year_Of_Publication  271360 non-null  object\n",
            " 4   Publisher            271358 non-null  object\n",
            " 5   Image_URL_M          271360 non-null  object\n",
            "dtypes: object(6)\n",
            "memory usage: 12.4+ MB\n"
          ],
          "name": "stdout"
        }
      ]
    },
    {
      "cell_type": "code",
      "metadata": {
        "execution": {
          "iopub.execute_input": "2021-05-31T16:06:34.175348Z",
          "iopub.status.busy": "2021-05-31T16:06:34.174359Z",
          "iopub.status.idle": "2021-05-31T16:06:34.583822Z",
          "shell.execute_reply": "2021-05-31T16:06:34.584296Z",
          "shell.execute_reply.started": "2021-05-31T14:12:51.555628Z"
        },
        "papermill": {
          "duration": 0.46879,
          "end_time": "2021-05-31T16:06:34.584505",
          "exception": false,
          "start_time": "2021-05-31T16:06:34.115715",
          "status": "completed"
        },
        "tags": [],
        "colab": {
          "base_uri": "https://localhost:8080/"
        },
        "id": "Gk0d_YgUyoLi",
        "outputId": "ac95e916-e3e3-4e1c-9778-a62b107d7c13"
      },
      "source": [
        "duplicateRowsDF = books[books.duplicated()]\n",
        "duplicateRowsDF.shape"
      ],
      "id": "Gk0d_YgUyoLi",
      "execution_count": 40,
      "outputs": [
        {
          "output_type": "execute_result",
          "data": {
            "text/plain": [
              "(0, 6)"
            ]
          },
          "metadata": {
            "tags": []
          },
          "execution_count": 40
        }
      ]
    },
    {
      "cell_type": "code",
      "metadata": {
        "execution": {
          "iopub.execute_input": "2021-05-31T16:06:34.799630Z",
          "iopub.status.busy": "2021-05-31T16:06:34.798594Z",
          "iopub.status.idle": "2021-05-31T16:06:34.921016Z",
          "shell.execute_reply": "2021-05-31T16:06:34.920510Z",
          "shell.execute_reply.started": "2021-05-31T14:12:51.962514Z"
        },
        "papermill": {
          "duration": 0.190613,
          "end_time": "2021-05-31T16:06:34.921156",
          "exception": false,
          "start_time": "2021-05-31T16:06:34.730543",
          "status": "completed"
        },
        "tags": [],
        "colab": {
          "base_uri": "https://localhost:8080/"
        },
        "id": "s_BQkiC_yoLi",
        "outputId": "7ca0fd69-840e-475b-dc9d-05be014234d2"
      },
      "source": [
        "print(\"unique isbn: \",len(books[\"ISBN\"].unique()))\n",
        "print(\"total rows: \",books.shape[0])\n",
        "print(\"unique title: \",len(books[\"Title\"].unique()))\n",
        "print(\"total rows: \",books.shape[0])"
      ],
      "id": "s_BQkiC_yoLi",
      "execution_count": 41,
      "outputs": [
        {
          "output_type": "stream",
          "text": [
            "unique isbn:  271360\n",
            "total rows:  271360\n",
            "unique title:  242135\n",
            "total rows:  271360\n"
          ],
          "name": "stdout"
        }
      ]
    },
    {
      "cell_type": "code",
      "metadata": {
        "execution": {
          "iopub.execute_input": "2021-05-31T16:06:35.148020Z",
          "iopub.status.busy": "2021-05-31T16:06:35.147376Z",
          "iopub.status.idle": "2021-05-31T16:06:35.331408Z",
          "shell.execute_reply": "2021-05-31T16:06:35.331886Z",
          "shell.execute_reply.started": "2021-05-31T14:12:52.101808Z"
        },
        "papermill": {
          "duration": 0.265414,
          "end_time": "2021-05-31T16:06:35.332056",
          "exception": false,
          "start_time": "2021-05-31T16:06:35.066642",
          "status": "completed"
        },
        "tags": [],
        "colab": {
          "base_uri": "https://localhost:8080/"
        },
        "id": "XyfV8pGoyoLi",
        "outputId": "08716344-cef4-4c1f-f009-a3c86f02a4a1"
      },
      "source": [
        "books['Author'].fillna(\"Unknown\",inplace=True)\n",
        "books['Publisher'].fillna(\"Unknown\",inplace=True)\n",
        "books.isnull().sum()"
      ],
      "id": "XyfV8pGoyoLi",
      "execution_count": 42,
      "outputs": [
        {
          "output_type": "execute_result",
          "data": {
            "text/plain": [
              "ISBN                   0\n",
              "Title                  0\n",
              "Author                 0\n",
              "Year_Of_Publication    0\n",
              "Publisher              0\n",
              "Image_URL_M            0\n",
              "dtype: int64"
            ]
          },
          "metadata": {
            "tags": []
          },
          "execution_count": 42
        }
      ]
    },
    {
      "cell_type": "code",
      "metadata": {
        "execution": {
          "iopub.execute_input": "2021-05-31T16:06:35.498154Z",
          "iopub.status.busy": "2021-05-31T16:06:35.437346Z",
          "iopub.status.idle": "2021-05-31T16:06:35.749259Z",
          "shell.execute_reply": "2021-05-31T16:06:35.748788Z",
          "shell.execute_reply.started": "2021-05-31T14:12:52.318667Z"
        },
        "papermill": {
          "duration": 0.369103,
          "end_time": "2021-05-31T16:06:35.749438",
          "exception": false,
          "start_time": "2021-05-31T16:06:35.380335",
          "status": "completed"
        },
        "tags": [],
        "colab": {
          "base_uri": "https://localhost:8080/",
          "height": 432
        },
        "id": "fA1zzNhpyoLj",
        "outputId": "c1a3c019-c16c-4acb-8a01-225b34f49c0d"
      },
      "source": [
        "my_dict=(books['Publisher'].value_counts()).to_dict()\n",
        "count= pd.DataFrame(list(my_dict.items()),columns = ['c','count'])\n",
        "a = count.sort_values(by=['count'], ascending = False)\n",
        "a.head(7)\n",
        "labels = 'Harlequin','Silhouette','Pocket','Ballantine Books','Bantam Books','Scholastic','Simon & Schuster'\n",
        "sizes = [count['count'].iloc[0],count['count'].iloc[1],count['count'].iloc[2],count['count'].iloc[3],count['count'].iloc[4],\n",
        "         count['count'].iloc[5],count['count'].iloc[6]]\n",
        "explode = (0.1, 0.1, 0.1, 0.1,0.1, 0.1,0.1 )\n",
        "fig1 , ax1 = plt.subplots(figsize=(7,7))\n",
        "ax1.pie(sizes,\n",
        "        explode = explode,\n",
        "        labels = labels,\n",
        "        autopct = '%1.1f%%',\n",
        "        shadow = True,\n",
        "        startangle = 0)\n",
        "plt.title(\"Top 7 Publishers With the Most Books\")\n",
        "ax1.axis ('equal')\n",
        "plt.show()"
      ],
      "id": "fA1zzNhpyoLj",
      "execution_count": 43,
      "outputs": [
        {
          "output_type": "display_data",
          "data": {
            "image/png": "[encoded data removed]",
            "text/plain": [
              "<Figure size 504x504 with 1 Axes>"
            ]
          },
          "metadata": {
            "tags": []
          }
        }
      ]
    },
    {
      "cell_type": "code",
      "metadata": {
        "execution": {
          "iopub.execute_input": "2021-05-31T16:06:35.860971Z",
          "iopub.status.busy": "2021-05-31T16:06:35.860256Z",
          "iopub.status.idle": "2021-05-31T16:06:36.261017Z",
          "shell.execute_reply": "2021-05-31T16:06:36.260455Z",
          "shell.execute_reply.started": "2021-05-31T14:12:52.636856Z"
        },
        "papermill": {
          "duration": 0.460605,
          "end_time": "2021-05-31T16:06:36.261155",
          "exception": false,
          "start_time": "2021-05-31T16:06:35.800550",
          "status": "completed"
        },
        "tags": [],
        "colab": {
          "base_uri": "https://localhost:8080/",
          "height": 456
        },
        "id": "wE4kdifnyoLj",
        "outputId": "b0480fa1-bc16-4ee9-9e93-08a39b8c24f1"
      },
      "source": [
        "b = count.sort_values(by=['count'], ascending = False)\n",
        "b = b.head(20)\n",
        "x =['Harlequin','Silhouette','Pocket','Ballantine Books','Bantam Books','Scholastic','Simon &amp; Schuster']\n",
        "y = [7537,4220,3905,3783,3646,3160,2971]\n",
        "fig=plt.figure(figsize=(10,7))\n",
        "ax = sns.barplot(x = 'count',y = 'c' , data = b)\n",
        "ax.set_xticklabels(ax.get_xticklabels(), rotation=90,horizontalalignment='center')\n",
        "plt.xlabel(\"No of Books Published\", size=14)\n",
        "plt.ylabel(\"Publisher\", size=14)\n",
        "plt.title(\" Top 20 Publishers With the Most Books\", size=18)\n",
        "for p in ax.patches:\n",
        "    ax.annotate(\"%.0f\" % p.get_width(), xy=(p.get_width()/2, p.get_y()+p.get_height()/2),\n",
        "            xytext=(5, 0), textcoords='offset points', ha=\"left\", va=\"center\")\n",
        "plt.show()"
      ],
      "id": "wE4kdifnyoLj",
      "execution_count": 44,
      "outputs": [
        {
          "output_type": "display_data",
          "data": {
            "image/png": "[encoded data removed]",
            "text/plain": [
              "<Figure size 720x504 with 1 Axes>"
            ]
          },
          "metadata": {
            "tags": [],
            "needs_background": "light"
          }
        }
      ]
    },
    {
      "cell_type": "code",
      "metadata": {
        "execution": {
          "iopub.execute_input": "2021-05-31T16:06:36.384612Z",
          "iopub.status.busy": "2021-05-31T16:06:36.383914Z",
          "iopub.status.idle": "2021-05-31T16:06:36.392905Z",
          "shell.execute_reply": "2021-05-31T16:06:36.392349Z",
          "shell.execute_reply.started": "2021-05-31T14:12:53.040790Z"
        },
        "papermill": {
          "duration": 0.07948,
          "end_time": "2021-05-31T16:06:36.393047",
          "exception": false,
          "start_time": "2021-05-31T16:06:36.313567",
          "status": "completed"
        },
        "tags": [],
        "colab": {
          "base_uri": "https://localhost:8080/"
        },
        "id": "1VIqBsyZyoLk",
        "outputId": "d411a127-4d27-449d-a263-287c96e96ce3"
      },
      "source": [
        "np.set_printoptions(threshold=np.inf)\n",
        "books['Year_Of_Publication'].unique()"
      ],
      "id": "1VIqBsyZyoLk",
      "execution_count": 45,
      "outputs": [
        {
          "output_type": "execute_result",
          "data": {
            "text/plain": [
              "array(['2002', '2001', '1991', '1999', '2000', '1993', '1996', '1988',\n",
              "       '2004', '1998', '1994', '2003', '1997', '1983', '1979', '1995',\n",
              "       '1982', '1985', '1992', '1986', '1978', '1980', '1952', '1987',\n",
              "       '1990', '1981', '1989', '1984', '0', '1968', '1961', '1958',\n",
              "       '1974', '1976', '1971', '1977', '1975', '1965', '1941', '1970',\n",
              "       '1962', '1973', '1972', '1960', '1966', '1920', '1956', '1959',\n",
              "       '1953', '1951', '1942', '1963', '1964', '1969', '1954', '1950',\n",
              "       '1967', '2005', '1957', '1940', '1937', '1955', '1946', '1936',\n",
              "       '1930', '2011', '1925', '1948', '1943', '1947', '1945', '1923',\n",
              "       '2020', '1939', '1926', '1938', '2030', '1911', '1904', '1949',\n",
              "       '1932', '1928', '1929', '1927', '1931', '1914', '2050', '1934',\n",
              "       '1910', '1933', '1902', '1924', '1921', '1900', '2038', '2026',\n",
              "       '1944', '1917', '1901', '2010', '1908', '1906', '1935', '1806',\n",
              "       '2021', '2012', '2006', 'DK Publishing Inc', 'Gallimard', '1909',\n",
              "       '2008', '1378', '1919', '1922', '1897', '2024', '1376', '2037'],\n",
              "      dtype=object)"
            ]
          },
          "metadata": {
            "tags": []
          },
          "execution_count": 45
        }
      ]
    },
    {
      "cell_type": "code",
      "metadata": {
        "execution": {
          "iopub.execute_input": "2021-05-31T16:06:36.645671Z",
          "iopub.status.busy": "2021-05-31T16:06:36.644953Z",
          "iopub.status.idle": "2021-05-31T16:06:36.925327Z",
          "shell.execute_reply": "2021-05-31T16:06:36.924657Z",
          "shell.execute_reply.started": "2021-05-31T14:12:53.067407Z"
        },
        "papermill": {
          "duration": 0.374069,
          "end_time": "2021-05-31T16:06:36.925475",
          "exception": false,
          "start_time": "2021-05-31T16:06:36.551406",
          "status": "completed"
        },
        "tags": [],
        "colab": {
          "base_uri": "https://localhost:8080/"
        },
        "id": "azS2sT44yoLk",
        "outputId": "db92f8f6-1737-4658-b33f-ece4e0124f91"
      },
      "source": [
        "index=books.loc[books['Year_Of_Publication']=='DK Publishing Inc'].index\n",
        "books.drop(index,inplace=True)\n",
        "index=books.loc[books['Year_Of_Publication']=='Gallimard'].index\n",
        "books.drop(index,inplace=True)\n",
        "books['Year_Of_Publication'].replace({'0':books['Year_Of_Publication'].value_counts().idxmax()},inplace=True)\n",
        "books['Year_Of_Publication'] = books['Year_Of_Publication'].astype(str).astype(int)\n",
        "books['Year_Of_Publication'].unique()"
      ],
      "id": "azS2sT44yoLk",
      "execution_count": 46,
      "outputs": [
        {
          "output_type": "execute_result",
          "data": {
            "text/plain": [
              "array([2002, 2001, 1991, 1999, 2000, 1993, 1996, 1988, 2004, 1998, 1994,\n",
              "       2003, 1997, 1983, 1979, 1995, 1982, 1985, 1992, 1986, 1978, 1980,\n",
              "       1952, 1987, 1990, 1981, 1989, 1984, 1968, 1961, 1958, 1974, 1976,\n",
              "       1971, 1977, 1975, 1965, 1941, 1970, 1962, 1973, 1972, 1960, 1966,\n",
              "       1920, 1956, 1959, 1953, 1951, 1942, 1963, 1964, 1969, 1954, 1950,\n",
              "       1967, 2005, 1957, 1940, 1937, 1955, 1946, 1936, 1930, 2011, 1925,\n",
              "       1948, 1943, 1947, 1945, 1923, 2020, 1939, 1926, 1938, 2030, 1911,\n",
              "       1904, 1949, 1932, 1928, 1929, 1927, 1931, 1914, 2050, 1934, 1910,\n",
              "       1933, 1902, 1924, 1921, 1900, 2038, 2026, 1944, 1917, 1901, 2010,\n",
              "       1908, 1906, 1935, 1806, 2021, 2012, 2006, 1909, 2008, 1378, 1919,\n",
              "       1922, 1897, 2024, 1376, 2037])"
            ]
          },
          "metadata": {
            "tags": []
          },
          "execution_count": 46
        }
      ]
    },
    {
      "cell_type": "code",
      "metadata": {
        "execution": {
          "iopub.execute_input": "2021-05-31T16:06:37.042595Z",
          "iopub.status.busy": "2021-05-31T16:06:37.041806Z",
          "iopub.status.idle": "2021-05-31T16:06:38.746902Z",
          "shell.execute_reply": "2021-05-31T16:06:38.746334Z",
          "shell.execute_reply.started": "2021-05-31T14:12:53.386399Z"
        },
        "papermill": {
          "duration": 1.767039,
          "end_time": "2021-05-31T16:06:38.747044",
          "exception": false,
          "start_time": "2021-05-31T16:06:36.980005",
          "status": "completed"
        },
        "tags": [],
        "colab": {
          "base_uri": "https://localhost:8080/",
          "height": 412
        },
        "id": "HGtIPlqtyoLl",
        "outputId": "5c544c8e-c0a5-4458-8ea8-45d47afc15f9"
      },
      "source": [
        "fig=plt.figure(figsize=(8,5))\n",
        "y1 = books[books['Year_Of_Publication'] >= 1960]\n",
        "y1 = y1[y1['Year_Of_Publication'] <= 2005]\n",
        "sns.distplot(y1['Year_Of_Publication'])\n",
        "plt.xlabel('Year Of Publication',size=14)\n",
        "plt.title('Histogram of the Year of Publication',size=16)\n",
        "plt.show()"
      ],
      "id": "HGtIPlqtyoLl",
      "execution_count": 47,
      "outputs": [
        {
          "output_type": "stream",
          "text": [
            "/usr/local/lib/python3.7/dist-packages/seaborn/distributions.py:2557: FutureWarning: `distplot` is a deprecated function and will be removed in a future version. Please adapt your code to use either `displot` (a figure-level function with similar flexibility) or `histplot` (an axes-level function for histograms).\n",
            "  warnings.warn(msg, FutureWarning)\n"
          ],
          "name": "stderr"
        },
        {
          "output_type": "display_data",
          "data": {
            "image/png": "[encoded data removed]",
            "text/plain": [
              "<Figure size 576x360 with 1 Axes>"
            ]
          },
          "metadata": {
            "tags": [],
            "needs_background": "light"
          }
        }
      ]
    },
    {
      "cell_type": "code",
      "metadata": {
        "execution": {
          "iopub.execute_input": "2021-05-31T16:06:38.977904Z",
          "iopub.status.busy": "2021-05-31T16:06:38.977140Z",
          "iopub.status.idle": "2021-05-31T16:06:38.982807Z",
          "shell.execute_reply": "2021-05-31T16:06:38.983488Z",
          "shell.execute_reply.started": "2021-05-31T14:12:55.116951Z"
        },
        "papermill": {
          "duration": 0.071257,
          "end_time": "2021-05-31T16:06:38.983711",
          "exception": false,
          "start_time": "2021-05-31T16:06:38.912454",
          "status": "completed"
        },
        "tags": [],
        "colab": {
          "base_uri": "https://localhost:8080/",
          "height": 224
        },
        "id": "utqI2BbSyoLl",
        "outputId": "3320319e-8cbb-4692-93c9-866b46a4dc80"
      },
      "source": [
        "print(users.shape)\n",
        "users.columns=['UserID','Location','Age']\n",
        "users.head()"
      ],
      "id": "utqI2BbSyoLl",
      "execution_count": 48,
      "outputs": [
        {
          "output_type": "stream",
          "text": [
            "(278858, 3)\n"
          ],
          "name": "stdout"
        },
        {
          "output_type": "execute_result",
          "data": {
            "text/html": [
              "<div>\n",
              "<style scoped>\n",
              "    .dataframe tbody tr th:only-of-type {\n",
              "        vertical-align: middle;\n",
              "    }\n",
              "\n",
              "    .dataframe tbody tr th {\n",
              "        vertical-align: top;\n",
              "    }\n",
              "\n",
              "    .dataframe thead th {\n",
              "        text-align: right;\n",
              "    }\n",
              "</style>\n",
              "<table border=\"1\" class=\"dataframe\">\n",
              "  <thead>\n",
              "    <tr style=\"text-align: right;\">\n",
              "      <th></th>\n",
              "      <th>UserID</th>\n",
              "      <th>Location</th>\n",
              "      <th>Age</th>\n",
              "    </tr>\n",
              "  </thead>\n",
              "  <tbody>\n",
              "    <tr>\n",
              "      <th>0</th>\n",
              "      <td>1</td>\n",
              "      <td>nyc, new york, usa</td>\n",
              "      <td>NaN</td>\n",
              "    </tr>\n",
              "    <tr>\n",
              "      <th>1</th>\n",
              "      <td>2</td>\n",
              "      <td>stockton, california, usa</td>\n",
              "      <td>18.0</td>\n",
              "    </tr>\n",
              "    <tr>\n",
              "      <th>2</th>\n",
              "      <td>3</td>\n",
              "      <td>moscow, yukon territory, russia</td>\n",
              "      <td>NaN</td>\n",
              "    </tr>\n",
              "    <tr>\n",
              "      <th>3</th>\n",
              "      <td>4</td>\n",
              "      <td>porto, v.n.gaia, portugal</td>\n",
              "      <td>17.0</td>\n",
              "    </tr>\n",
              "    <tr>\n",
              "      <th>4</th>\n",
              "      <td>5</td>\n",
              "      <td>farnborough, hants, united kingdom</td>\n",
              "      <td>NaN</td>\n",
              "    </tr>\n",
              "  </tbody>\n",
              "</table>\n",
              "</div>"
            ],
            "text/plain": [
              "   UserID                            Location   Age\n",
              "0       1                  nyc, new york, usa   NaN\n",
              "1       2           stockton, california, usa  18.0\n",
              "2       3     moscow, yukon territory, russia   NaN\n",
              "3       4           porto, v.n.gaia, portugal  17.0\n",
              "4       5  farnborough, hants, united kingdom   NaN"
            ]
          },
          "metadata": {
            "tags": []
          },
          "execution_count": 48
        }
      ]
    },
    {
      "cell_type": "code",
      "metadata": {
        "execution": {
          "iopub.execute_input": "2021-05-31T16:06:39.100535Z",
          "iopub.status.busy": "2021-05-31T16:06:39.099869Z",
          "iopub.status.idle": "2021-05-31T16:06:39.141272Z",
          "shell.execute_reply": "2021-05-31T16:06:39.140289Z",
          "shell.execute_reply.started": "2021-05-31T14:12:55.132577Z"
        },
        "papermill": {
          "duration": 0.101959,
          "end_time": "2021-05-31T16:06:39.141499",
          "exception": false,
          "start_time": "2021-05-31T16:06:39.039540",
          "status": "completed"
        },
        "tags": [],
        "colab": {
          "base_uri": "https://localhost:8080/"
        },
        "id": "RqW6uivHyoLl",
        "outputId": "83f059fc-6c50-4b49-b8f8-118b5ac7025e"
      },
      "source": [
        "users.info()"
      ],
      "id": "RqW6uivHyoLl",
      "execution_count": 49,
      "outputs": [
        {
          "output_type": "stream",
          "text": [
            "<class 'pandas.core.frame.DataFrame'>\n",
            "RangeIndex: 278858 entries, 0 to 278857\n",
            "Data columns (total 3 columns):\n",
            " #   Column    Non-Null Count   Dtype  \n",
            "---  ------    --------------   -----  \n",
            " 0   UserID    278858 non-null  int64  \n",
            " 1   Location  278858 non-null  object \n",
            " 2   Age       168096 non-null  float64\n",
            "dtypes: float64(1), int64(1), object(1)\n",
            "memory usage: 6.4+ MB\n"
          ],
          "name": "stdout"
        }
      ]
    },
    {
      "cell_type": "code",
      "metadata": {
        "execution": {
          "iopub.execute_input": "2021-05-31T16:06:39.397929Z",
          "iopub.status.busy": "2021-05-31T16:06:39.397228Z",
          "iopub.status.idle": "2021-05-31T16:06:39.405499Z",
          "shell.execute_reply": "2021-05-31T16:06:39.405991Z",
          "shell.execute_reply.started": "2021-05-31T14:12:55.179846Z"
        },
        "papermill": {
          "duration": 0.097559,
          "end_time": "2021-05-31T16:06:39.406159",
          "exception": false,
          "start_time": "2021-05-31T16:06:39.308600",
          "status": "completed"
        },
        "tags": [],
        "colab": {
          "base_uri": "https://localhost:8080/"
        },
        "id": "GDZYKpFnyoLl",
        "outputId": "2c624f85-1013-4136-e66b-af41a8ea4b37"
      },
      "source": [
        "L=((users.isnull().sum()).sort_values()).to_dict()\n",
        "for i in L:\n",
        "    print(i,\"--->\",L[i])  "
      ],
      "id": "GDZYKpFnyoLl",
      "execution_count": 50,
      "outputs": [
        {
          "output_type": "stream",
          "text": [
            "UserID ---> 0\n",
            "Location ---> 0\n",
            "Age ---> 110762\n"
          ],
          "name": "stdout"
        }
      ]
    },
    {
      "cell_type": "code",
      "metadata": {
        "execution": {
          "iopub.execute_input": "2021-05-31T16:06:39.525152Z",
          "iopub.status.busy": "2021-05-31T16:06:39.524234Z",
          "iopub.status.idle": "2021-05-31T16:06:43.761339Z",
          "shell.execute_reply": "2021-05-31T16:06:43.761878Z",
          "shell.execute_reply.started": "2021-05-31T14:12:55.217334Z"
        },
        "papermill": {
          "duration": 4.300326,
          "end_time": "2021-05-31T16:06:43.762054",
          "exception": false,
          "start_time": "2021-05-31T16:06:39.461728",
          "status": "completed"
        },
        "scrolled": true,
        "tags": [],
        "colab": {
          "base_uri": "https://localhost:8080/"
        },
        "id": "xIIbWiP2yoLm",
        "outputId": "bd4211fa-8535-4043-d713-299ba54d7a11"
      },
      "source": [
        "users['Age'].fillna(users['Age'].value_counts().idxmax(),inplace=True)\n",
        "for i in users['Age'][users['Age']>95]:\n",
        "        users['Age'].replace({i:users['Age'].value_counts().idxmax()},inplace=True)\n",
        "for i in users['Age'][users['Age']==0]:\n",
        "        users['Age'].replace({i:users['Age'].value_counts().idxmax()},inplace=True)\n",
        "users['Age'] = users['Age'].astype(int) \n",
        "users['Age'].unique()"
      ],
      "id": "xIIbWiP2yoLm",
      "execution_count": 51,
      "outputs": [
        {
          "output_type": "execute_result",
          "data": {
            "text/plain": [
              "array([24, 18, 17, 61, 26, 14, 25, 19, 46, 55, 32, 20, 34, 23, 51, 31, 21,\n",
              "       44, 30, 57, 43, 37, 41, 54, 42, 50, 39, 53, 47, 36, 28, 35, 13, 58,\n",
              "       49, 38, 45, 62, 63, 27, 33, 29, 66, 40, 15, 60, 79, 22, 16, 65, 59,\n",
              "       48, 72, 56, 67,  1, 80, 52, 69, 71, 73, 78,  9, 64, 12, 74, 75,  3,\n",
              "       76, 83, 68, 11, 77,  2, 70, 93,  8,  7,  4, 81, 10,  5,  6, 84, 82,\n",
              "       90, 91, 94, 85, 86, 92, 87, 95, 89, 88])"
            ]
          },
          "metadata": {
            "tags": []
          },
          "execution_count": 51
        }
      ]
    },
    {
      "cell_type": "code",
      "metadata": {
        "execution": {
          "iopub.execute_input": "2021-05-31T16:06:44.015186Z",
          "iopub.status.busy": "2021-05-31T16:06:44.014500Z",
          "iopub.status.idle": "2021-05-31T16:06:45.622384Z",
          "shell.execute_reply": "2021-05-31T16:06:45.621858Z",
          "shell.execute_reply.started": "2021-05-31T14:12:59.407871Z"
        },
        "papermill": {
          "duration": 1.691448,
          "end_time": "2021-05-31T16:06:45.622528",
          "exception": false,
          "start_time": "2021-05-31T16:06:43.931080",
          "status": "completed"
        },
        "tags": [],
        "colab": {
          "base_uri": "https://localhost:8080/",
          "height": 412
        },
        "id": "Gyu5KjcPyoLm",
        "outputId": "220e53a4-7476-4444-beb1-6a0ff9195f56"
      },
      "source": [
        "fig=plt.figure(figsize=(8,5))\n",
        "sns.distplot(users['Age'])\n",
        "plt.xlabel('Age',size=14)\n",
        "plt.title('Histogram of Age of Users',size=16)\n",
        "plt.show()"
      ],
      "id": "Gyu5KjcPyoLm",
      "execution_count": 52,
      "outputs": [
        {
          "output_type": "stream",
          "text": [
            "/usr/local/lib/python3.7/dist-packages/seaborn/distributions.py:2557: FutureWarning: `distplot` is a deprecated function and will be removed in a future version. Please adapt your code to use either `displot` (a figure-level function with similar flexibility) or `histplot` (an axes-level function for histograms).\n",
            "  warnings.warn(msg, FutureWarning)\n"
          ],
          "name": "stderr"
        },
        {
          "output_type": "display_data",
          "data": {
            "image/png": "[encoded data removed]",
            "text/plain": [
              "<Figure size 576x360 with 1 Axes>"
            ]
          },
          "metadata": {
            "tags": [],
            "needs_background": "light"
          }
        }
      ]
    },
    {
      "cell_type": "code",
      "metadata": {
        "execution": {
          "iopub.execute_input": "2021-05-31T16:06:45.745687Z",
          "iopub.status.busy": "2021-05-31T16:06:45.744677Z",
          "iopub.status.idle": "2021-05-31T16:06:45.749221Z",
          "shell.execute_reply": "2021-05-31T16:06:45.748600Z",
          "shell.execute_reply.started": "2021-05-31T14:13:01.020287Z"
        },
        "papermill": {
          "duration": 0.069127,
          "end_time": "2021-05-31T16:06:45.749388",
          "exception": false,
          "start_time": "2021-05-31T16:06:45.680261",
          "status": "completed"
        },
        "tags": [],
        "colab": {
          "base_uri": "https://localhost:8080/"
        },
        "id": "HWm0_Cd5yoLm",
        "outputId": "f535cd9c-df34-40ff-8ceb-15880d33d170"
      },
      "source": [
        "users['Location']"
      ],
      "id": "HWm0_Cd5yoLm",
      "execution_count": 53,
      "outputs": [
        {
          "output_type": "execute_result",
          "data": {
            "text/plain": [
              "0                         nyc, new york, usa\n",
              "1                  stockton, california, usa\n",
              "2            moscow, yukon territory, russia\n",
              "3                  porto, v.n.gaia, portugal\n",
              "4         farnborough, hants, united kingdom\n",
              "                         ...                \n",
              "278853                 portland, oregon, usa\n",
              "278854    tacoma, washington, united kingdom\n",
              "278855             brampton, ontario, canada\n",
              "278856             knoxville, tennessee, usa\n",
              "278857                  dublin, n/a, ireland\n",
              "Name: Location, Length: 278858, dtype: object"
            ]
          },
          "metadata": {
            "tags": []
          },
          "execution_count": 53
        }
      ]
    },
    {
      "cell_type": "code",
      "metadata": {
        "execution": {
          "iopub.execute_input": "2021-05-31T16:06:45.871873Z",
          "iopub.status.busy": "2021-05-31T16:06:45.871147Z",
          "iopub.status.idle": "2021-05-31T16:07:55.748186Z",
          "shell.execute_reply": "2021-05-31T16:07:55.748695Z",
          "shell.execute_reply.started": "2021-05-31T14:13:01.030866Z"
        },
        "papermill": {
          "duration": 69.941551,
          "end_time": "2021-05-31T16:07:55.748885",
          "exception": false,
          "start_time": "2021-05-31T16:06:45.807334",
          "status": "completed"
        },
        "tags": [],
        "colab": {
          "base_uri": "https://localhost:8080/",
          "height": 423
        },
        "id": "9GV3u4AGyoLm",
        "outputId": "81aa3e77-88ac-426f-c90e-aad5c589271a"
      },
      "source": [
        "users[['city','state','country','nan','nan','nan','nan','nan','nan']]=users['Location'].apply(lambda x: pd.Series(str(x).split(\",\")))\n",
        "users.drop(['Location','nan'],axis=1,inplace=True)\n",
        "users"
      ],
      "id": "9GV3u4AGyoLm",
      "execution_count": 54,
      "outputs": [
        {
          "output_type": "execute_result",
          "data": {
            "text/html": [
              "<div>\n",
              "<style scoped>\n",
              "    .dataframe tbody tr th:only-of-type {\n",
              "        vertical-align: middle;\n",
              "    }\n",
              "\n",
              "    .dataframe tbody tr th {\n",
              "        vertical-align: top;\n",
              "    }\n",
              "\n",
              "    .dataframe thead th {\n",
              "        text-align: right;\n",
              "    }\n",
              "</style>\n",
              "<table border=\"1\" class=\"dataframe\">\n",
              "  <thead>\n",
              "    <tr style=\"text-align: right;\">\n",
              "      <th></th>\n",
              "      <th>UserID</th>\n",
              "      <th>Age</th>\n",
              "      <th>city</th>\n",
              "      <th>state</th>\n",
              "      <th>country</th>\n",
              "    </tr>\n",
              "  </thead>\n",
              "  <tbody>\n",
              "    <tr>\n",
              "      <th>0</th>\n",
              "      <td>1</td>\n",
              "      <td>24</td>\n",
              "      <td>nyc</td>\n",
              "      <td>new york</td>\n",
              "      <td>usa</td>\n",
              "    </tr>\n",
              "    <tr>\n",
              "      <th>1</th>\n",
              "      <td>2</td>\n",
              "      <td>18</td>\n",
              "      <td>stockton</td>\n",
              "      <td>california</td>\n",
              "      <td>usa</td>\n",
              "    </tr>\n",
              "    <tr>\n",
              "      <th>2</th>\n",
              "      <td>3</td>\n",
              "      <td>24</td>\n",
              "      <td>moscow</td>\n",
              "      <td>yukon territory</td>\n",
              "      <td>russia</td>\n",
              "    </tr>\n",
              "    <tr>\n",
              "      <th>3</th>\n",
              "      <td>4</td>\n",
              "      <td>17</td>\n",
              "      <td>porto</td>\n",
              "      <td>v.n.gaia</td>\n",
              "      <td>portugal</td>\n",
              "    </tr>\n",
              "    <tr>\n",
              "      <th>4</th>\n",
              "      <td>5</td>\n",
              "      <td>24</td>\n",
              "      <td>farnborough</td>\n",
              "      <td>hants</td>\n",
              "      <td>united kingdom</td>\n",
              "    </tr>\n",
              "    <tr>\n",
              "      <th>...</th>\n",
              "      <td>...</td>\n",
              "      <td>...</td>\n",
              "      <td>...</td>\n",
              "      <td>...</td>\n",
              "      <td>...</td>\n",
              "    </tr>\n",
              "    <tr>\n",
              "      <th>278853</th>\n",
              "      <td>278854</td>\n",
              "      <td>24</td>\n",
              "      <td>portland</td>\n",
              "      <td>oregon</td>\n",
              "      <td>usa</td>\n",
              "    </tr>\n",
              "    <tr>\n",
              "      <th>278854</th>\n",
              "      <td>278855</td>\n",
              "      <td>50</td>\n",
              "      <td>tacoma</td>\n",
              "      <td>washington</td>\n",
              "      <td>united kingdom</td>\n",
              "    </tr>\n",
              "    <tr>\n",
              "      <th>278855</th>\n",
              "      <td>278856</td>\n",
              "      <td>24</td>\n",
              "      <td>brampton</td>\n",
              "      <td>ontario</td>\n",
              "      <td>canada</td>\n",
              "    </tr>\n",
              "    <tr>\n",
              "      <th>278856</th>\n",
              "      <td>278857</td>\n",
              "      <td>24</td>\n",
              "      <td>knoxville</td>\n",
              "      <td>tennessee</td>\n",
              "      <td>usa</td>\n",
              "    </tr>\n",
              "    <tr>\n",
              "      <th>278857</th>\n",
              "      <td>278858</td>\n",
              "      <td>24</td>\n",
              "      <td>dublin</td>\n",
              "      <td>n/a</td>\n",
              "      <td>ireland</td>\n",
              "    </tr>\n",
              "  </tbody>\n",
              "</table>\n",
              "<p>278858 rows × 5 columns</p>\n",
              "</div>"
            ],
            "text/plain": [
              "        UserID  Age         city             state          country\n",
              "0            1   24          nyc          new york              usa\n",
              "1            2   18     stockton        california              usa\n",
              "2            3   24       moscow   yukon territory           russia\n",
              "3            4   17        porto          v.n.gaia         portugal\n",
              "4            5   24  farnborough             hants   united kingdom\n",
              "...        ...  ...          ...               ...              ...\n",
              "278853  278854   24     portland            oregon              usa\n",
              "278854  278855   50       tacoma        washington   united kingdom\n",
              "278855  278856   24     brampton           ontario           canada\n",
              "278856  278857   24    knoxville         tennessee              usa\n",
              "278857  278858   24       dublin               n/a          ireland\n",
              "\n",
              "[278858 rows x 5 columns]"
            ]
          },
          "metadata": {
            "tags": []
          },
          "execution_count": 54
        }
      ]
    },
    {
      "cell_type": "code",
      "metadata": {
        "execution": {
          "iopub.execute_input": "2021-05-31T16:07:55.993007Z",
          "iopub.status.busy": "2021-05-31T16:07:55.992259Z",
          "iopub.status.idle": "2021-05-31T16:07:55.997498Z",
          "shell.execute_reply": "2021-05-31T16:07:55.998247Z",
          "shell.execute_reply.started": "2021-05-31T14:14:10.198709Z"
        },
        "papermill": {
          "duration": 0.07372,
          "end_time": "2021-05-31T16:07:55.998491",
          "exception": false,
          "start_time": "2021-05-31T16:07:55.924771",
          "status": "completed"
        },
        "tags": [],
        "colab": {
          "base_uri": "https://localhost:8080/",
          "height": 224
        },
        "id": "ZZoI5rBLyoLn",
        "outputId": "3e924fdf-31a3-4b40-ef01-a55c6256fdf4"
      },
      "source": [
        "print(ratings.shape)\n",
        "ratings.columns=['UserID','ISBN','Rating']\n",
        "ratings.head()"
      ],
      "id": "ZZoI5rBLyoLn",
      "execution_count": 55,
      "outputs": [
        {
          "output_type": "stream",
          "text": [
            "(1149780, 3)\n"
          ],
          "name": "stdout"
        },
        {
          "output_type": "execute_result",
          "data": {
            "text/html": [
              "<div>\n",
              "<style scoped>\n",
              "    .dataframe tbody tr th:only-of-type {\n",
              "        vertical-align: middle;\n",
              "    }\n",
              "\n",
              "    .dataframe tbody tr th {\n",
              "        vertical-align: top;\n",
              "    }\n",
              "\n",
              "    .dataframe thead th {\n",
              "        text-align: right;\n",
              "    }\n",
              "</style>\n",
              "<table border=\"1\" class=\"dataframe\">\n",
              "  <thead>\n",
              "    <tr style=\"text-align: right;\">\n",
              "      <th></th>\n",
              "      <th>UserID</th>\n",
              "      <th>ISBN</th>\n",
              "      <th>Rating</th>\n",
              "    </tr>\n",
              "  </thead>\n",
              "  <tbody>\n",
              "    <tr>\n",
              "      <th>0</th>\n",
              "      <td>276725</td>\n",
              "      <td>034545104X</td>\n",
              "      <td>0</td>\n",
              "    </tr>\n",
              "    <tr>\n",
              "      <th>1</th>\n",
              "      <td>276726</td>\n",
              "      <td>0155061224</td>\n",
              "      <td>5</td>\n",
              "    </tr>\n",
              "    <tr>\n",
              "      <th>2</th>\n",
              "      <td>276727</td>\n",
              "      <td>0446520802</td>\n",
              "      <td>0</td>\n",
              "    </tr>\n",
              "    <tr>\n",
              "      <th>3</th>\n",
              "      <td>276729</td>\n",
              "      <td>052165615X</td>\n",
              "      <td>3</td>\n",
              "    </tr>\n",
              "    <tr>\n",
              "      <th>4</th>\n",
              "      <td>276729</td>\n",
              "      <td>0521795028</td>\n",
              "      <td>6</td>\n",
              "    </tr>\n",
              "  </tbody>\n",
              "</table>\n",
              "</div>"
            ],
            "text/plain": [
              "   UserID        ISBN  Rating\n",
              "0  276725  034545104X       0\n",
              "1  276726  0155061224       5\n",
              "2  276727  0446520802       0\n",
              "3  276729  052165615X       3\n",
              "4  276729  0521795028       6"
            ]
          },
          "metadata": {
            "tags": []
          },
          "execution_count": 55
        }
      ]
    },
    {
      "cell_type": "code",
      "metadata": {
        "execution": {
          "iopub.execute_input": "2021-05-31T16:07:56.123000Z",
          "iopub.status.busy": "2021-05-31T16:07:56.122323Z",
          "iopub.status.idle": "2021-05-31T16:07:56.133882Z",
          "shell.execute_reply": "2021-05-31T16:07:56.133346Z",
          "shell.execute_reply.started": "2021-05-31T14:14:10.215009Z"
        },
        "papermill": {
          "duration": 0.075204,
          "end_time": "2021-05-31T16:07:56.134022",
          "exception": false,
          "start_time": "2021-05-31T16:07:56.058818",
          "status": "completed"
        },
        "tags": [],
        "colab": {
          "base_uri": "https://localhost:8080/"
        },
        "id": "f6ZLBO3WyoLn",
        "outputId": "80563be8-1884-42fa-ee4c-fbe8c8a8ed21"
      },
      "source": [
        "ratings['Rating'].unique()"
      ],
      "id": "f6ZLBO3WyoLn",
      "execution_count": 56,
      "outputs": [
        {
          "output_type": "execute_result",
          "data": {
            "text/plain": [
              "array([ 0,  5,  3,  6,  8,  7, 10,  9,  4,  1,  2])"
            ]
          },
          "metadata": {
            "tags": []
          },
          "execution_count": 56
        }
      ]
    },
    {
      "cell_type": "code",
      "metadata": {
        "execution": {
          "iopub.execute_input": "2021-05-31T16:07:56.258404Z",
          "iopub.status.busy": "2021-05-31T16:07:56.257745Z",
          "iopub.status.idle": "2021-05-31T16:07:56.941365Z",
          "shell.execute_reply": "2021-05-31T16:07:56.940830Z",
          "shell.execute_reply.started": "2021-05-31T14:14:10.240957Z"
        },
        "papermill": {
          "duration": 0.747703,
          "end_time": "2021-05-31T16:07:56.941514",
          "exception": false,
          "start_time": "2021-05-31T16:07:56.193811",
          "status": "completed"
        },
        "tags": [],
        "colab": {
          "base_uri": "https://localhost:8080/",
          "height": 423
        },
        "id": "mIMQKuicyoLn",
        "outputId": "15bdd88b-54f5-422d-ee57-bae372984ba8"
      },
      "source": [
        "filter1 = ratings[ratings[\"UserID\"].isin(users[\"UserID\"])] \n",
        "df_ratings=filter1[filter1[\"ISBN\"].isin(books[\"ISBN\"])] \n",
        "df=pd.merge(users,df_ratings,on='UserID')\n",
        "df"
      ],
      "id": "mIMQKuicyoLn",
      "execution_count": 57,
      "outputs": [
        {
          "output_type": "execute_result",
          "data": {
            "text/html": [
              "<div>\n",
              "<style scoped>\n",
              "    .dataframe tbody tr th:only-of-type {\n",
              "        vertical-align: middle;\n",
              "    }\n",
              "\n",
              "    .dataframe tbody tr th {\n",
              "        vertical-align: top;\n",
              "    }\n",
              "\n",
              "    .dataframe thead th {\n",
              "        text-align: right;\n",
              "    }\n",
              "</style>\n",
              "<table border=\"1\" class=\"dataframe\">\n",
              "  <thead>\n",
              "    <tr style=\"text-align: right;\">\n",
              "      <th></th>\n",
              "      <th>UserID</th>\n",
              "      <th>Age</th>\n",
              "      <th>city</th>\n",
              "      <th>state</th>\n",
              "      <th>country</th>\n",
              "      <th>ISBN</th>\n",
              "      <th>Rating</th>\n",
              "    </tr>\n",
              "  </thead>\n",
              "  <tbody>\n",
              "    <tr>\n",
              "      <th>0</th>\n",
              "      <td>2</td>\n",
              "      <td>18</td>\n",
              "      <td>stockton</td>\n",
              "      <td>california</td>\n",
              "      <td>usa</td>\n",
              "      <td>0195153448</td>\n",
              "      <td>0</td>\n",
              "    </tr>\n",
              "    <tr>\n",
              "      <th>1</th>\n",
              "      <td>8</td>\n",
              "      <td>24</td>\n",
              "      <td>timmins</td>\n",
              "      <td>ontario</td>\n",
              "      <td>canada</td>\n",
              "      <td>0002005018</td>\n",
              "      <td>5</td>\n",
              "    </tr>\n",
              "    <tr>\n",
              "      <th>2</th>\n",
              "      <td>8</td>\n",
              "      <td>24</td>\n",
              "      <td>timmins</td>\n",
              "      <td>ontario</td>\n",
              "      <td>canada</td>\n",
              "      <td>0060973129</td>\n",
              "      <td>0</td>\n",
              "    </tr>\n",
              "    <tr>\n",
              "      <th>3</th>\n",
              "      <td>8</td>\n",
              "      <td>24</td>\n",
              "      <td>timmins</td>\n",
              "      <td>ontario</td>\n",
              "      <td>canada</td>\n",
              "      <td>0374157065</td>\n",
              "      <td>0</td>\n",
              "    </tr>\n",
              "    <tr>\n",
              "      <th>4</th>\n",
              "      <td>8</td>\n",
              "      <td>24</td>\n",
              "      <td>timmins</td>\n",
              "      <td>ontario</td>\n",
              "      <td>canada</td>\n",
              "      <td>0393045218</td>\n",
              "      <td>0</td>\n",
              "    </tr>\n",
              "    <tr>\n",
              "      <th>...</th>\n",
              "      <td>...</td>\n",
              "      <td>...</td>\n",
              "      <td>...</td>\n",
              "      <td>...</td>\n",
              "      <td>...</td>\n",
              "      <td>...</td>\n",
              "      <td>...</td>\n",
              "    </tr>\n",
              "    <tr>\n",
              "      <th>1031127</th>\n",
              "      <td>278854</td>\n",
              "      <td>24</td>\n",
              "      <td>portland</td>\n",
              "      <td>oregon</td>\n",
              "      <td>usa</td>\n",
              "      <td>0425163393</td>\n",
              "      <td>7</td>\n",
              "    </tr>\n",
              "    <tr>\n",
              "      <th>1031128</th>\n",
              "      <td>278854</td>\n",
              "      <td>24</td>\n",
              "      <td>portland</td>\n",
              "      <td>oregon</td>\n",
              "      <td>usa</td>\n",
              "      <td>0515087122</td>\n",
              "      <td>0</td>\n",
              "    </tr>\n",
              "    <tr>\n",
              "      <th>1031129</th>\n",
              "      <td>278854</td>\n",
              "      <td>24</td>\n",
              "      <td>portland</td>\n",
              "      <td>oregon</td>\n",
              "      <td>usa</td>\n",
              "      <td>0553275739</td>\n",
              "      <td>6</td>\n",
              "    </tr>\n",
              "    <tr>\n",
              "      <th>1031130</th>\n",
              "      <td>278854</td>\n",
              "      <td>24</td>\n",
              "      <td>portland</td>\n",
              "      <td>oregon</td>\n",
              "      <td>usa</td>\n",
              "      <td>0553578596</td>\n",
              "      <td>0</td>\n",
              "    </tr>\n",
              "    <tr>\n",
              "      <th>1031131</th>\n",
              "      <td>278854</td>\n",
              "      <td>24</td>\n",
              "      <td>portland</td>\n",
              "      <td>oregon</td>\n",
              "      <td>usa</td>\n",
              "      <td>0553579606</td>\n",
              "      <td>8</td>\n",
              "    </tr>\n",
              "  </tbody>\n",
              "</table>\n",
              "<p>1031132 rows × 7 columns</p>\n",
              "</div>"
            ],
            "text/plain": [
              "         UserID  Age      city        state  country        ISBN  Rating\n",
              "0             2   18  stockton   california      usa  0195153448       0\n",
              "1             8   24   timmins      ontario   canada  0002005018       5\n",
              "2             8   24   timmins      ontario   canada  0060973129       0\n",
              "3             8   24   timmins      ontario   canada  0374157065       0\n",
              "4             8   24   timmins      ontario   canada  0393045218       0\n",
              "...         ...  ...       ...          ...      ...         ...     ...\n",
              "1031127  278854   24  portland       oregon      usa  0425163393       7\n",
              "1031128  278854   24  portland       oregon      usa  0515087122       0\n",
              "1031129  278854   24  portland       oregon      usa  0553275739       6\n",
              "1031130  278854   24  portland       oregon      usa  0553578596       0\n",
              "1031131  278854   24  portland       oregon      usa  0553579606       8\n",
              "\n",
              "[1031132 rows x 7 columns]"
            ]
          },
          "metadata": {
            "tags": []
          },
          "execution_count": 57
        }
      ]
    },
    {
      "cell_type": "code",
      "metadata": {
        "execution": {
          "iopub.execute_input": "2021-05-31T16:07:57.192213Z",
          "iopub.status.busy": "2021-05-31T16:07:57.191537Z",
          "iopub.status.idle": "2021-05-31T16:07:57.365755Z",
          "shell.execute_reply": "2021-05-31T16:07:57.366573Z",
          "shell.execute_reply.started": "2021-05-31T14:14:10.933449Z"
        },
        "papermill": {
          "duration": 0.244629,
          "end_time": "2021-05-31T16:07:57.366923",
          "exception": false,
          "start_time": "2021-05-31T16:07:57.122294",
          "status": "completed"
        },
        "tags": [],
        "colab": {
          "base_uri": "https://localhost:8080/",
          "height": 327
        },
        "id": "SQfRr2hoyoLo",
        "outputId": "ee2f99a0-8316-4f61-ce1f-e0768b79afcc"
      },
      "source": [
        "# Pie chart showing countries with most number of users \n",
        "my_dict=(df_ratings['Rating'].value_counts()).to_dict()\n",
        "count= pd.DataFrame(list(my_dict.items()),columns = ['c','count'])\n",
        "a = count.sort_values(by=['count'], ascending = False)\n",
        "a.head(7)\n",
        "labels = 'UserID: 153662','UserID: 11671','UserID: 98391','UserID: 198711','UserID: 35859'\n",
        "sizes = [count['count'].iloc[0],count['count'].iloc[1],count['count'].iloc[2],count['count'].iloc[3],count['count'].iloc[4]]\n",
        "explode = (0.1, 0.1, 0.1, 0.1,0.1)\n",
        "\n",
        "fig1 , ax1 = plt.subplots(figsize=(5,5))\n",
        "\n",
        "ax1.pie(sizes,\n",
        "        explode = explode,\n",
        "        labels = labels,\n",
        "        autopct = '%1.1f%%',\n",
        "        shadow = True,\n",
        "        startangle = 0)\n",
        "plt.title(\"UserIDs With Highest Number Of Rating\")\n",
        "ax1.axis ('equal')\n",
        "\n",
        "plt.show()"
      ],
      "id": "SQfRr2hoyoLo",
      "execution_count": 58,
      "outputs": [
        {
          "output_type": "display_data",
          "data": {
            "image/png": "[encoded data removed]",
            "text/plain": [
              "<Figure size 360x360 with 1 Axes>"
            ]
          },
          "metadata": {
            "tags": []
          }
        }
      ]
    },
    {
      "cell_type": "code",
      "metadata": {
        "execution": {
          "iopub.execute_input": "2021-05-31T16:07:57.606567Z",
          "iopub.status.busy": "2021-05-31T16:07:57.601778Z",
          "iopub.status.idle": "2021-05-31T16:07:57.920300Z",
          "shell.execute_reply": "2021-05-31T16:07:57.919788Z",
          "shell.execute_reply.started": "2021-05-31T14:14:11.109471Z"
        },
        "papermill": {
          "duration": 0.473929,
          "end_time": "2021-05-31T16:07:57.920461",
          "exception": false,
          "start_time": "2021-05-31T16:07:57.446532",
          "status": "completed"
        },
        "tags": [],
        "colab": {
          "base_uri": "https://localhost:8080/",
          "height": 429
        },
        "id": "z4sGcM_ayoLo",
        "outputId": "c1d8e490-6ee2-4835-ccf1-73061cf099f5"
      },
      "source": [
        "my_dict=(users['country'].value_counts()).to_dict()\n",
        "count= pd.DataFrame(list(my_dict.items()),columns = ['c','count'])\n",
        "f = count.sort_values(by=['count'], ascending = False)\n",
        "f = f.head(15)\n",
        "f.drop(7,inplace=True)\n",
        "fig=plt.figure(figsize=(10,5))\n",
        "ax = sns.barplot(y = 'count',x= 'c' , data = f)\n",
        "ax.set_xticklabels(ax.get_xticklabels(), rotation=90,horizontalalignment='center')\n",
        "for bar in ax.patches: \n",
        "    ax.annotate(format(bar.get_height(), '.0f'),  \n",
        "                   (bar.get_x() + bar.get_width() / 2,  \n",
        "                    bar.get_height()), ha='center', va='center', \n",
        "                   size=8, xytext=(0,8), \n",
        "                   textcoords='offset points') \n",
        "plt.xlabel(\"Country\", size=14)\n",
        "plt.ylabel(\"No of Users\", size=14)\n",
        "plt.title(\"Countries With Most Users\", size=18)\n",
        "plt.show()"
      ],
      "id": "z4sGcM_ayoLo",
      "execution_count": 59,
      "outputs": [
        {
          "output_type": "display_data",
          "data": {
            "image/png": "[encoded data removed]",
            "text/plain": [
              "<Figure size 720x360 with 1 Axes>"
            ]
          },
          "metadata": {
            "tags": [],
            "needs_background": "light"
          }
        }
      ]
    },
    {
      "cell_type": "code",
      "metadata": {
        "execution": {
          "iopub.execute_input": "2021-05-31T16:07:58.134402Z",
          "iopub.status.busy": "2021-05-31T16:07:58.133380Z",
          "iopub.status.idle": "2021-05-31T16:07:58.323449Z",
          "shell.execute_reply": "2021-05-31T16:07:58.322600Z",
          "shell.execute_reply.started": "2021-05-31T14:14:11.517116Z"
        },
        "papermill": {
          "duration": 0.339945,
          "end_time": "2021-05-31T16:07:58.323588",
          "exception": false,
          "start_time": "2021-05-31T16:07:57.983643",
          "status": "completed"
        },
        "tags": [],
        "colab": {
          "base_uri": "https://localhost:8080/",
          "height": 432
        },
        "id": "9kz5CEjdyoLp",
        "outputId": "5f1ba8b8-b89b-415f-a535-8efc22cd69f5"
      },
      "source": [
        "# Pie chart showing countries with most number of users \n",
        "my_dict=(users['country'].value_counts()).to_dict()\n",
        "count= pd.DataFrame(list(my_dict.items()),columns = ['c','count'])\n",
        "a = count.sort_values(by=['count'], ascending = False)\n",
        "a.head(7)\n",
        "labels = 'United Kingdom','Australia','USA','Germany','Italy','Canada','Spain'\n",
        "sizes = [count['count'].iloc[2],count['count'].iloc[5],count['count'].iloc[0],count['count'].iloc[3],count['count'].iloc[6],\n",
        "         count['count'].iloc[1],count['count'].iloc[4]]\n",
        "explode = (0.1, 0.1, 0.1, 0.1,0.1, 0.1,0.1 )\n",
        "\n",
        "fig1 , ax1 = plt.subplots(figsize=(7,7))\n",
        "\n",
        "ax1.pie(sizes,\n",
        "        explode = explode,\n",
        "        labels = labels,\n",
        "        autopct = '%1.1f%%',\n",
        "        shadow = True,\n",
        "        startangle = 0)\n",
        "plt.title(\"Top 7 Countries With the Most Users\")\n",
        "ax1.axis ('equal')\n",
        "\n",
        "plt.show()"
      ],
      "id": "9kz5CEjdyoLp",
      "execution_count": 60,
      "outputs": [
        {
          "output_type": "display_data",
          "data": {
            "image/png": "[encoded data removed]",
            "text/plain": [
              "<Figure size 504x504 with 1 Axes>"
            ]
          },
          "metadata": {
            "tags": []
          }
        }
      ]
    },
    {
      "cell_type": "code",
      "metadata": {
        "execution": {
          "iopub.execute_input": "2021-05-31T16:07:58.521850Z",
          "iopub.status.busy": "2021-05-31T16:07:58.521188Z",
          "iopub.status.idle": "2021-05-31T16:08:33.947014Z",
          "shell.execute_reply": "2021-05-31T16:08:33.947559Z",
          "shell.execute_reply.started": "2021-05-31T14:14:11.789369Z"
        },
        "papermill": {
          "duration": 35.55941,
          "end_time": "2021-05-31T16:08:33.947734",
          "exception": false,
          "start_time": "2021-05-31T16:07:58.388324",
          "status": "completed"
        },
        "tags": [],
        "colab": {
          "base_uri": "https://localhost:8080/",
          "height": 423
        },
        "id": "p5x5iHIzyoLp",
        "outputId": "475ada17-8b08-4bac-faef-e364febe1b50"
      },
      "source": [
        "coun=[]\n",
        "for country in df[\"country\"].unique():\n",
        "    coun.append(country)\n",
        "import pycountry\n",
        "def do_fuzzy_search(country):\n",
        "    result = pycountry.countries.search_fuzzy(country)\n",
        "    return result[0].alpha_3\n",
        "iso_map=[]\n",
        "c=[]\n",
        "for i in coun:\n",
        "    try:\n",
        "        iso_map.append(do_fuzzy_search(i))\n",
        "        c.append(i)\n",
        "    except:\n",
        "        iso_map.append('unknown')\n",
        "        c.append(i)\n",
        "        continue\n",
        "df1=pd.DataFrame(iso_map,c,columns=['code'])\n",
        "df1"
      ],
      "id": "p5x5iHIzyoLp",
      "execution_count": 61,
      "outputs": [
        {
          "output_type": "execute_result",
          "data": {
            "text/html": [
              "<div>\n",
              "<style scoped>\n",
              "    .dataframe tbody tr th:only-of-type {\n",
              "        vertical-align: middle;\n",
              "    }\n",
              "\n",
              "    .dataframe tbody tr th {\n",
              "        vertical-align: top;\n",
              "    }\n",
              "\n",
              "    .dataframe thead th {\n",
              "        text-align: right;\n",
              "    }\n",
              "</style>\n",
              "<table border=\"1\" class=\"dataframe\">\n",
              "  <thead>\n",
              "    <tr style=\"text-align: right;\">\n",
              "      <th></th>\n",
              "      <th>code</th>\n",
              "    </tr>\n",
              "  </thead>\n",
              "  <tbody>\n",
              "    <tr>\n",
              "      <th>usa</th>\n",
              "      <td>USA</td>\n",
              "    </tr>\n",
              "    <tr>\n",
              "      <th>canada</th>\n",
              "      <td>CAN</td>\n",
              "    </tr>\n",
              "    <tr>\n",
              "      <th>spain</th>\n",
              "      <td>ESP</td>\n",
              "    </tr>\n",
              "    <tr>\n",
              "      <th></th>\n",
              "      <td>GBR</td>\n",
              "    </tr>\n",
              "    <tr>\n",
              "      <th>germany</th>\n",
              "      <td>DEU</td>\n",
              "    </tr>\n",
              "    <tr>\n",
              "      <th>...</th>\n",
              "      <td>...</td>\n",
              "    </tr>\n",
              "    <tr>\n",
              "      <th>andalucia</th>\n",
              "      <td>ESP</td>\n",
              "    </tr>\n",
              "    <tr>\n",
              "      <th>mozambique</th>\n",
              "      <td>MOZ</td>\n",
              "    </tr>\n",
              "    <tr>\n",
              "      <th>angola</th>\n",
              "      <td>AGO</td>\n",
              "    </tr>\n",
              "    <tr>\n",
              "      <th>italy\"</th>\n",
              "      <td>unknown</td>\n",
              "    </tr>\n",
              "    <tr>\n",
              "      <th>hernando</th>\n",
              "      <td>unknown</td>\n",
              "    </tr>\n",
              "  </tbody>\n",
              "</table>\n",
              "<p>407 rows × 1 columns</p>\n",
              "</div>"
            ],
            "text/plain": [
              "                code\n",
              " usa             USA\n",
              " canada          CAN\n",
              " spain           ESP\n",
              "                 GBR\n",
              " germany         DEU\n",
              "...              ...\n",
              " andalucia       ESP\n",
              " mozambique      MOZ\n",
              " angola          AGO\n",
              " italy\"      unknown\n",
              " hernando    unknown\n",
              "\n",
              "[407 rows x 1 columns]"
            ]
          },
          "metadata": {
            "tags": []
          },
          "execution_count": 61
        }
      ]
    },
    {
      "cell_type": "code",
      "metadata": {
        "execution": {
          "iopub.execute_input": "2021-05-31T16:08:34.086390Z",
          "iopub.status.busy": "2021-05-31T16:08:34.085743Z",
          "iopub.status.idle": "2021-05-31T16:12:00.469584Z",
          "shell.execute_reply": "2021-05-31T16:12:00.469034Z",
          "shell.execute_reply.started": "2021-05-31T14:14:46.152424Z"
        },
        "papermill": {
          "duration": 206.457006,
          "end_time": "2021-05-31T16:12:00.469743",
          "exception": false,
          "start_time": "2021-05-31T16:08:34.012737",
          "status": "completed"
        },
        "tags": [],
        "id": "E6rb8CA2yoLp"
      },
      "source": [
        "l=list(df1.index)\n",
        "country_code=[]\n",
        "for i in df['country']:\n",
        "    if i in l:\n",
        "        country_code.append(df1['code'].loc[df1.index==i][0])\n",
        "df['Country_Code'] = np.array(country_code)"
      ],
      "id": "E6rb8CA2yoLp",
      "execution_count": 62,
      "outputs": []
    },
    {
      "cell_type": "code",
      "metadata": {
        "execution": {
          "iopub.execute_input": "2021-05-31T16:12:00.603442Z",
          "iopub.status.busy": "2021-05-31T16:12:00.602470Z",
          "iopub.status.idle": "2021-05-31T16:12:03.216658Z",
          "shell.execute_reply": "2021-05-31T16:12:03.217107Z",
          "shell.execute_reply.started": "2021-05-31T14:18:07.301117Z"
        },
        "papermill": {
          "duration": 2.682131,
          "end_time": "2021-05-31T16:12:03.217272",
          "exception": false,
          "start_time": "2021-05-31T16:12:00.535141",
          "status": "completed"
        },
        "tags": [],
        "colab": {
          "base_uri": "https://localhost:8080/",
          "height": 542
        },
        "id": "ntVlMEVqyoLq",
        "outputId": "868c4642-c64b-43e1-8ec4-65bec699b18f"
      },
      "source": [
        "import pycountry\n",
        "grouped = df.groupby(['Country_Code','country'])\n",
        "avg=pd.DataFrame(grouped['Rating'].agg(np.mean))\n",
        "avg.reset_index(inplace=True)\n",
        "avg.columns=['Country Code','Country','Average Rating']\n",
        "import plotly.express as px\n",
        "fig = px.choropleth(avg, locations=avg['Country Code'],color=avg['Average Rating'],hover_name=avg['Country'],\n",
        "                    color_continuous_scale=px.colors.sequential.Plasma)\n",
        "fig.show()"
      ],
      "id": "ntVlMEVqyoLq",
      "execution_count": 63,
      "outputs": [
        {
          "output_type": "display_data",
          "data": {
            "text/html": [
              "<html>\n",
              "<head><meta charset=\"utf-8\" /></head>\n",
              "<body>\n",
              "    <div>\n",
              "            <script src=\"https://cdnjs.cloudflare.com/ajax/libs/mathjax/2.7.5/MathJax.js?config=TeX-AMS-MML_SVG\"></script><script type=\"text/javascript\">if (window.MathJax) {MathJax.Hub.Config({SVG: {font: \"STIX-Web\"}});}</script>\n",
              "                <script type=\"text/javascript\">window.PlotlyConfig = {MathJaxConfig: 'local'};</script>\n",
              "        <script src=\"https://cdn.plot.ly/plotly-latest.min.js\"></script>    \n",
              "            <div id=\"b24d1780-5a4b-470c-bde5-85d6285352fc\" class=\"plotly-graph-div\" style=\"height:525px; width:100%;\"></div>\n",
              "            <script type=\"text/javascript\">\n",
              "                \n",
              "                    window.PLOTLYENV=window.PLOTLYENV || {};\n",
              "                    \n",
              "                if (document.getElementById(\"b24d1780-5a4b-470c-bde5-85d6285352fc\")) {\n",
              "                    Plotly.newPlot(\n",
              "                        'b24d1780-5a4b-470c-bde5-85d6285352fc',\n",
              "                        [{\"coloraxis\": \"coloraxis\", \"geo\": \"geo\", \"hoverlabel\": {\"namelength\": 0}, \"hovertemplate\": \"<b>%{hovertext}</b><br><br>Country Code=%{location}<br>Average Rating=%{z}\", \"hovertext\": [\" aruba\", \" afghanistan\", \" angola\", \" albania\", \" andorra\", \" united arab emirates\", \" argentina\", \" america\", \" antarctica\", \" antigua and barbuda\", \" australia\", \" australian capital territory\", \" new south wales\", \" queensland\", \" south australia\", \" tasmania\", \" victoria\", \" austria\", \" x\", \" belgium\", \" benin\", \" collin\", \" burkina faso\", \" bangladesh\", \" c\", \" bulgaria\", \" montana\", \" bahrain\", \" bahamas\", \" bosnia and herzegovina\", \" belize\", \" bermuda\", \" bolivia\", \" brazil\", \" barbados\", \" brunei\", \" alberta\", \" british columbia\", \" ca\", \" canada\", \" new brunswick\", \" newfoundland\", \" nova scotia\", \" nsw\", \" ontario\", \" quebec\", \" saskatchewan\", \"quebec\", \" stadt\", \" switzerland\", \" chile\", \" china\", \" shanghai\", \" cameroon\", \" colombia\", \" costa rica\", \" cuba\", \" cayman islands\", \" cyprus\", \" czech republic\", \" bayern\", \" berlin\", \" germany\", \" niedersachsen\", \" denmark\", \" dominican republic\", \" algeria\", \" ecuador\", \" egypt\", \" almer\\u00eda\", \" andalucia\", \" catalunya\", \" euskal herria\", \" gipuzkoa\", \" granada\", \" lleida\", \" madrid\", \" pais vasco\", \" pontevedra\", \" spain\", \" \\u00e1lava\", \" estonia\", \" ethiopia\", \" finland\", \" p\\u00e4ij\\u00e4t-h\\u00e4me\", \" fiji\", \" bourgogne\", \" france\", \" paris\", \" quit\", \" gabon\", \"\", \" \", \" aberdeenshire\", \" cambridgeshire\", \" camden\", \" csa\", \" dc\", \" england\", \" morgan\", \" north yorkshire\", \" nottinghamshire\", \" scotland\", \" united kingdom\", \" wales\", \" worcester\", \" georgia\", \" guernsey\", \" ghana\", \" guinea\", \" gambia\", \" guinea-bissau\", \" greece\", \" grenada\", \" guatemala\", \" hong kong\", \" francisco morazan\", \" honduras\", \" croatia\", \" haiti\", \" hungary\", \" indonesia\", \" india\", \" ireland\", \" iran\", \" iraq\", \" ysa\", \" iceland\", \" il\", \" israel\", \" ferrara\", \" italia\", \" italy\", \" venezia giulia\", \" jamaica\", \" jersey\", \" japan\", \" okinawa\", \" kazakhstan\", \" kenya\", \" cambodia\", \" seoul\", \" kuwait\", \" lebanon\", \" maryland\", \" saint lucia\", \" sri lanka\", \" lithuania\", \" luxembourg\", \" latvia\", \" morocco\", \" monaco\", \" moldova\", \" madagascar\", \" mexico\", \" marshall islands\", \" macedonia\", \" malta\", \" mongolia\", \" mozambique\", \" mauritius\", \" kedah\", \" malaysia\", \" niger\", \" nigeria\", \" netherlands\", \" norway\", \" nepal\", \" auckland\", \" new zealand\", \" nz\", \" otago\", \" south island\", \" oman\", \" pakistan\", \" panama\", \" republic of panama\", \" peru\", \" philippines\", \" palau\", \" papua new guinea\", \" poland\", \" puerto rico\", \" portugal\", \" paraguay\", \" qatar\", \" eu\", \" romania\", \" russia\", \" rwanda\", \" saudi arabia\", \" senegal\", \" singapore\", \" solomon islands\", \" el salvador\", \" kosovo\", \" slovakia\", \" slovenia\", \" sweden\", \" syria\", \" thailand\", \" tajikistan\", \" turkmenistan\", \" tonga\", \" trinidad and tobago\", \" tn\", \" tunisia\", \" turkey\", \" taiwan\", \" tanzania\", \" uganda\", \" ua\", \" uk\", \" ukraine\", \" urugua\", \" uruguay\", \" alabama\", \" alaska\", \" arizona\", \" arkansas\", \" california\", \" colorado\", \" connecticut\", \" district of columbia\", \" florida\", \" hawaii\", \" idaho\", \" illinois\", \" indiana\", \" iowa\", \" kansas\", \" louisiana\", \" maine\", \" massachusetts\", \" michigan\", \" minnesota\", \" missouri\", \" nebraska\", \" nevada\", \" new hampshire\", \" new jersey\", \" new mexico\", \" new york\", \" north carolina\", \" north dakota\", \" ohio\", \" oklahoma\", \" oregon\", \" pennsylvania\", \" rhode island\", \" south dakota\", \" tennessee\", \" texas\", \" united state\", \" united states\", \" united states of america\", \" us\", \" usa\", \" virginia\", \" washington\", \" west virginia\", \" wisconsin\", \"usa\", \" uzbekistan\", \" venezuela\", \" vietnam\", \" samoa\", \" south africa\", \" zambia\", \" zimbabwe\", \" \\\\\\\"n/a\\\\\\\"\\\"\", \" \\\\n/a\\\\\\\"\", \" alachua\", \" alderney\", \" anystate\", \" argentina\\\"\", \" aroostook\", \" austin\", \" baden-wuerttemberg\", \" bc\", \" belgium\\\"\", \" bergued\\u00e0\", \" burlington\", \" burma\", \" ca.\", \" cananda\", \" canary islands\", \" cape verde\", \" caribbean sea\", \" catalonia\", \" catalunya spain\", \" cherokee\", \" china\\\"\", \" co. carlow\", \" county cork\", \" county galway\", \" croatia\\\"\", \" d.c.\", \" denmark\\\"\", \" deutschland\", \" disrito federal\", \" ee.uu\", \" espa\\u00f1a\", \" etel\\u00e4-suomi\", \" everywhere and anywhere\", \" far away...\", \" finland\\\"\", \" fort bend\", \" framingham\", \" france\\\"\", \" galiza\", \" galiza neghra\", \" germany\\\"\", \" hagiwara\", \" here and there\", \" hernando\", \" hungary and usa\", \" hungary\\\"\", \" ile de france\", \" in europe\", \" ireland\\\"\", \" italy\\\"\", \" k1c7b1\", \" kalamazoo\", \" kern\", \" l`italia\", \" la belgique\", \" la chine \\u00e9ternelle !\", \" la chine \\u00e9ternelle!\", \" la france\", \" la suisse\", \" laos\", \" lk ammerland\", \" lkjlj\", \" los estados unidos de norte america\", \" luxembourg\\\"\", \" macau\", \" maracopa\", \" maricopa\", \" metro manila\", \" mexico\\\"\", \" middlesex\", \" n/a\", \" n/a - on the road\", \" netherlands\\\"\", \" new zealand\\\"\", \" north sumatera\", \" norway\\\"\", \" obviously\", \" oeiras\", \" onondaga nation\", \" orange co\", \" orense\", \" ouranos\", \" pender\", \" petrolwar nation\", \" philippines\\\"\", \" phillipines\", \" polk\", \" portugal\\\"\", \" prince william\", \" richmond country\", \" rutherford\", \" saint loius\", \" san franicsco\", \" san mateo\", \" shelby\", \" south korea\", \" south korea\\\"\", \" space\", \" spain\\\"\", \" st. helena\", \" st.gallen\", \" st.thomasi\", \" sweden\\\"\", \" switzerland\\\"\", \" tdzimi\", \" thailand\\\"\", \" the great white north\", \" travelling....\", \" turkey\\\"\", \" u.a.e\", \" u.k.\", \" u.s. of a.\", \" u.s.a.\", \" u.s.a>\", \" u.s>\", \" united kindgonm\", \" united kingdom\\\"\", \" united sates\", \" united staes\", \" universe\", \" unknown\", \" usa & canada\", \" usa (currently living in england)\", \" usa now\", \" v9v 1h4\", \" van wert\", \" ventura county\", \" we`re global!\", \" west indies\", \" west yorkshire\", \" yu-song\", \" yugoslavia\", \" zapopan\", \"\\\"\", \"61 men\"], \"locations\": [\"ABW\", \"AFG\", \"AGO\", \"ALB\", \"AND\", \"ARE\", \"ARG\", \"ASM\", \"ATA\", \"ATG\", \"AUS\", \"AUS\", \"AUS\", \"AUS\", \"AUS\", \"AUS\", \"AUS\", \"AUT\", \"AZE\", \"BEL\", \"BEN\", \"BEN\", \"BFA\", \"BGD\", \"BGD\", \"BGR\", \"BGR\", \"BHR\", \"BHS\", \"BIH\", \"BLZ\", \"BMU\", \"BOL\", \"BRA\", \"BRB\", \"BRN\", \"CAN\", \"CAN\", \"CAN\", \"CAN\", \"CAN\", \"CAN\", \"CAN\", \"CAN\", \"CAN\", \"CAN\", \"CAN\", \"CAN\", \"CHE\", \"CHE\", \"CHL\", \"CHN\", \"CHN\", \"CMR\", \"COL\", \"CRI\", \"CUB\", \"CYM\", \"CYP\", \"CZE\", \"DEU\", \"DEU\", \"DEU\", \"DEU\", \"DNK\", \"DOM\", \"DZA\", \"ECU\", \"EGY\", \"ESP\", \"ESP\", \"ESP\", \"ESP\", \"ESP\", \"ESP\", \"ESP\", \"ESP\", \"ESP\", \"ESP\", \"ESP\", \"ESP\", \"EST\", \"ETH\", \"FIN\", \"FIN\", \"FJI\", \"FRA\", \"FRA\", \"FRA\", \"FRA\", \"GAB\", \"GBR\", \"GBR\", \"GBR\", \"GBR\", \"GBR\", \"GBR\", \"GBR\", \"GBR\", \"GBR\", \"GBR\", \"GBR\", \"GBR\", \"GBR\", \"GBR\", \"GBR\", \"GEO\", \"GGY\", \"GHA\", \"GIN\", \"GMB\", \"GNB\", \"GRC\", \"GRD\", \"GTM\", \"HKG\", \"HND\", \"HND\", \"HRV\", \"HTI\", \"HUN\", \"IDN\", \"IND\", \"IRL\", \"IRN\", \"IRQ\", \"IRQ\", \"ISL\", \"ISR\", \"ISR\", \"ITA\", \"ITA\", \"ITA\", \"ITA\", \"JAM\", \"JEY\", \"JPN\", \"JPN\", \"KAZ\", \"KEN\", \"KHM\", \"KOR\", \"KWT\", \"LBN\", \"LBR\", \"LCA\", \"LKA\", \"LTU\", \"LUX\", \"LVA\", \"MAR\", \"MCO\", \"MDA\", \"MDG\", \"MEX\", \"MHL\", \"MKD\", \"MLT\", \"MNG\", \"MOZ\", \"MUS\", \"MYS\", \"MYS\", \"NGA\", \"NGA\", \"NLD\", \"NOR\", \"NPL\", \"NZL\", \"NZL\", \"NZL\", \"NZL\", \"NZL\", \"OMN\", \"PAK\", \"PAN\", \"PAN\", \"PER\", \"PHL\", \"PLW\", \"PNG\", \"POL\", \"PRI\", \"PRT\", \"PRY\", \"QAT\", \"REU\", \"ROU\", \"RUS\", \"RWA\", \"SAU\", \"SEN\", \"SGP\", \"SLB\", \"SLV\", \"SRB\", \"SVK\", \"SVN\", \"SWE\", \"SYR\", \"THA\", \"TJK\", \"TKM\", \"TON\", \"TTO\", \"TUN\", \"TUN\", \"TUR\", \"TWN\", \"TZA\", \"UGA\", \"UKR\", \"UKR\", \"UKR\", \"URY\", \"URY\", \"USA\", \"USA\", \"USA\", \"USA\", \"USA\", \"USA\", \"USA\", \"USA\", \"USA\", \"USA\", \"USA\", \"USA\", \"USA\", \"USA\", \"USA\", \"USA\", \"USA\", \"USA\", \"USA\", \"USA\", \"USA\", \"USA\", \"USA\", \"USA\", \"USA\", \"USA\", \"USA\", \"USA\", \"USA\", \"USA\", \"USA\", \"USA\", \"USA\", \"USA\", \"USA\", \"USA\", \"USA\", \"USA\", \"USA\", \"USA\", \"USA\", \"USA\", \"USA\", \"USA\", \"USA\", \"USA\", \"USA\", \"UZB\", \"VEN\", \"VNM\", \"WSM\", \"ZAF\", \"ZMB\", \"ZWE\", \"unknown\", \"unknown\", \"unknown\", \"unknown\", \"unknown\", \"unknown\", \"unknown\", \"unknown\", \"unknown\", \"unknown\", \"unknown\", \"unknown\", \"unknown\", \"unknown\", \"unknown\", \"unknown\", \"unknown\", \"unknown\", \"unknown\", \"unknown\", \"unknown\", \"unknown\", \"unknown\", \"unknown\", \"unknown\", \"unknown\", \"unknown\", \"unknown\", \"unknown\", \"unknown\", \"unknown\", \"unknown\", \"unknown\", \"unknown\", \"unknown\", \"unknown\", \"unknown\", \"unknown\", \"unknown\", \"unknown\", \"unknown\", \"unknown\", \"unknown\", \"unknown\", \"unknown\", \"unknown\", \"unknown\", \"unknown\", \"unknown\", \"unknown\", \"unknown\", \"unknown\", \"unknown\", \"unknown\", \"unknown\", \"unknown\", \"unknown\", \"unknown\", \"unknown\", \"unknown\", \"unknown\", \"unknown\", \"unknown\", \"unknown\", \"unknown\", \"unknown\", \"unknown\", \"unknown\", \"unknown\", \"unknown\", \"unknown\", \"unknown\", \"unknown\", \"unknown\", \"unknown\", \"unknown\", \"unknown\", \"unknown\", \"unknown\", \"unknown\", \"unknown\", \"unknown\", \"unknown\", \"unknown\", \"unknown\", \"unknown\", \"unknown\", \"unknown\", \"unknown\", \"unknown\", \"unknown\", \"unknown\", \"unknown\", \"unknown\", \"unknown\", \"unknown\", \"unknown\", \"unknown\", \"unknown\", \"unknown\", \"unknown\", \"unknown\", \"unknown\", \"unknown\", \"unknown\", \"unknown\", \"unknown\", \"unknown\", \"unknown\", \"unknown\", \"unknown\", \"unknown\", \"unknown\", \"unknown\", \"unknown\", \"unknown\", \"unknown\", \"unknown\", \"unknown\", \"unknown\", \"unknown\", \"unknown\", \"unknown\", \"unknown\", \"unknown\", \"unknown\", \"unknown\", \"unknown\", \"unknown\", \"unknown\", \"unknown\", \"unknown\", \"unknown\", \"unknown\", \"unknown\", \"unknown\", \"unknown\"], \"name\": \"\", \"type\": \"choropleth\", \"z\": [3.891472868217054, 4.0, 8.0, 2.6, 3.6842105263157894, 5.5, 5.201520912547529, 5.0, 7.072727272727272, 9.0, 2.8574173712528825, 9.0, 4.75, 2.5, 7.0, 5.0, 1.3333333333333333, 2.9632536567962897, 0.0, 4.397496087636933, 2.6666666666666665, 0.0, 0.0, 9.0, 10.0, 2.5276073619631902, 3.5, 1.7692307692307692, 3.962962962962963, 0.0, 2.8181818181818183, 4.16, 5.0, 3.634989200863931, 6.5, 4.25, 8.2, 4.111111111111111, 10.0, 2.8729202092167285, 5.75, 8.0, 3.0, 2.0, 1.5789473684210527, 0.0, 4.555555555555555, 8.0, 0.0, 3.3904716303567155, 3.566666666666667, 3.981878088962109, 0.0, 9.0, 3.3, 2.228187919463087, 3.0555555555555554, 4.666666666666667, 2.033333333333333, 2.9223300970873787, 0.0, 4.0, 3.258696752730166, 6.0, 2.646153846153846, 3.619718309859155, 6.0, 7.166666666666667, 2.888888888888889, 10.0, 6.6, 4.76, 5.285714285714286, 4.0, 0.0, 1.6666666666666667, 0.0, 0.0, 8.0, 3.506160303276469, 8.0, 2.0, 0.0, 2.1135407905803194, 0.0, 8.5, 0.0, 3.309754491581225, 9.0, 5.833333333333333, 6.5, 3.251415442684828, 3.232876712328767, 3.857142857142857, 3.254385964912281, 7.0, 1.0, 3.0256410256410255, 2.6736736736736737, 2.25, 7.0, 10.0, 2.5625, 3.4508125, 1.96875, 8.0, 3.25, 2.0833333333333335, 7.6, 6.25, 0.0, 4.0, 3.4404145077720205, 3.375, 7.444444444444445, 2.8482758620689657, 10.0, 5.111111111111111, 5.722222222222222, 0.0, 4.825, 3.375, 4.533333333333333, 3.6856465005931196, 2.2528805336567617, 0.0, 4.666666666666667, 5.693548387096774, 8.0, 4.105, 5.0, 2.6666666666666665, 3.3158808215215503, 7.0, 2.6666666666666665, 6.2, 3.6047197640117994, 4.479166666666667, 4.363636363636363, 3.875, 3.0, 4.0, 4.064285714285714, 8.0, 3.3333333333333335, 3.5416666666666665, 1.0909090909090908, 6.620689655172414, 3.702127659574468, 1.6666666666666667, 6.0, 7.666666666666667, 2.6, 3.1818181818181817, 4.380471380471381, 0.0, 8.333333333333334, 3.857142857142857, 10.0, 8.0, 10.0, 4.333333333333333, 3.158280507131537, 7.5, 5.8, 2.770175085530288, 5.15979381443299, 6.0, 8.0, 2.361771058315335, 4.235294117647059, 6.0, 0.0, 1.3333333333333333, 4.0625, 2.533333333333333, 7.0, 3.0, 6.2368421052631575, 8.0, 4.5625, 3.5198863636363638, 5.0, 3.8064704167881085, 6.0, 1.1164179104477612, 4.5, 3.6378424657534247, 1.8235294117647058, 0.0, 5.777777777777778, 0.0, 4.757628596338273, 0.0, 8.0, 9.0, 2.764705882352941, 4.82, 3.299610894941634, 0.0, 6.7, 8.0, 8.0, 8.0, 7.027777777777778, 4.333333333333333, 4.666666666666667, 4.39344262295082, 3.1553398058252426, 2.875, 7.0, 10.0, 4.166666666666667, 4.9375, 5.0, 6.285714285714286, 2.6666666666666665, 7.0, 5.25, 5.0, 5.2727272727272725, 9.0, 4.0, 2.0, 5.974683544303797, 3.8, 5.3076923076923075, 2.1666666666666665, 5.75, 7.5, 2.8333333333333335, 0.0, 4.333333333333333, 5.333333333333333, 4.25, 6.0, 4.2, 3.5, 10.0, 10.0, 2.6666666666666665, 4.363636363636363, 2.275482093663912, 3.5294117647058822, 0.0, 4.184986595174263, 7.5, 5.238095238095238, 0.0, 9.0, 4.666666666666667, 3.9166666666666665, 5.111111111111111, 3.520661157024793, 3.1774193548387095, 5.0, 2.7285223367697595, 2.697759816823318, 2.6262626262626263, 4.5, 0.0, 7.0, 10.0, 2.0, 6.333333333333333, 6.0, 0.0, 3.895, 7.0, 0.8823529411764706, 4.0, 9.0, 1.3333333333333333, 4.333333333333333, 10.0, 0.0, 7.0, 8.0, 0.0, 8.0, 0.0, 6.0, 0.0, 3.727272727272727, 4.5, 8.0, 3.4502923976608186, 3.0, 7.5, 6.6923076923076925, 7.0, 4.0, 0.0, 2.0, 4.0, 0.0, 5.0, 0.0, 2.6666666666666665, 6.230769230769231, 9.2, 0.0, 3.375, 7.0, 7.2, 4.9655172413793105, 8.0, 7.666666666666667, 8.6, 5.888888888888889, 1.7777777777777777, 0.0, 4.0, 0.0, 4.25, 0.0, 0.0, 7.0, 4.0, 5.0, 3.5, 6.0, 9.0, 0.0, 7.0, 3.6666666666666665, 3.0, 0.0, 1.4285714285714286, 3.4, 10.0, 5.590909090909091, 0.0, 8.0, 6.0, 3.0, 0.0, 8.0, 2.5, 6.5, 10.0, 8.0, 4.576507369361322, 4.8076923076923075, 4.75, 4.875, 0.0, 6.0, 2.5, 2.2, 0.0, 9.0, 3.6666666666666665, 0.0, 5.0, 8.0, 8.0, 6.826666666666667, 2.6666666666666665, 7.25, 0.0, 7.0, 4.333333333333333, 5.0, 0.0, 0.0, 9.5, 5.2105263157894735, 0.0, 4.5, 4.0, 4.0, 0.0, 8.0, 1.0, 5.5, 10.0, 0.0, 0.0, 5.0, 5.0, 4.0, 5.333333333333333, 6.0, 3.6551724137931036, 8.0, 9.333333333333334, 4.2727272727272725, 4.0, 5.0, 10.0, 6.067961165048544, 10.0, 10.0, 9.0, 9.0, 8.0, 4.75, 0.0, 0.0, 3.6666666666666665, 8.806451612903226, 0.0, 4.833333333333333, 0.0, 0.0, 0.0]}],\n",
              "                        {\"coloraxis\": {\"colorbar\": {\"title\": {\"text\": \"Average Rating\"}}, \"colorscale\": [[0.0, \"#0d0887\"], [0.1111111111111111, \"#46039f\"], [0.2222222222222222, \"#7201a8\"], [0.3333333333333333, \"#9c179e\"], [0.4444444444444444, \"#bd3786\"], [0.5555555555555556, \"#d8576b\"], [0.6666666666666666, \"#ed7953\"], [0.7777777777777778, \"#fb9f3a\"], [0.8888888888888888, \"#fdca26\"], [1.0, \"#f0f921\"]]}, \"geo\": {\"center\": {}, \"domain\": {\"x\": [0.0, 1.0], \"y\": [0.0, 1.0]}}, \"legend\": {\"tracegroupgap\": 0}, \"margin\": {\"t\": 60}, \"template\": {\"data\": {\"bar\": [{\"error_x\": {\"color\": \"#2a3f5f\"}, \"error_y\": {\"color\": \"#2a3f5f\"}, \"marker\": {\"line\": {\"color\": \"#E5ECF6\", \"width\": 0.5}}, \"type\": \"bar\"}], \"barpolar\": [{\"marker\": {\"line\": {\"color\": \"#E5ECF6\", \"width\": 0.5}}, \"type\": \"barpolar\"}], \"carpet\": [{\"aaxis\": {\"endlinecolor\": \"#2a3f5f\", \"gridcolor\": \"white\", \"linecolor\": \"white\", \"minorgridcolor\": \"white\", \"startlinecolor\": \"#2a3f5f\"}, \"baxis\": {\"endlinecolor\": \"#2a3f5f\", \"gridcolor\": \"white\", \"linecolor\": \"white\", \"minorgridcolor\": \"white\", \"startlinecolor\": \"#2a3f5f\"}, \"type\": \"carpet\"}], \"choropleth\": [{\"colorbar\": {\"outlinewidth\": 0, \"ticks\": \"\"}, \"type\": \"choropleth\"}], \"contour\": [{\"colorbar\": {\"outlinewidth\": 0, \"ticks\": \"\"}, \"colorscale\": [[0.0, \"#0d0887\"], [0.1111111111111111, \"#46039f\"], [0.2222222222222222, \"#7201a8\"], [0.3333333333333333, \"#9c179e\"], [0.4444444444444444, \"#bd3786\"], [0.5555555555555556, \"#d8576b\"], [0.6666666666666666, \"#ed7953\"], [0.7777777777777778, \"#fb9f3a\"], [0.8888888888888888, \"#fdca26\"], [1.0, \"#f0f921\"]], \"type\": \"contour\"}], \"contourcarpet\": [{\"colorbar\": {\"outlinewidth\": 0, \"ticks\": \"\"}, \"type\": \"contourcarpet\"}], \"heatmap\": [{\"colorbar\": {\"outlinewidth\": 0, \"ticks\": \"\"}, \"colorscale\": [[0.0, \"#0d0887\"], [0.1111111111111111, \"#46039f\"], [0.2222222222222222, \"#7201a8\"], [0.3333333333333333, \"#9c179e\"], [0.4444444444444444, \"#bd3786\"], [0.5555555555555556, \"#d8576b\"], [0.6666666666666666, \"#ed7953\"], [0.7777777777777778, \"#fb9f3a\"], [0.8888888888888888, \"#fdca26\"], [1.0, \"#f0f921\"]], \"type\": \"heatmap\"}], \"heatmapgl\": [{\"colorbar\": {\"outlinewidth\": 0, \"ticks\": \"\"}, \"colorscale\": [[0.0, \"#0d0887\"], [0.1111111111111111, \"#46039f\"], [0.2222222222222222, \"#7201a8\"], [0.3333333333333333, \"#9c179e\"], [0.4444444444444444, \"#bd3786\"], [0.5555555555555556, \"#d8576b\"], [0.6666666666666666, \"#ed7953\"], [0.7777777777777778, \"#fb9f3a\"], [0.8888888888888888, \"#fdca26\"], [1.0, \"#f0f921\"]], \"type\": \"heatmapgl\"}], \"histogram\": [{\"marker\": {\"colorbar\": {\"outlinewidth\": 0, \"ticks\": \"\"}}, \"type\": \"histogram\"}], \"histogram2d\": [{\"colorbar\": {\"outlinewidth\": 0, \"ticks\": \"\"}, \"colorscale\": [[0.0, \"#0d0887\"], [0.1111111111111111, \"#46039f\"], [0.2222222222222222, \"#7201a8\"], [0.3333333333333333, \"#9c179e\"], [0.4444444444444444, \"#bd3786\"], [0.5555555555555556, \"#d8576b\"], [0.6666666666666666, \"#ed7953\"], [0.7777777777777778, \"#fb9f3a\"], [0.8888888888888888, \"#fdca26\"], [1.0, \"#f0f921\"]], \"type\": \"histogram2d\"}], \"histogram2dcontour\": [{\"colorbar\": {\"outlinewidth\": 0, \"ticks\": \"\"}, \"colorscale\": [[0.0, \"#0d0887\"], [0.1111111111111111, \"#46039f\"], [0.2222222222222222, \"#7201a8\"], [0.3333333333333333, \"#9c179e\"], [0.4444444444444444, \"#bd3786\"], [0.5555555555555556, \"#d8576b\"], [0.6666666666666666, \"#ed7953\"], [0.7777777777777778, \"#fb9f3a\"], [0.8888888888888888, \"#fdca26\"], [1.0, \"#f0f921\"]], \"type\": \"histogram2dcontour\"}], \"mesh3d\": [{\"colorbar\": {\"outlinewidth\": 0, \"ticks\": \"\"}, \"type\": \"mesh3d\"}], \"parcoords\": [{\"line\": {\"colorbar\": {\"outlinewidth\": 0, \"ticks\": \"\"}}, \"type\": \"parcoords\"}], \"pie\": [{\"automargin\": true, \"type\": \"pie\"}], \"scatter\": [{\"marker\": {\"colorbar\": {\"outlinewidth\": 0, \"ticks\": \"\"}}, \"type\": \"scatter\"}], \"scatter3d\": [{\"line\": {\"colorbar\": {\"outlinewidth\": 0, \"ticks\": \"\"}}, \"marker\": {\"colorbar\": {\"outlinewidth\": 0, \"ticks\": \"\"}}, \"type\": \"scatter3d\"}], \"scattercarpet\": [{\"marker\": {\"colorbar\": {\"outlinewidth\": 0, \"ticks\": \"\"}}, \"type\": \"scattercarpet\"}], \"scattergeo\": [{\"marker\": {\"colorbar\": {\"outlinewidth\": 0, \"ticks\": \"\"}}, \"type\": \"scattergeo\"}], \"scattergl\": [{\"marker\": {\"colorbar\": {\"outlinewidth\": 0, \"ticks\": \"\"}}, \"type\": \"scattergl\"}], \"scattermapbox\": [{\"marker\": {\"colorbar\": {\"outlinewidth\": 0, \"ticks\": \"\"}}, \"type\": \"scattermapbox\"}], \"scatterpolar\": [{\"marker\": {\"colorbar\": {\"outlinewidth\": 0, \"ticks\": \"\"}}, \"type\": \"scatterpolar\"}], \"scatterpolargl\": [{\"marker\": {\"colorbar\": {\"outlinewidth\": 0, \"ticks\": \"\"}}, \"type\": \"scatterpolargl\"}], \"scatterternary\": [{\"marker\": {\"colorbar\": {\"outlinewidth\": 0, \"ticks\": \"\"}}, \"type\": \"scatterternary\"}], \"surface\": [{\"colorbar\": {\"outlinewidth\": 0, \"ticks\": \"\"}, \"colorscale\": [[0.0, \"#0d0887\"], [0.1111111111111111, \"#46039f\"], [0.2222222222222222, \"#7201a8\"], [0.3333333333333333, \"#9c179e\"], [0.4444444444444444, \"#bd3786\"], [0.5555555555555556, \"#d8576b\"], [0.6666666666666666, \"#ed7953\"], [0.7777777777777778, \"#fb9f3a\"], [0.8888888888888888, \"#fdca26\"], [1.0, \"#f0f921\"]], \"type\": \"surface\"}], \"table\": [{\"cells\": {\"fill\": {\"color\": \"#EBF0F8\"}, \"line\": {\"color\": \"white\"}}, \"header\": {\"fill\": {\"color\": \"#C8D4E3\"}, \"line\": {\"color\": \"white\"}}, \"type\": \"table\"}]}, \"layout\": {\"annotationdefaults\": {\"arrowcolor\": \"#2a3f5f\", \"arrowhead\": 0, \"arrowwidth\": 1}, \"coloraxis\": {\"colorbar\": {\"outlinewidth\": 0, \"ticks\": \"\"}}, \"colorscale\": {\"diverging\": [[0, \"#8e0152\"], [0.1, \"#c51b7d\"], [0.2, \"#de77ae\"], [0.3, \"#f1b6da\"], [0.4, \"#fde0ef\"], [0.5, \"#f7f7f7\"], [0.6, \"#e6f5d0\"], [0.7, \"#b8e186\"], [0.8, \"#7fbc41\"], [0.9, \"#4d9221\"], [1, \"#276419\"]], \"sequential\": [[0.0, \"#0d0887\"], [0.1111111111111111, \"#46039f\"], [0.2222222222222222, \"#7201a8\"], [0.3333333333333333, \"#9c179e\"], [0.4444444444444444, \"#bd3786\"], [0.5555555555555556, \"#d8576b\"], [0.6666666666666666, \"#ed7953\"], [0.7777777777777778, \"#fb9f3a\"], [0.8888888888888888, \"#fdca26\"], [1.0, \"#f0f921\"]], \"sequentialminus\": [[0.0, \"#0d0887\"], [0.1111111111111111, \"#46039f\"], [0.2222222222222222, \"#7201a8\"], [0.3333333333333333, \"#9c179e\"], [0.4444444444444444, \"#bd3786\"], [0.5555555555555556, \"#d8576b\"], [0.6666666666666666, \"#ed7953\"], [0.7777777777777778, \"#fb9f3a\"], [0.8888888888888888, \"#fdca26\"], [1.0, \"#f0f921\"]]}, \"colorway\": [\"#636efa\", \"#EF553B\", \"#00cc96\", \"#ab63fa\", \"#FFA15A\", \"#19d3f3\", \"#FF6692\", \"#B6E880\", \"#FF97FF\", \"#FECB52\"], \"font\": {\"color\": \"#2a3f5f\"}, \"geo\": {\"bgcolor\": \"white\", \"lakecolor\": \"white\", \"landcolor\": \"#E5ECF6\", \"showlakes\": true, \"showland\": true, \"subunitcolor\": \"white\"}, \"hoverlabel\": {\"align\": \"left\"}, \"hovermode\": \"closest\", \"mapbox\": {\"style\": \"light\"}, \"paper_bgcolor\": \"white\", \"plot_bgcolor\": \"#E5ECF6\", \"polar\": {\"angularaxis\": {\"gridcolor\": \"white\", \"linecolor\": \"white\", \"ticks\": \"\"}, \"bgcolor\": \"#E5ECF6\", \"radialaxis\": {\"gridcolor\": \"white\", \"linecolor\": \"white\", \"ticks\": \"\"}}, \"scene\": {\"xaxis\": {\"backgroundcolor\": \"#E5ECF6\", \"gridcolor\": \"white\", \"gridwidth\": 2, \"linecolor\": \"white\", \"showbackground\": true, \"ticks\": \"\", \"zerolinecolor\": \"white\"}, \"yaxis\": {\"backgroundcolor\": \"#E5ECF6\", \"gridcolor\": \"white\", \"gridwidth\": 2, \"linecolor\": \"white\", \"showbackground\": true, \"ticks\": \"\", \"zerolinecolor\": \"white\"}, \"zaxis\": {\"backgroundcolor\": \"#E5ECF6\", \"gridcolor\": \"white\", \"gridwidth\": 2, \"linecolor\": \"white\", \"showbackground\": true, \"ticks\": \"\", \"zerolinecolor\": \"white\"}}, \"shapedefaults\": {\"line\": {\"color\": \"#2a3f5f\"}}, \"ternary\": {\"aaxis\": {\"gridcolor\": \"white\", \"linecolor\": \"white\", \"ticks\": \"\"}, \"baxis\": {\"gridcolor\": \"white\", \"linecolor\": \"white\", \"ticks\": \"\"}, \"bgcolor\": \"#E5ECF6\", \"caxis\": {\"gridcolor\": \"white\", \"linecolor\": \"white\", \"ticks\": \"\"}}, \"title\": {\"x\": 0.05}, \"xaxis\": {\"automargin\": true, \"gridcolor\": \"white\", \"linecolor\": \"white\", \"ticks\": \"\", \"title\": {\"standoff\": 15}, \"zerolinecolor\": \"white\", \"zerolinewidth\": 2}, \"yaxis\": {\"automargin\": true, \"gridcolor\": \"white\", \"linecolor\": \"white\", \"ticks\": \"\", \"title\": {\"standoff\": 15}, \"zerolinecolor\": \"white\", \"zerolinewidth\": 2}}}},\n",
              "                        {\"responsive\": true}\n",
              "                    ).then(function(){\n",
              "                            \n",
              "var gd = document.getElementById('b24d1780-5a4b-470c-bde5-85d6285352fc');\n",
              "var x = new MutationObserver(function (mutations, observer) {{\n",
              "        var display = window.getComputedStyle(gd).display;\n",
              "        if (!display || display === 'none') {{\n",
              "            console.log([gd, 'removed!']);\n",
              "            Plotly.purge(gd);\n",
              "            observer.disconnect();\n",
              "        }}\n",
              "}});\n",
              "\n",
              "// Listen for the removal of the full notebook cells\n",
              "var notebookContainer = gd.closest('#notebook-container');\n",
              "if (notebookContainer) {{\n",
              "    x.observe(notebookContainer, {childList: true});\n",
              "}}\n",
              "\n",
              "// Listen for the clearing of the current output cell\n",
              "var outputEl = gd.closest('.output');\n",
              "if (outputEl) {{\n",
              "    x.observe(outputEl, {childList: true});\n",
              "}}\n",
              "\n",
              "                        })\n",
              "                };\n",
              "                \n",
              "            </script>\n",
              "        </div>\n",
              "</body>\n",
              "</html>"
            ]
          },
          "metadata": {
            "tags": []
          }
        }
      ]
    },
    {
      "cell_type": "code",
      "metadata": {
        "execution": {
          "iopub.execute_input": "2021-05-31T16:12:03.490561Z",
          "iopub.status.busy": "2021-05-31T16:12:03.489829Z",
          "iopub.status.idle": "2021-05-31T16:12:03.779427Z",
          "shell.execute_reply": "2021-05-31T16:12:03.778862Z",
          "shell.execute_reply.started": "2021-05-31T14:18:10.096091Z"
        },
        "papermill": {
          "duration": 0.362735,
          "end_time": "2021-05-31T16:12:03.779574",
          "exception": false,
          "start_time": "2021-05-31T16:12:03.416839",
          "status": "completed"
        },
        "tags": [],
        "colab": {
          "base_uri": "https://localhost:8080/",
          "height": 542
        },
        "id": "_H82_eKiyoLq",
        "outputId": "b6e2648b-d3ad-45a0-932e-8858848f1a9f"
      },
      "source": [
        "import pycountry\n",
        "grouped = df.groupby(['Country_Code','country'])\n",
        "avg=pd.DataFrame(grouped['Age'].agg(np.mean))\n",
        "avg.reset_index(inplace=True)\n",
        "avg.columns=['Country Code','Country','Average Age']\n",
        "import plotly.express as px\n",
        "fig = px.choropleth(avg, locations=avg['Country Code'],color=avg['Average Age'],hover_name=avg['Country'],\n",
        "                    color_continuous_scale=px.colors.sequential.Plasma)\n",
        "fig.show()"
      ],
      "id": "_H82_eKiyoLq",
      "execution_count": 64,
      "outputs": [
        {
          "output_type": "display_data",
          "data": {
            "text/html": [
              "<html>\n",
              "<head><meta charset=\"utf-8\" /></head>\n",
              "<body>\n",
              "    <div>\n",
              "            <script src=\"https://cdnjs.cloudflare.com/ajax/libs/mathjax/2.7.5/MathJax.js?config=TeX-AMS-MML_SVG\"></script><script type=\"text/javascript\">if (window.MathJax) {MathJax.Hub.Config({SVG: {font: \"STIX-Web\"}});}</script>\n",
              "                <script type=\"text/javascript\">window.PlotlyConfig = {MathJaxConfig: 'local'};</script>\n",
              "        <script src=\"https://cdn.plot.ly/plotly-latest.min.js\"></script>    \n",
              "            <div id=\"c5548843-30d4-47e2-b16d-1c0f1f2ddf92\" class=\"plotly-graph-div\" style=\"height:525px; width:100%;\"></div>\n",
              "            <script type=\"text/javascript\">\n",
              "                \n",
              "                    window.PLOTLYENV=window.PLOTLYENV || {};\n",
              "                    \n",
              "                if (document.getElementById(\"c5548843-30d4-47e2-b16d-1c0f1f2ddf92\")) {\n",
              "                    Plotly.newPlot(\n",
              "                        'c5548843-30d4-47e2-b16d-1c0f1f2ddf92',\n",
              "                        [{\"coloraxis\": \"coloraxis\", \"geo\": \"geo\", \"hoverlabel\": {\"namelength\": 0}, \"hovertemplate\": \"<b>%{hovertext}</b><br><br>Country Code=%{location}<br>Average Age=%{z}\", \"hovertext\": [\" aruba\", \" afghanistan\", \" angola\", \" albania\", \" andorra\", \" united arab emirates\", \" argentina\", \" america\", \" antarctica\", \" antigua and barbuda\", \" australia\", \" australian capital territory\", \" new south wales\", \" queensland\", \" south australia\", \" tasmania\", \" victoria\", \" austria\", \" x\", \" belgium\", \" benin\", \" collin\", \" burkina faso\", \" bangladesh\", \" c\", \" bulgaria\", \" montana\", \" bahrain\", \" bahamas\", \" bosnia and herzegovina\", \" belize\", \" bermuda\", \" bolivia\", \" brazil\", \" barbados\", \" brunei\", \" alberta\", \" british columbia\", \" ca\", \" canada\", \" new brunswick\", \" newfoundland\", \" nova scotia\", \" nsw\", \" ontario\", \" quebec\", \" saskatchewan\", \"quebec\", \" stadt\", \" switzerland\", \" chile\", \" china\", \" shanghai\", \" cameroon\", \" colombia\", \" costa rica\", \" cuba\", \" cayman islands\", \" cyprus\", \" czech republic\", \" bayern\", \" berlin\", \" germany\", \" niedersachsen\", \" denmark\", \" dominican republic\", \" algeria\", \" ecuador\", \" egypt\", \" almer\\u00eda\", \" andalucia\", \" catalunya\", \" euskal herria\", \" gipuzkoa\", \" granada\", \" lleida\", \" madrid\", \" pais vasco\", \" pontevedra\", \" spain\", \" \\u00e1lava\", \" estonia\", \" ethiopia\", \" finland\", \" p\\u00e4ij\\u00e4t-h\\u00e4me\", \" fiji\", \" bourgogne\", \" france\", \" paris\", \" quit\", \" gabon\", \"\", \" \", \" aberdeenshire\", \" cambridgeshire\", \" camden\", \" csa\", \" dc\", \" england\", \" morgan\", \" north yorkshire\", \" nottinghamshire\", \" scotland\", \" united kingdom\", \" wales\", \" worcester\", \" georgia\", \" guernsey\", \" ghana\", \" guinea\", \" gambia\", \" guinea-bissau\", \" greece\", \" grenada\", \" guatemala\", \" hong kong\", \" francisco morazan\", \" honduras\", \" croatia\", \" haiti\", \" hungary\", \" indonesia\", \" india\", \" ireland\", \" iran\", \" iraq\", \" ysa\", \" iceland\", \" il\", \" israel\", \" ferrara\", \" italia\", \" italy\", \" venezia giulia\", \" jamaica\", \" jersey\", \" japan\", \" okinawa\", \" kazakhstan\", \" kenya\", \" cambodia\", \" seoul\", \" kuwait\", \" lebanon\", \" maryland\", \" saint lucia\", \" sri lanka\", \" lithuania\", \" luxembourg\", \" latvia\", \" morocco\", \" monaco\", \" moldova\", \" madagascar\", \" mexico\", \" marshall islands\", \" macedonia\", \" malta\", \" mongolia\", \" mozambique\", \" mauritius\", \" kedah\", \" malaysia\", \" niger\", \" nigeria\", \" netherlands\", \" norway\", \" nepal\", \" auckland\", \" new zealand\", \" nz\", \" otago\", \" south island\", \" oman\", \" pakistan\", \" panama\", \" republic of panama\", \" peru\", \" philippines\", \" palau\", \" papua new guinea\", \" poland\", \" puerto rico\", \" portugal\", \" paraguay\", \" qatar\", \" eu\", \" romania\", \" russia\", \" rwanda\", \" saudi arabia\", \" senegal\", \" singapore\", \" solomon islands\", \" el salvador\", \" kosovo\", \" slovakia\", \" slovenia\", \" sweden\", \" syria\", \" thailand\", \" tajikistan\", \" turkmenistan\", \" tonga\", \" trinidad and tobago\", \" tn\", \" tunisia\", \" turkey\", \" taiwan\", \" tanzania\", \" uganda\", \" ua\", \" uk\", \" ukraine\", \" urugua\", \" uruguay\", \" alabama\", \" alaska\", \" arizona\", \" arkansas\", \" california\", \" colorado\", \" connecticut\", \" district of columbia\", \" florida\", \" hawaii\", \" idaho\", \" illinois\", \" indiana\", \" iowa\", \" kansas\", \" louisiana\", \" maine\", \" massachusetts\", \" michigan\", \" minnesota\", \" missouri\", \" nebraska\", \" nevada\", \" new hampshire\", \" new jersey\", \" new mexico\", \" new york\", \" north carolina\", \" north dakota\", \" ohio\", \" oklahoma\", \" oregon\", \" pennsylvania\", \" rhode island\", \" south dakota\", \" tennessee\", \" texas\", \" united state\", \" united states\", \" united states of america\", \" us\", \" usa\", \" virginia\", \" washington\", \" west virginia\", \" wisconsin\", \"usa\", \" uzbekistan\", \" venezuela\", \" vietnam\", \" samoa\", \" south africa\", \" zambia\", \" zimbabwe\", \" \\\\\\\"n/a\\\\\\\"\\\"\", \" \\\\n/a\\\\\\\"\", \" alachua\", \" alderney\", \" anystate\", \" argentina\\\"\", \" aroostook\", \" austin\", \" baden-wuerttemberg\", \" bc\", \" belgium\\\"\", \" bergued\\u00e0\", \" burlington\", \" burma\", \" ca.\", \" cananda\", \" canary islands\", \" cape verde\", \" caribbean sea\", \" catalonia\", \" catalunya spain\", \" cherokee\", \" china\\\"\", \" co. carlow\", \" county cork\", \" county galway\", \" croatia\\\"\", \" d.c.\", \" denmark\\\"\", \" deutschland\", \" disrito federal\", \" ee.uu\", \" espa\\u00f1a\", \" etel\\u00e4-suomi\", \" everywhere and anywhere\", \" far away...\", \" finland\\\"\", \" fort bend\", \" framingham\", \" france\\\"\", \" galiza\", \" galiza neghra\", \" germany\\\"\", \" hagiwara\", \" here and there\", \" hernando\", \" hungary and usa\", \" hungary\\\"\", \" ile de france\", \" in europe\", \" ireland\\\"\", \" italy\\\"\", \" k1c7b1\", \" kalamazoo\", \" kern\", \" l`italia\", \" la belgique\", \" la chine \\u00e9ternelle !\", \" la chine \\u00e9ternelle!\", \" la france\", \" la suisse\", \" laos\", \" lk ammerland\", \" lkjlj\", \" los estados unidos de norte america\", \" luxembourg\\\"\", \" macau\", \" maracopa\", \" maricopa\", \" metro manila\", \" mexico\\\"\", \" middlesex\", \" n/a\", \" n/a - on the road\", \" netherlands\\\"\", \" new zealand\\\"\", \" north sumatera\", \" norway\\\"\", \" obviously\", \" oeiras\", \" onondaga nation\", \" orange co\", \" orense\", \" ouranos\", \" pender\", \" petrolwar nation\", \" philippines\\\"\", \" phillipines\", \" polk\", \" portugal\\\"\", \" prince william\", \" richmond country\", \" rutherford\", \" saint loius\", \" san franicsco\", \" san mateo\", \" shelby\", \" south korea\", \" south korea\\\"\", \" space\", \" spain\\\"\", \" st. helena\", \" st.gallen\", \" st.thomasi\", \" sweden\\\"\", \" switzerland\\\"\", \" tdzimi\", \" thailand\\\"\", \" the great white north\", \" travelling....\", \" turkey\\\"\", \" u.a.e\", \" u.k.\", \" u.s. of a.\", \" u.s.a.\", \" u.s.a>\", \" u.s>\", \" united kindgonm\", \" united kingdom\\\"\", \" united sates\", \" united staes\", \" universe\", \" unknown\", \" usa & canada\", \" usa (currently living in england)\", \" usa now\", \" v9v 1h4\", \" van wert\", \" ventura county\", \" we`re global!\", \" west indies\", \" west yorkshire\", \" yu-song\", \" yugoslavia\", \" zapopan\", \"\\\"\", \"61 men\"], \"locations\": [\"ABW\", \"AFG\", \"AGO\", \"ALB\", \"AND\", \"ARE\", \"ARG\", \"ASM\", \"ATA\", \"ATG\", \"AUS\", \"AUS\", \"AUS\", \"AUS\", \"AUS\", \"AUS\", \"AUS\", \"AUT\", \"AZE\", \"BEL\", \"BEN\", \"BEN\", \"BFA\", \"BGD\", \"BGD\", \"BGR\", \"BGR\", \"BHR\", \"BHS\", \"BIH\", \"BLZ\", \"BMU\", \"BOL\", \"BRA\", \"BRB\", \"BRN\", \"CAN\", \"CAN\", \"CAN\", \"CAN\", \"CAN\", \"CAN\", \"CAN\", \"CAN\", \"CAN\", \"CAN\", \"CAN\", \"CAN\", \"CHE\", \"CHE\", \"CHL\", \"CHN\", \"CHN\", \"CMR\", \"COL\", \"CRI\", \"CUB\", \"CYM\", \"CYP\", \"CZE\", \"DEU\", \"DEU\", \"DEU\", \"DEU\", \"DNK\", \"DOM\", \"DZA\", \"ECU\", \"EGY\", \"ESP\", \"ESP\", \"ESP\", \"ESP\", \"ESP\", \"ESP\", \"ESP\", \"ESP\", \"ESP\", \"ESP\", \"ESP\", \"ESP\", \"EST\", \"ETH\", \"FIN\", \"FIN\", \"FJI\", \"FRA\", \"FRA\", \"FRA\", \"FRA\", \"GAB\", \"GBR\", \"GBR\", \"GBR\", \"GBR\", \"GBR\", \"GBR\", \"GBR\", \"GBR\", \"GBR\", \"GBR\", \"GBR\", \"GBR\", \"GBR\", \"GBR\", \"GBR\", \"GEO\", \"GGY\", \"GHA\", \"GIN\", \"GMB\", \"GNB\", \"GRC\", \"GRD\", \"GTM\", \"HKG\", \"HND\", \"HND\", \"HRV\", \"HTI\", \"HUN\", \"IDN\", \"IND\", \"IRL\", \"IRN\", \"IRQ\", \"IRQ\", \"ISL\", \"ISR\", \"ISR\", \"ITA\", \"ITA\", \"ITA\", \"ITA\", \"JAM\", \"JEY\", \"JPN\", \"JPN\", \"KAZ\", \"KEN\", \"KHM\", \"KOR\", \"KWT\", \"LBN\", \"LBR\", \"LCA\", \"LKA\", \"LTU\", \"LUX\", \"LVA\", \"MAR\", \"MCO\", \"MDA\", \"MDG\", \"MEX\", \"MHL\", \"MKD\", \"MLT\", \"MNG\", \"MOZ\", \"MUS\", \"MYS\", \"MYS\", \"NGA\", \"NGA\", \"NLD\", \"NOR\", \"NPL\", \"NZL\", \"NZL\", \"NZL\", \"NZL\", \"NZL\", \"OMN\", \"PAK\", \"PAN\", \"PAN\", \"PER\", \"PHL\", \"PLW\", \"PNG\", \"POL\", \"PRI\", \"PRT\", \"PRY\", \"QAT\", \"REU\", \"ROU\", \"RUS\", \"RWA\", \"SAU\", \"SEN\", \"SGP\", \"SLB\", \"SLV\", \"SRB\", \"SVK\", \"SVN\", \"SWE\", \"SYR\", \"THA\", \"TJK\", \"TKM\", \"TON\", \"TTO\", \"TUN\", \"TUN\", \"TUR\", \"TWN\", \"TZA\", \"UGA\", \"UKR\", \"UKR\", \"UKR\", \"URY\", \"URY\", \"USA\", \"USA\", \"USA\", \"USA\", \"USA\", \"USA\", \"USA\", \"USA\", \"USA\", \"USA\", \"USA\", \"USA\", \"USA\", \"USA\", \"USA\", \"USA\", \"USA\", \"USA\", \"USA\", \"USA\", \"USA\", \"USA\", \"USA\", \"USA\", \"USA\", \"USA\", \"USA\", \"USA\", \"USA\", \"USA\", \"USA\", \"USA\", \"USA\", \"USA\", \"USA\", \"USA\", \"USA\", \"USA\", \"USA\", \"USA\", \"USA\", \"USA\", \"USA\", \"USA\", \"USA\", \"USA\", \"USA\", \"UZB\", \"VEN\", \"VNM\", \"WSM\", \"ZAF\", \"ZMB\", \"ZWE\", \"unknown\", \"unknown\", \"unknown\", \"unknown\", \"unknown\", \"unknown\", \"unknown\", \"unknown\", \"unknown\", \"unknown\", \"unknown\", \"unknown\", \"unknown\", \"unknown\", \"unknown\", \"unknown\", \"unknown\", \"unknown\", \"unknown\", \"unknown\", \"unknown\", \"unknown\", \"unknown\", \"unknown\", \"unknown\", \"unknown\", \"unknown\", \"unknown\", \"unknown\", \"unknown\", \"unknown\", \"unknown\", \"unknown\", \"unknown\", \"unknown\", \"unknown\", \"unknown\", \"unknown\", \"unknown\", \"unknown\", \"unknown\", \"unknown\", \"unknown\", \"unknown\", \"unknown\", \"unknown\", \"unknown\", \"unknown\", \"unknown\", \"unknown\", \"unknown\", \"unknown\", \"unknown\", \"unknown\", \"unknown\", \"unknown\", \"unknown\", \"unknown\", \"unknown\", \"unknown\", \"unknown\", \"unknown\", \"unknown\", \"unknown\", \"unknown\", \"unknown\", \"unknown\", \"unknown\", \"unknown\", \"unknown\", \"unknown\", \"unknown\", \"unknown\", \"unknown\", \"unknown\", \"unknown\", \"unknown\", \"unknown\", \"unknown\", \"unknown\", \"unknown\", \"unknown\", \"unknown\", \"unknown\", \"unknown\", \"unknown\", \"unknown\", \"unknown\", \"unknown\", \"unknown\", \"unknown\", \"unknown\", \"unknown\", \"unknown\", \"unknown\", \"unknown\", \"unknown\", \"unknown\", \"unknown\", \"unknown\", \"unknown\", \"unknown\", \"unknown\", \"unknown\", \"unknown\", \"unknown\", \"unknown\", \"unknown\", \"unknown\", \"unknown\", \"unknown\", \"unknown\", \"unknown\", \"unknown\", \"unknown\", \"unknown\", \"unknown\", \"unknown\", \"unknown\", \"unknown\", \"unknown\", \"unknown\", \"unknown\", \"unknown\", \"unknown\", \"unknown\", \"unknown\", \"unknown\", \"unknown\", \"unknown\", \"unknown\", \"unknown\", \"unknown\", \"unknown\", \"unknown\", \"unknown\", \"unknown\"], \"name\": \"\", \"type\": \"choropleth\", \"z\": [23.844961240310077, 56.666666666666664, 51.0, 27.3, 32.94736842105263, 30.625, 32.68060836501901, 26.0, 25.145454545454545, 31.5, 30.826122762710003, 24.0, 27.416666666666668, 35.5, 24.0, 13.0, 47.0, 29.713877987870138, 84.0, 28.269170579029733, 24.0, 24.0, 24.0, 15.0, 24.0, 31.190184049079754, 43.5, 32.0, 37.888888888888886, 20.0, 34.09090909090909, 34.6, 24.0, 34.644708423326136, 26.625, 15.75, 32.6, 34.22222222222222, 24.0, 32.84927570546073, 50.25, 62.0, 24.0, 18.0, 39.73684210526316, 33.0, 57.0, 24.0, 32.0, 36.0739765381853, 26.488888888888887, 28.810543657331138, 22.0, 22.0, 24.6, 27.375838926174495, 16.0, 30.583333333333332, 35.0, 23.33009708737864, 27.0, 26.0, 29.28664930932234, 24.0, 27.9, 29.295774647887324, 34.0, 31.666666666666668, 34.121212121212125, 20.0, 63.0, 25.08, 25.571428571428573, 57.0, 17.0, 35.0, 23.0, 27.0, 21.0, 31.71621987544002, 17.0, 24.0, 21.0, 27.589571068124474, 17.0, 28.0, 31.0, 30.441915153795502, 24.0, 30.666666666666668, 49.0, 30.799950767210962, 39.945205479452056, 50.0, 41.0, 24.0, 24.0, 33.30769230769231, 38.43543543543544, 24.0, 39.0, 69.0, 27.375, 33.4230625, 28.625, 24.0, 35.75, 32.523809523809526, 28.4, 24.0, 51.0, 39.0, 27.46113989637306, 47.375, 25.88888888888889, 27.46206896551724, 41.0, 44.44444444444444, 23.38888888888889, 25.875, 29.55, 23.59375, 29.525925925925925, 33.905100830367736, 30.240145542753183, 34.07142857142857, 32.0, 27.774193548387096, 24.0, 27.815, 24.0, 30.555555555555557, 29.310673994793174, 73.0, 33.55555555555556, 32.2, 29.93510324483776, 24.0, 24.0, 34.3125, 24.0, 24.0, 22.37142857142857, 19.0, 47.55555555555556, 24.166666666666668, 34.90909090909091, 23.482758620689655, 28.404255319148938, 25.333333333333332, 30.25, 33.0, 24.8, 34.0, 32.92255892255892, 68.0, 22.0, 24.0, 36.0, 30.0, 29.0, 26.666666666666668, 25.84647385103011, 24.0, 26.4, 35.144093378949485, 29.97422680412371, 30.5, 24.0, 29.516198704103672, 25.647058823529413, 39.0, 24.0, 41.333333333333336, 27.4375, 55.266666666666666, 24.0, 27.41176470588235, 23.533625730994153, 24.0, 23.625, 22.446022727272727, 24.8, 28.77645001457301, 24.666666666666668, 24.414925373134327, 24.0, 23.383561643835616, 24.0, 40.0, 43.833333333333336, 24.0, 26.31647776809067, 34.0, 24.0, 24.0, 24.735294117647058, 23.62, 26.748378728923477, 30.0, 30.9, 52.0, 24.0, 56.0, 30.61111111111111, 48.0, 30.0, 28.098360655737704, 36.94174757281554, 38.0, 26.0, 24.0, 29.666666666666668, 24.75, 31.0, 46.0, 24.0, 24.0, 24.0, 47.0, 42.45454545454545, 30.5, 27.0, 24.0, 68.58227848101266, 24.0, 82.0, 42.984848484848484, 56.5, 24.0, 58.351851851851855, 24.0, 30.0, 27.0, 45.625, 24.0, 28.8, 24.0, 55.0, 24.0, 37.333333333333336, 24.0, 56.59779614325069, 42.35294117647059, 12.0, 42.58981233243968, 42.75, 50.666666666666664, 40.0, 45.0, 58.333333333333336, 27.583333333333332, 35.666666666666664, 55.0, 44.32258064516129, 24.0, 24.0, 34.25274167766111, 45.98989898989899, 34.5, 24.0, 20.0, 24.0, 26.666666666666668, 26.377777777777776, 22.375, 29.0, 36.65, 55.0, 30.823529411764707, 54.0, 24.0, 60.0, 31.666666666666668, 24.0, 24.0, 24.0, 62.0, 42.0, 24.0, 24.0, 24.0, 35.0, 24.0, 24.0, 24.0, 57.0, 24.0, 24.0, 31.5, 28.0, 51.0, 39.0, 53.0, 49.0, 24.0, 24.0, 51.0, 28.666666666666668, 28.153846153846153, 23.0, 24.0, 25.8125, 24.0, 30.0, 29.0, 20.0, 24.0, 24.0, 41.111111111111114, 24.666666666666668, 26.0, 37.57142857142857, 18.0, 37.0, 13.0, 30.0, 24.0, 28.0, 24.0, 25.0, 24.0, 24.0, 24.0, 24.0, 24.0, 37.0, 24.0, 24.0, 26.8, 48.0, 25.09090909090909, 24.0, 24.0, 24.0, 24.0, 21.0, 24.0, 24.0, 29.0, 19.0, 50.0, 24.020276909334523, 27.0, 29.75, 36.625, 24.0, 34.0, 34.0, 32.0, 24.0, 24.0, 46.0, 28.0, 39.0, 24.0, 28.0, 16.0, 64.0, 37.25, 24.0, 24.0, 24.0, 24.0, 24.0, 24.0, 24.0, 27.93421052631579, 24.0, 24.0, 34.46666666666667, 24.0, 22.0, 24.0, 24.0, 27.625, 24.0, 46.0, 24.0, 22.0, 33.0, 23.75, 22.0, 24.0, 35.0, 24.0, 24.0, 24.0, 26.0, 24.0, 24.0, 47.592233009708735, 24.0, 31.0, 24.0, 24.0, 24.0, 24.0, 24.0, 24.0, 55.0, 38.0, 23.0, 22.666666666666668, 24.0, 43.0, 20.0]}],\n",
              "                        {\"coloraxis\": {\"colorbar\": {\"title\": {\"text\": \"Average Age\"}}, \"colorscale\": [[0.0, \"#0d0887\"], [0.1111111111111111, \"#46039f\"], [0.2222222222222222, \"#7201a8\"], [0.3333333333333333, \"#9c179e\"], [0.4444444444444444, \"#bd3786\"], [0.5555555555555556, \"#d8576b\"], [0.6666666666666666, \"#ed7953\"], [0.7777777777777778, \"#fb9f3a\"], [0.8888888888888888, \"#fdca26\"], [1.0, \"#f0f921\"]]}, \"geo\": {\"center\": {}, \"domain\": {\"x\": [0.0, 1.0], \"y\": [0.0, 1.0]}}, \"legend\": {\"tracegroupgap\": 0}, \"margin\": {\"t\": 60}, \"template\": {\"data\": {\"bar\": [{\"error_x\": {\"color\": \"#2a3f5f\"}, \"error_y\": {\"color\": \"#2a3f5f\"}, \"marker\": {\"line\": {\"color\": \"#E5ECF6\", \"width\": 0.5}}, \"type\": \"bar\"}], \"barpolar\": [{\"marker\": {\"line\": {\"color\": \"#E5ECF6\", \"width\": 0.5}}, \"type\": \"barpolar\"}], \"carpet\": [{\"aaxis\": {\"endlinecolor\": \"#2a3f5f\", \"gridcolor\": \"white\", \"linecolor\": \"white\", \"minorgridcolor\": \"white\", \"startlinecolor\": \"#2a3f5f\"}, \"baxis\": {\"endlinecolor\": \"#2a3f5f\", \"gridcolor\": \"white\", \"linecolor\": \"white\", \"minorgridcolor\": \"white\", \"startlinecolor\": \"#2a3f5f\"}, \"type\": \"carpet\"}], \"choropleth\": [{\"colorbar\": {\"outlinewidth\": 0, \"ticks\": \"\"}, \"type\": \"choropleth\"}], \"contour\": [{\"colorbar\": {\"outlinewidth\": 0, \"ticks\": \"\"}, \"colorscale\": [[0.0, \"#0d0887\"], [0.1111111111111111, \"#46039f\"], [0.2222222222222222, \"#7201a8\"], [0.3333333333333333, \"#9c179e\"], [0.4444444444444444, \"#bd3786\"], [0.5555555555555556, \"#d8576b\"], [0.6666666666666666, \"#ed7953\"], [0.7777777777777778, \"#fb9f3a\"], [0.8888888888888888, \"#fdca26\"], [1.0, \"#f0f921\"]], \"type\": \"contour\"}], \"contourcarpet\": [{\"colorbar\": {\"outlinewidth\": 0, \"ticks\": \"\"}, \"type\": \"contourcarpet\"}], \"heatmap\": [{\"colorbar\": {\"outlinewidth\": 0, \"ticks\": \"\"}, \"colorscale\": [[0.0, \"#0d0887\"], [0.1111111111111111, \"#46039f\"], [0.2222222222222222, \"#7201a8\"], [0.3333333333333333, \"#9c179e\"], [0.4444444444444444, \"#bd3786\"], [0.5555555555555556, \"#d8576b\"], [0.6666666666666666, \"#ed7953\"], [0.7777777777777778, \"#fb9f3a\"], [0.8888888888888888, \"#fdca26\"], [1.0, \"#f0f921\"]], \"type\": \"heatmap\"}], \"heatmapgl\": [{\"colorbar\": {\"outlinewidth\": 0, \"ticks\": \"\"}, \"colorscale\": [[0.0, \"#0d0887\"], [0.1111111111111111, \"#46039f\"], [0.2222222222222222, \"#7201a8\"], [0.3333333333333333, \"#9c179e\"], [0.4444444444444444, \"#bd3786\"], [0.5555555555555556, \"#d8576b\"], [0.6666666666666666, \"#ed7953\"], [0.7777777777777778, \"#fb9f3a\"], [0.8888888888888888, \"#fdca26\"], [1.0, \"#f0f921\"]], \"type\": \"heatmapgl\"}], \"histogram\": [{\"marker\": {\"colorbar\": {\"outlinewidth\": 0, \"ticks\": \"\"}}, \"type\": \"histogram\"}], \"histogram2d\": [{\"colorbar\": {\"outlinewidth\": 0, \"ticks\": \"\"}, \"colorscale\": [[0.0, \"#0d0887\"], [0.1111111111111111, \"#46039f\"], [0.2222222222222222, \"#7201a8\"], [0.3333333333333333, \"#9c179e\"], [0.4444444444444444, \"#bd3786\"], [0.5555555555555556, \"#d8576b\"], [0.6666666666666666, \"#ed7953\"], [0.7777777777777778, \"#fb9f3a\"], [0.8888888888888888, \"#fdca26\"], [1.0, \"#f0f921\"]], \"type\": \"histogram2d\"}], \"histogram2dcontour\": [{\"colorbar\": {\"outlinewidth\": 0, \"ticks\": \"\"}, \"colorscale\": [[0.0, \"#0d0887\"], [0.1111111111111111, \"#46039f\"], [0.2222222222222222, \"#7201a8\"], [0.3333333333333333, \"#9c179e\"], [0.4444444444444444, \"#bd3786\"], [0.5555555555555556, \"#d8576b\"], [0.6666666666666666, \"#ed7953\"], [0.7777777777777778, \"#fb9f3a\"], [0.8888888888888888, \"#fdca26\"], [1.0, \"#f0f921\"]], \"type\": \"histogram2dcontour\"}], \"mesh3d\": [{\"colorbar\": {\"outlinewidth\": 0, \"ticks\": \"\"}, \"type\": \"mesh3d\"}], \"parcoords\": [{\"line\": {\"colorbar\": {\"outlinewidth\": 0, \"ticks\": \"\"}}, \"type\": \"parcoords\"}], \"pie\": [{\"automargin\": true, \"type\": \"pie\"}], \"scatter\": [{\"marker\": {\"colorbar\": {\"outlinewidth\": 0, \"ticks\": \"\"}}, \"type\": \"scatter\"}], \"scatter3d\": [{\"line\": {\"colorbar\": {\"outlinewidth\": 0, \"ticks\": \"\"}}, \"marker\": {\"colorbar\": {\"outlinewidth\": 0, \"ticks\": \"\"}}, \"type\": \"scatter3d\"}], \"scattercarpet\": [{\"marker\": {\"colorbar\": {\"outlinewidth\": 0, \"ticks\": \"\"}}, \"type\": \"scattercarpet\"}], \"scattergeo\": [{\"marker\": {\"colorbar\": {\"outlinewidth\": 0, \"ticks\": \"\"}}, \"type\": \"scattergeo\"}], \"scattergl\": [{\"marker\": {\"colorbar\": {\"outlinewidth\": 0, \"ticks\": \"\"}}, \"type\": \"scattergl\"}], \"scattermapbox\": [{\"marker\": {\"colorbar\": {\"outlinewidth\": 0, \"ticks\": \"\"}}, \"type\": \"scattermapbox\"}], \"scatterpolar\": [{\"marker\": {\"colorbar\": {\"outlinewidth\": 0, \"ticks\": \"\"}}, \"type\": \"scatterpolar\"}], \"scatterpolargl\": [{\"marker\": {\"colorbar\": {\"outlinewidth\": 0, \"ticks\": \"\"}}, \"type\": \"scatterpolargl\"}], \"scatterternary\": [{\"marker\": {\"colorbar\": {\"outlinewidth\": 0, \"ticks\": \"\"}}, \"type\": \"scatterternary\"}], \"surface\": [{\"colorbar\": {\"outlinewidth\": 0, \"ticks\": \"\"}, \"colorscale\": [[0.0, \"#0d0887\"], [0.1111111111111111, \"#46039f\"], [0.2222222222222222, \"#7201a8\"], [0.3333333333333333, \"#9c179e\"], [0.4444444444444444, \"#bd3786\"], [0.5555555555555556, \"#d8576b\"], [0.6666666666666666, \"#ed7953\"], [0.7777777777777778, \"#fb9f3a\"], [0.8888888888888888, \"#fdca26\"], [1.0, \"#f0f921\"]], \"type\": \"surface\"}], \"table\": [{\"cells\": {\"fill\": {\"color\": \"#EBF0F8\"}, \"line\": {\"color\": \"white\"}}, \"header\": {\"fill\": {\"color\": \"#C8D4E3\"}, \"line\": {\"color\": \"white\"}}, \"type\": \"table\"}]}, \"layout\": {\"annotationdefaults\": {\"arrowcolor\": \"#2a3f5f\", \"arrowhead\": 0, \"arrowwidth\": 1}, \"coloraxis\": {\"colorbar\": {\"outlinewidth\": 0, \"ticks\": \"\"}}, \"colorscale\": {\"diverging\": [[0, \"#8e0152\"], [0.1, \"#c51b7d\"], [0.2, \"#de77ae\"], [0.3, \"#f1b6da\"], [0.4, \"#fde0ef\"], [0.5, \"#f7f7f7\"], [0.6, \"#e6f5d0\"], [0.7, \"#b8e186\"], [0.8, \"#7fbc41\"], [0.9, \"#4d9221\"], [1, \"#276419\"]], \"sequential\": [[0.0, \"#0d0887\"], [0.1111111111111111, \"#46039f\"], [0.2222222222222222, \"#7201a8\"], [0.3333333333333333, \"#9c179e\"], [0.4444444444444444, \"#bd3786\"], [0.5555555555555556, \"#d8576b\"], [0.6666666666666666, \"#ed7953\"], [0.7777777777777778, \"#fb9f3a\"], [0.8888888888888888, \"#fdca26\"], [1.0, \"#f0f921\"]], \"sequentialminus\": [[0.0, \"#0d0887\"], [0.1111111111111111, \"#46039f\"], [0.2222222222222222, \"#7201a8\"], [0.3333333333333333, \"#9c179e\"], [0.4444444444444444, \"#bd3786\"], [0.5555555555555556, \"#d8576b\"], [0.6666666666666666, \"#ed7953\"], [0.7777777777777778, \"#fb9f3a\"], [0.8888888888888888, \"#fdca26\"], [1.0, \"#f0f921\"]]}, \"colorway\": [\"#636efa\", \"#EF553B\", \"#00cc96\", \"#ab63fa\", \"#FFA15A\", \"#19d3f3\", \"#FF6692\", \"#B6E880\", \"#FF97FF\", \"#FECB52\"], \"font\": {\"color\": \"#2a3f5f\"}, \"geo\": {\"bgcolor\": \"white\", \"lakecolor\": \"white\", \"landcolor\": \"#E5ECF6\", \"showlakes\": true, \"showland\": true, \"subunitcolor\": \"white\"}, \"hoverlabel\": {\"align\": \"left\"}, \"hovermode\": \"closest\", \"mapbox\": {\"style\": \"light\"}, \"paper_bgcolor\": \"white\", \"plot_bgcolor\": \"#E5ECF6\", \"polar\": {\"angularaxis\": {\"gridcolor\": \"white\", \"linecolor\": \"white\", \"ticks\": \"\"}, \"bgcolor\": \"#E5ECF6\", \"radialaxis\": {\"gridcolor\": \"white\", \"linecolor\": \"white\", \"ticks\": \"\"}}, \"scene\": {\"xaxis\": {\"backgroundcolor\": \"#E5ECF6\", \"gridcolor\": \"white\", \"gridwidth\": 2, \"linecolor\": \"white\", \"showbackground\": true, \"ticks\": \"\", \"zerolinecolor\": \"white\"}, \"yaxis\": {\"backgroundcolor\": \"#E5ECF6\", \"gridcolor\": \"white\", \"gridwidth\": 2, \"linecolor\": \"white\", \"showbackground\": true, \"ticks\": \"\", \"zerolinecolor\": \"white\"}, \"zaxis\": {\"backgroundcolor\": \"#E5ECF6\", \"gridcolor\": \"white\", \"gridwidth\": 2, \"linecolor\": \"white\", \"showbackground\": true, \"ticks\": \"\", \"zerolinecolor\": \"white\"}}, \"shapedefaults\": {\"line\": {\"color\": \"#2a3f5f\"}}, \"ternary\": {\"aaxis\": {\"gridcolor\": \"white\", \"linecolor\": \"white\", \"ticks\": \"\"}, \"baxis\": {\"gridcolor\": \"white\", \"linecolor\": \"white\", \"ticks\": \"\"}, \"bgcolor\": \"#E5ECF6\", \"caxis\": {\"gridcolor\": \"white\", \"linecolor\": \"white\", \"ticks\": \"\"}}, \"title\": {\"x\": 0.05}, \"xaxis\": {\"automargin\": true, \"gridcolor\": \"white\", \"linecolor\": \"white\", \"ticks\": \"\", \"title\": {\"standoff\": 15}, \"zerolinecolor\": \"white\", \"zerolinewidth\": 2}, \"yaxis\": {\"automargin\": true, \"gridcolor\": \"white\", \"linecolor\": \"white\", \"ticks\": \"\", \"title\": {\"standoff\": 15}, \"zerolinecolor\": \"white\", \"zerolinewidth\": 2}}}},\n",
              "                        {\"responsive\": true}\n",
              "                    ).then(function(){\n",
              "                            \n",
              "var gd = document.getElementById('c5548843-30d4-47e2-b16d-1c0f1f2ddf92');\n",
              "var x = new MutationObserver(function (mutations, observer) {{\n",
              "        var display = window.getComputedStyle(gd).display;\n",
              "        if (!display || display === 'none') {{\n",
              "            console.log([gd, 'removed!']);\n",
              "            Plotly.purge(gd);\n",
              "            observer.disconnect();\n",
              "        }}\n",
              "}});\n",
              "\n",
              "// Listen for the removal of the full notebook cells\n",
              "var notebookContainer = gd.closest('#notebook-container');\n",
              "if (notebookContainer) {{\n",
              "    x.observe(notebookContainer, {childList: true});\n",
              "}}\n",
              "\n",
              "// Listen for the clearing of the current output cell\n",
              "var outputEl = gd.closest('.output');\n",
              "if (outputEl) {{\n",
              "    x.observe(outputEl, {childList: true});\n",
              "}}\n",
              "\n",
              "                        })\n",
              "                };\n",
              "                \n",
              "            </script>\n",
              "        </div>\n",
              "</body>\n",
              "</html>"
            ]
          },
          "metadata": {
            "tags": []
          }
        }
      ]
    },
    {
      "cell_type": "markdown",
      "metadata": {
        "papermill": {
          "duration": 0.067269,
          "end_time": "2021-05-31T16:12:04.050620",
          "exception": false,
          "start_time": "2021-05-31T16:12:03.983351",
          "status": "completed"
        },
        "tags": [],
        "id": "uHyLmECmyoLq"
      },
      "source": [
        "<h2>Popularity Based Recommendation</h2>"
      ],
      "id": "uHyLmECmyoLq"
    },
    {
      "cell_type": "code",
      "metadata": {
        "execution": {
          "iopub.execute_input": "2021-05-31T16:12:04.325026Z",
          "iopub.status.busy": "2021-05-31T16:12:04.324375Z",
          "iopub.status.idle": "2021-05-31T16:12:07.498137Z",
          "shell.execute_reply": "2021-05-31T16:12:07.497068Z",
          "shell.execute_reply.started": "2021-05-31T14:18:10.394099Z"
        },
        "papermill": {
          "duration": 3.247957,
          "end_time": "2021-05-31T16:12:07.498339",
          "exception": false,
          "start_time": "2021-05-31T16:12:04.250382",
          "status": "completed"
        },
        "tags": [],
        "colab": {
          "base_uri": "https://localhost:8080/"
        },
        "id": "UE5xQTzHyoLq",
        "outputId": "7392f6f2-c6fe-4b00-993b-7aad91645b81"
      },
      "source": [
        "a=df[df['Rating']>0]\n",
        "grouped = a.groupby('ISBN')\n",
        "popular_books = pd.DataFrame(grouped['Rating'].agg([np.size, np.mean]))\n",
        "most_popular = popular_books.sort_values(['mean'], ascending=False)\n",
        "pop=most_popular[most_popular['size']>200]\n",
        "pop_title=list(pop[:10].index)\n",
        "titles=[]\n",
        "for i in pop_title:\n",
        "    titles.append(books['Title'].loc[books['ISBN']==i].values[0])\n",
        "index=1\n",
        "for i in titles:\n",
        "    print(index,'. ',i)\n",
        "    index+=1"
      ],
      "id": "UE5xQTzHyoLq",
      "execution_count": 65,
      "outputs": [
        {
          "output_type": "stream",
          "text": [
            "1 .  Harry Potter and the Order of the Phoenix (Book 5)\n",
            "2 .  To Kill a Mockingbird\n",
            "3 .  Harry Potter and the Sorcerer's Stone (Harry Potter (Paperback))\n",
            "4 .  The Secret Life of Bees\n",
            "5 .  The Da Vinci Code\n",
            "6 .  The Lovely Bones: A Novel\n",
            "7 .  The Red Tent (Bestselling Backlist)\n",
            "8 .  The Poisonwood Bible: A Novel\n",
            "9 .  Where the Heart Is (Oprah's Book Club (Paperback))\n",
            "10 .  Angels &amp; Demons\n"
          ],
          "name": "stdout"
        }
      ]
    },
    {
      "cell_type": "markdown",
      "metadata": {
        "papermill": {
          "duration": 0.069828,
          "end_time": "2021-05-31T16:18:12.548730",
          "exception": false,
          "start_time": "2021-05-31T16:18:12.478902",
          "status": "completed"
        },
        "tags": [],
        "id": "dPXFQ1ZKyoLt"
      },
      "source": [
        "<h2>Collabrative Filtering Based Recommendation</h2>"
      ],
      "id": "dPXFQ1ZKyoLt"
    },
    {
      "cell_type": "code",
      "metadata": {
        "id": "E2y00fgj5BZU"
      },
      "source": [
        ""
      ],
      "id": "E2y00fgj5BZU",
      "execution_count": null,
      "outputs": []
    },
    {
      "cell_type": "code",
      "metadata": {
        "execution": {
          "iopub.execute_input": "2021-05-31T16:18:12.838081Z",
          "iopub.status.busy": "2021-05-31T16:18:12.837125Z",
          "iopub.status.idle": "2021-05-31T16:18:12.893054Z",
          "shell.execute_reply": "2021-05-31T16:18:12.892486Z",
          "shell.execute_reply.started": "2021-05-31T16:03:11.015528Z"
        },
        "papermill": {
          "duration": 0.131867,
          "end_time": "2021-05-31T16:18:12.893194",
          "exception": false,
          "start_time": "2021-05-31T16:18:12.761327",
          "status": "completed"
        },
        "tags": [],
        "id": "D_jB65tHyoLt"
      },
      "source": [
        "df=df[df['Rating']>0]"
      ],
      "id": "D_jB65tHyoLt",
      "execution_count": 67,
      "outputs": []
    },
    {
      "cell_type": "code",
      "metadata": {
        "execution": {
          "iopub.execute_input": "2021-05-31T16:18:13.042007Z",
          "iopub.status.busy": "2021-05-31T16:18:13.041032Z",
          "iopub.status.idle": "2021-05-31T16:18:13.096487Z",
          "shell.execute_reply": "2021-05-31T16:18:13.095961Z",
          "shell.execute_reply.started": "2021-05-31T16:03:11.870346Z"
        },
        "papermill": {
          "duration": 0.132013,
          "end_time": "2021-05-31T16:18:13.096629",
          "exception": false,
          "start_time": "2021-05-31T16:18:12.964616",
          "status": "completed"
        },
        "tags": [],
        "colab": {
          "base_uri": "https://localhost:8080/",
          "height": 423
        },
        "id": "4RFgvv3HyoLt",
        "outputId": "c9ce9373-1f9e-4654-ab07-7bc35da05a0d"
      },
      "source": [
        "counts1 = df['UserID'].value_counts()\n",
        "df= df[df['UserID'].isin(counts1[counts1 > 200].index)]\n",
        "df"
      ],
      "id": "4RFgvv3HyoLt",
      "execution_count": 68,
      "outputs": [
        {
          "output_type": "execute_result",
          "data": {
            "text/html": [
              "<div>\n",
              "<style scoped>\n",
              "    .dataframe tbody tr th:only-of-type {\n",
              "        vertical-align: middle;\n",
              "    }\n",
              "\n",
              "    .dataframe tbody tr th {\n",
              "        vertical-align: top;\n",
              "    }\n",
              "\n",
              "    .dataframe thead th {\n",
              "        text-align: right;\n",
              "    }\n",
              "</style>\n",
              "<table border=\"1\" class=\"dataframe\">\n",
              "  <thead>\n",
              "    <tr style=\"text-align: right;\">\n",
              "      <th></th>\n",
              "      <th>UserID</th>\n",
              "      <th>Age</th>\n",
              "      <th>city</th>\n",
              "      <th>state</th>\n",
              "      <th>country</th>\n",
              "      <th>ISBN</th>\n",
              "      <th>Rating</th>\n",
              "      <th>Country_Code</th>\n",
              "    </tr>\n",
              "  </thead>\n",
              "  <tbody>\n",
              "    <tr>\n",
              "      <th>10196</th>\n",
              "      <td>4385</td>\n",
              "      <td>33</td>\n",
              "      <td>albq</td>\n",
              "      <td>new mexico</td>\n",
              "      <td>usa</td>\n",
              "      <td>0061083402</td>\n",
              "      <td>10</td>\n",
              "      <td>USA</td>\n",
              "    </tr>\n",
              "    <tr>\n",
              "      <th>10198</th>\n",
              "      <td>4385</td>\n",
              "      <td>33</td>\n",
              "      <td>albq</td>\n",
              "      <td>new mexico</td>\n",
              "      <td>usa</td>\n",
              "      <td>0061093343</td>\n",
              "      <td>9</td>\n",
              "      <td>USA</td>\n",
              "    </tr>\n",
              "    <tr>\n",
              "      <th>10199</th>\n",
              "      <td>4385</td>\n",
              "      <td>33</td>\n",
              "      <td>albq</td>\n",
              "      <td>new mexico</td>\n",
              "      <td>usa</td>\n",
              "      <td>0061096156</td>\n",
              "      <td>10</td>\n",
              "      <td>USA</td>\n",
              "    </tr>\n",
              "    <tr>\n",
              "      <th>10201</th>\n",
              "      <td>4385</td>\n",
              "      <td>33</td>\n",
              "      <td>albq</td>\n",
              "      <td>new mexico</td>\n",
              "      <td>usa</td>\n",
              "      <td>0312956762</td>\n",
              "      <td>10</td>\n",
              "      <td>USA</td>\n",
              "    </tr>\n",
              "    <tr>\n",
              "      <th>10202</th>\n",
              "      <td>4385</td>\n",
              "      <td>33</td>\n",
              "      <td>albq</td>\n",
              "      <td>new mexico</td>\n",
              "      <td>usa</td>\n",
              "      <td>0312980353</td>\n",
              "      <td>10</td>\n",
              "      <td>USA</td>\n",
              "    </tr>\n",
              "    <tr>\n",
              "      <th>...</th>\n",
              "      <td>...</td>\n",
              "      <td>...</td>\n",
              "      <td>...</td>\n",
              "      <td>...</td>\n",
              "      <td>...</td>\n",
              "      <td>...</td>\n",
              "      <td>...</td>\n",
              "      <td>...</td>\n",
              "    </tr>\n",
              "    <tr>\n",
              "      <th>1014234</th>\n",
              "      <td>274061</td>\n",
              "      <td>26</td>\n",
              "      <td>gahanna/columbus</td>\n",
              "      <td>ohio</td>\n",
              "      <td>usa</td>\n",
              "      <td>1892213737</td>\n",
              "      <td>10</td>\n",
              "      <td>USA</td>\n",
              "    </tr>\n",
              "    <tr>\n",
              "      <th>1014235</th>\n",
              "      <td>274061</td>\n",
              "      <td>26</td>\n",
              "      <td>gahanna/columbus</td>\n",
              "      <td>ohio</td>\n",
              "      <td>usa</td>\n",
              "      <td>189221394X</td>\n",
              "      <td>10</td>\n",
              "      <td>USA</td>\n",
              "    </tr>\n",
              "    <tr>\n",
              "      <th>1014236</th>\n",
              "      <td>274061</td>\n",
              "      <td>26</td>\n",
              "      <td>gahanna/columbus</td>\n",
              "      <td>ohio</td>\n",
              "      <td>usa</td>\n",
              "      <td>1892213958</td>\n",
              "      <td>10</td>\n",
              "      <td>USA</td>\n",
              "    </tr>\n",
              "    <tr>\n",
              "      <th>1014237</th>\n",
              "      <td>274061</td>\n",
              "      <td>26</td>\n",
              "      <td>gahanna/columbus</td>\n",
              "      <td>ohio</td>\n",
              "      <td>usa</td>\n",
              "      <td>1892213966</td>\n",
              "      <td>10</td>\n",
              "      <td>USA</td>\n",
              "    </tr>\n",
              "    <tr>\n",
              "      <th>1014238</th>\n",
              "      <td>274061</td>\n",
              "      <td>26</td>\n",
              "      <td>gahanna/columbus</td>\n",
              "      <td>ohio</td>\n",
              "      <td>usa</td>\n",
              "      <td>1931514925</td>\n",
              "      <td>10</td>\n",
              "      <td>USA</td>\n",
              "    </tr>\n",
              "  </tbody>\n",
              "</table>\n",
              "<p>58174 rows × 8 columns</p>\n",
              "</div>"
            ],
            "text/plain": [
              "         UserID  Age              city  ...        ISBN Rating Country_Code\n",
              "10196      4385   33              albq  ...  0061083402     10          USA\n",
              "10198      4385   33              albq  ...  0061093343      9          USA\n",
              "10199      4385   33              albq  ...  0061096156     10          USA\n",
              "10201      4385   33              albq  ...  0312956762     10          USA\n",
              "10202      4385   33              albq  ...  0312980353     10          USA\n",
              "...         ...  ...               ...  ...         ...    ...          ...\n",
              "1014234  274061   26  gahanna/columbus  ...  1892213737     10          USA\n",
              "1014235  274061   26  gahanna/columbus  ...  189221394X     10          USA\n",
              "1014236  274061   26  gahanna/columbus  ...  1892213958     10          USA\n",
              "1014237  274061   26  gahanna/columbus  ...  1892213966     10          USA\n",
              "1014238  274061   26  gahanna/columbus  ...  1931514925     10          USA\n",
              "\n",
              "[58174 rows x 8 columns]"
            ]
          },
          "metadata": {
            "tags": []
          },
          "execution_count": 68
        }
      ]
    },
    {
      "cell_type": "code",
      "metadata": {
        "execution": {
          "iopub.execute_input": "2021-05-31T16:18:13.251540Z",
          "iopub.status.busy": "2021-05-31T16:18:13.250869Z",
          "iopub.status.idle": "2021-05-31T16:18:13.262127Z",
          "shell.execute_reply": "2021-05-31T16:18:13.262675Z",
          "shell.execute_reply.started": "2021-05-31T16:03:18.823017Z"
        },
        "papermill": {
          "duration": 0.094562,
          "end_time": "2021-05-31T16:18:13.262859",
          "exception": false,
          "start_time": "2021-05-31T16:18:13.168297",
          "status": "completed"
        },
        "tags": [],
        "colab": {
          "base_uri": "https://localhost:8080/"
        },
        "id": "bNUsWwB_yoLu",
        "outputId": "ef11d8b0-b2c4-4467-b31f-a42036c9f7ef"
      },
      "source": [
        "len(df['ISBN'].unique())"
      ],
      "id": "bNUsWwB_yoLu",
      "execution_count": 69,
      "outputs": [
        {
          "output_type": "execute_result",
          "data": {
            "text/plain": [
              "44306"
            ]
          },
          "metadata": {
            "tags": []
          },
          "execution_count": 69
        }
      ]
    },
    {
      "cell_type": "code",
      "metadata": {
        "execution": {
          "iopub.execute_input": "2021-05-31T16:18:13.431646Z",
          "iopub.status.busy": "2021-05-31T16:18:13.430971Z",
          "iopub.status.idle": "2021-05-31T16:18:13.655690Z",
          "shell.execute_reply": "2021-05-31T16:18:13.656209Z",
          "shell.execute_reply.started": "2021-05-31T16:03:18.846479Z"
        },
        "papermill": {
          "duration": 0.314191,
          "end_time": "2021-05-31T16:18:13.656395",
          "exception": false,
          "start_time": "2021-05-31T16:18:13.342204",
          "status": "completed"
        },
        "tags": [],
        "colab": {
          "base_uri": "https://localhost:8080/",
          "height": 773
        },
        "id": "CRT4U4nnyoLu",
        "outputId": "2d342d07-f470-4f13-87fd-597fcfcb1feb"
      },
      "source": [
        "cdf1=df[['UserID','ISBN','Rating']]\n",
        "cdf=pd.merge(cdf1,books,on='ISBN')\n",
        "cdf"
      ],
      "id": "CRT4U4nnyoLu",
      "execution_count": 70,
      "outputs": [
        {
          "output_type": "execute_result",
          "data": {
            "text/html": [
              "<div>\n",
              "<style scoped>\n",
              "    .dataframe tbody tr th:only-of-type {\n",
              "        vertical-align: middle;\n",
              "    }\n",
              "\n",
              "    .dataframe tbody tr th {\n",
              "        vertical-align: top;\n",
              "    }\n",
              "\n",
              "    .dataframe thead th {\n",
              "        text-align: right;\n",
              "    }\n",
              "</style>\n",
              "<table border=\"1\" class=\"dataframe\">\n",
              "  <thead>\n",
              "    <tr style=\"text-align: right;\">\n",
              "      <th></th>\n",
              "      <th>UserID</th>\n",
              "      <th>ISBN</th>\n",
              "      <th>Rating</th>\n",
              "      <th>Title</th>\n",
              "      <th>Author</th>\n",
              "      <th>Year_Of_Publication</th>\n",
              "      <th>Publisher</th>\n",
              "      <th>Image_URL_M</th>\n",
              "    </tr>\n",
              "  </thead>\n",
              "  <tbody>\n",
              "    <tr>\n",
              "      <th>0</th>\n",
              "      <td>4385</td>\n",
              "      <td>0061083402</td>\n",
              "      <td>10</td>\n",
              "      <td>The Bandit's Lady (Harper Monogram)</td>\n",
              "      <td>Maureen Child</td>\n",
              "      <td>1995</td>\n",
              "      <td>Harper Mass Market Paperbacks (Mm)</td>\n",
              "      <td>http://images.amazon.com/images/P/0061083402.01.MZZZZZZZ.jpg</td>\n",
              "    </tr>\n",
              "    <tr>\n",
              "      <th>1</th>\n",
              "      <td>4385</td>\n",
              "      <td>0061093343</td>\n",
              "      <td>9</td>\n",
              "      <td>Fault Lines</td>\n",
              "      <td>Anne Rivers Siddons</td>\n",
              "      <td>1996</td>\n",
              "      <td>HarperTorch</td>\n",
              "      <td>http://images.amazon.com/images/P/0061093343.01.MZZZZZZZ.jpg</td>\n",
              "    </tr>\n",
              "    <tr>\n",
              "      <th>2</th>\n",
              "      <td>11676</td>\n",
              "      <td>0061093343</td>\n",
              "      <td>8</td>\n",
              "      <td>Fault Lines</td>\n",
              "      <td>Anne Rivers Siddons</td>\n",
              "      <td>1996</td>\n",
              "      <td>HarperTorch</td>\n",
              "      <td>http://images.amazon.com/images/P/0061093343.01.MZZZZZZZ.jpg</td>\n",
              "    </tr>\n",
              "    <tr>\n",
              "      <th>3</th>\n",
              "      <td>4385</td>\n",
              "      <td>0061096156</td>\n",
              "      <td>10</td>\n",
              "      <td>Society of the Mind: A Cyberthriller</td>\n",
              "      <td>Eric L. Harry</td>\n",
              "      <td>1997</td>\n",
              "      <td>Harper Mass Market Paperbacks (Mm)</td>\n",
              "      <td>http://images.amazon.com/images/P/0061096156.01.MZZZZZZZ.jpg</td>\n",
              "    </tr>\n",
              "    <tr>\n",
              "      <th>4</th>\n",
              "      <td>4385</td>\n",
              "      <td>0312956762</td>\n",
              "      <td>10</td>\n",
              "      <td>Die Hard: With a Vengeance - A Novel</td>\n",
              "      <td>D. Chiel</td>\n",
              "      <td>1995</td>\n",
              "      <td>St Martins Pr</td>\n",
              "      <td>http://images.amazon.com/images/P/0312956762.01.MZZZZZZZ.jpg</td>\n",
              "    </tr>\n",
              "    <tr>\n",
              "      <th>...</th>\n",
              "      <td>...</td>\n",
              "      <td>...</td>\n",
              "      <td>...</td>\n",
              "      <td>...</td>\n",
              "      <td>...</td>\n",
              "      <td>...</td>\n",
              "      <td>...</td>\n",
              "      <td>...</td>\n",
              "    </tr>\n",
              "    <tr>\n",
              "      <th>58169</th>\n",
              "      <td>274061</td>\n",
              "      <td>1892213737</td>\n",
              "      <td>10</td>\n",
              "      <td>Cardcaptor Sakura, Number 5</td>\n",
              "      <td>Clamp</td>\n",
              "      <td>2001</td>\n",
              "      <td>Tokyopop</td>\n",
              "      <td>http://images.amazon.com/images/P/1892213737.01.MZZZZZZZ.jpg</td>\n",
              "    </tr>\n",
              "    <tr>\n",
              "      <th>58170</th>\n",
              "      <td>274061</td>\n",
              "      <td>189221394X</td>\n",
              "      <td>10</td>\n",
              "      <td>Clover #2</td>\n",
              "      <td>Clamp</td>\n",
              "      <td>2001</td>\n",
              "      <td>Tokyopop</td>\n",
              "      <td>http://images.amazon.com/images/P/189221394X.01.MZZZZZZZ.jpg</td>\n",
              "    </tr>\n",
              "    <tr>\n",
              "      <th>58171</th>\n",
              "      <td>274061</td>\n",
              "      <td>1892213958</td>\n",
              "      <td>10</td>\n",
              "      <td>Clover #3</td>\n",
              "      <td>Clamp</td>\n",
              "      <td>2002</td>\n",
              "      <td>Tokyopop</td>\n",
              "      <td>http://images.amazon.com/images/P/1892213958.01.MZZZZZZZ.jpg</td>\n",
              "    </tr>\n",
              "    <tr>\n",
              "      <th>58172</th>\n",
              "      <td>274061</td>\n",
              "      <td>1892213966</td>\n",
              "      <td>10</td>\n",
              "      <td>Clover (Clover, 4)</td>\n",
              "      <td>Clamp</td>\n",
              "      <td>2002</td>\n",
              "      <td>TokyoPop</td>\n",
              "      <td>http://images.amazon.com/images/P/1892213966.01.MZZZZZZZ.jpg</td>\n",
              "    </tr>\n",
              "    <tr>\n",
              "      <th>58173</th>\n",
              "      <td>274061</td>\n",
              "      <td>1931514925</td>\n",
              "      <td>10</td>\n",
              "      <td>Chobits Vol.1</td>\n",
              "      <td>Clamp</td>\n",
              "      <td>2002</td>\n",
              "      <td>Tokyopop</td>\n",
              "      <td>http://images.amazon.com/images/P/1931514925.01.MZZZZZZZ.jpg</td>\n",
              "    </tr>\n",
              "  </tbody>\n",
              "</table>\n",
              "<p>58174 rows × 8 columns</p>\n",
              "</div>"
            ],
            "text/plain": [
              "       UserID  ...                                                   Image_URL_M\n",
              "0        4385  ...  http://images.amazon.com/images/P/0061083402.01.MZZZZZZZ.jpg\n",
              "1        4385  ...  http://images.amazon.com/images/P/0061093343.01.MZZZZZZZ.jpg\n",
              "2       11676  ...  http://images.amazon.com/images/P/0061093343.01.MZZZZZZZ.jpg\n",
              "3        4385  ...  http://images.amazon.com/images/P/0061096156.01.MZZZZZZZ.jpg\n",
              "4        4385  ...  http://images.amazon.com/images/P/0312956762.01.MZZZZZZZ.jpg\n",
              "...       ...  ...                                                           ...\n",
              "58169  274061  ...  http://images.amazon.com/images/P/1892213737.01.MZZZZZZZ.jpg\n",
              "58170  274061  ...  http://images.amazon.com/images/P/189221394X.01.MZZZZZZZ.jpg\n",
              "58171  274061  ...  http://images.amazon.com/images/P/1892213958.01.MZZZZZZZ.jpg\n",
              "58172  274061  ...  http://images.amazon.com/images/P/1892213966.01.MZZZZZZZ.jpg\n",
              "58173  274061  ...  http://images.amazon.com/images/P/1931514925.01.MZZZZZZZ.jpg\n",
              "\n",
              "[58174 rows x 8 columns]"
            ]
          },
          "metadata": {
            "tags": []
          },
          "execution_count": 70
        }
      ]
    },
    {
      "cell_type": "code",
      "metadata": {
        "execution": {
          "iopub.execute_input": "2021-05-31T16:18:13.804386Z",
          "iopub.status.busy": "2021-05-31T16:18:13.803689Z",
          "iopub.status.idle": "2021-05-31T16:18:14.017196Z",
          "shell.execute_reply": "2021-05-31T16:18:14.017670Z",
          "shell.execute_reply.started": "2021-05-31T16:03:25.717529Z"
        },
        "papermill": {
          "duration": 0.289336,
          "end_time": "2021-05-31T16:18:14.017906",
          "exception": false,
          "start_time": "2021-05-31T16:18:13.728570",
          "status": "completed"
        },
        "tags": [],
        "colab": {
          "base_uri": "https://localhost:8080/",
          "height": 773
        },
        "id": "33TfDHe-yoLu",
        "outputId": "520c5e36-49c8-4814-d1a6-612556509b73"
      },
      "source": [
        "from sklearn import preprocessing\n",
        "le = preprocessing.LabelEncoder()\n",
        "cdf['User_ID']=le.fit_transform(cdf['UserID'])\n",
        "cdf['title_id']=le.fit_transform(cdf['Title'])\n",
        "cdf.drop('UserID',axis=1,inplace=True)\n",
        "cdf"
      ],
      "id": "33TfDHe-yoLu",
      "execution_count": 71,
      "outputs": [
        {
          "output_type": "execute_result",
          "data": {
            "text/html": [
              "<div>\n",
              "<style scoped>\n",
              "    .dataframe tbody tr th:only-of-type {\n",
              "        vertical-align: middle;\n",
              "    }\n",
              "\n",
              "    .dataframe tbody tr th {\n",
              "        vertical-align: top;\n",
              "    }\n",
              "\n",
              "    .dataframe thead th {\n",
              "        text-align: right;\n",
              "    }\n",
              "</style>\n",
              "<table border=\"1\" class=\"dataframe\">\n",
              "  <thead>\n",
              "    <tr style=\"text-align: right;\">\n",
              "      <th></th>\n",
              "      <th>ISBN</th>\n",
              "      <th>Rating</th>\n",
              "      <th>Title</th>\n",
              "      <th>Author</th>\n",
              "      <th>Year_Of_Publication</th>\n",
              "      <th>Publisher</th>\n",
              "      <th>Image_URL_M</th>\n",
              "      <th>User_ID</th>\n",
              "      <th>title_id</th>\n",
              "    </tr>\n",
              "  </thead>\n",
              "  <tbody>\n",
              "    <tr>\n",
              "      <th>0</th>\n",
              "      <td>0061083402</td>\n",
              "      <td>10</td>\n",
              "      <td>The Bandit's Lady (Harper Monogram)</td>\n",
              "      <td>Maureen Child</td>\n",
              "      <td>1995</td>\n",
              "      <td>Harper Mass Market Paperbacks (Mm)</td>\n",
              "      <td>http://images.amazon.com/images/P/0061083402.01.MZZZZZZZ.jpg</td>\n",
              "      <td>0</td>\n",
              "      <td>29551</td>\n",
              "    </tr>\n",
              "    <tr>\n",
              "      <th>1</th>\n",
              "      <td>0061093343</td>\n",
              "      <td>9</td>\n",
              "      <td>Fault Lines</td>\n",
              "      <td>Anne Rivers Siddons</td>\n",
              "      <td>1996</td>\n",
              "      <td>HarperTorch</td>\n",
              "      <td>http://images.amazon.com/images/P/0061093343.01.MZZZZZZZ.jpg</td>\n",
              "      <td>0</td>\n",
              "      <td>11125</td>\n",
              "    </tr>\n",
              "    <tr>\n",
              "      <th>2</th>\n",
              "      <td>0061093343</td>\n",
              "      <td>8</td>\n",
              "      <td>Fault Lines</td>\n",
              "      <td>Anne Rivers Siddons</td>\n",
              "      <td>1996</td>\n",
              "      <td>HarperTorch</td>\n",
              "      <td>http://images.amazon.com/images/P/0061093343.01.MZZZZZZZ.jpg</td>\n",
              "      <td>4</td>\n",
              "      <td>11125</td>\n",
              "    </tr>\n",
              "    <tr>\n",
              "      <th>3</th>\n",
              "      <td>0061096156</td>\n",
              "      <td>10</td>\n",
              "      <td>Society of the Mind: A Cyberthriller</td>\n",
              "      <td>Eric L. Harry</td>\n",
              "      <td>1997</td>\n",
              "      <td>Harper Mass Market Paperbacks (Mm)</td>\n",
              "      <td>http://images.amazon.com/images/P/0061096156.01.MZZZZZZZ.jpg</td>\n",
              "      <td>0</td>\n",
              "      <td>27212</td>\n",
              "    </tr>\n",
              "    <tr>\n",
              "      <th>4</th>\n",
              "      <td>0312956762</td>\n",
              "      <td>10</td>\n",
              "      <td>Die Hard: With a Vengeance - A Novel</td>\n",
              "      <td>D. Chiel</td>\n",
              "      <td>1995</td>\n",
              "      <td>St Martins Pr</td>\n",
              "      <td>http://images.amazon.com/images/P/0312956762.01.MZZZZZZZ.jpg</td>\n",
              "      <td>0</td>\n",
              "      <td>8828</td>\n",
              "    </tr>\n",
              "    <tr>\n",
              "      <th>...</th>\n",
              "      <td>...</td>\n",
              "      <td>...</td>\n",
              "      <td>...</td>\n",
              "      <td>...</td>\n",
              "      <td>...</td>\n",
              "      <td>...</td>\n",
              "      <td>...</td>\n",
              "      <td>...</td>\n",
              "      <td>...</td>\n",
              "    </tr>\n",
              "    <tr>\n",
              "      <th>58169</th>\n",
              "      <td>1892213737</td>\n",
              "      <td>10</td>\n",
              "      <td>Cardcaptor Sakura, Number 5</td>\n",
              "      <td>Clamp</td>\n",
              "      <td>2001</td>\n",
              "      <td>Tokyopop</td>\n",
              "      <td>http://images.amazon.com/images/P/1892213737.01.MZZZZZZZ.jpg</td>\n",
              "      <td>117</td>\n",
              "      <td>5731</td>\n",
              "    </tr>\n",
              "    <tr>\n",
              "      <th>58170</th>\n",
              "      <td>189221394X</td>\n",
              "      <td>10</td>\n",
              "      <td>Clover #2</td>\n",
              "      <td>Clamp</td>\n",
              "      <td>2001</td>\n",
              "      <td>Tokyopop</td>\n",
              "      <td>http://images.amazon.com/images/P/189221394X.01.MZZZZZZZ.jpg</td>\n",
              "      <td>117</td>\n",
              "      <td>6625</td>\n",
              "    </tr>\n",
              "    <tr>\n",
              "      <th>58171</th>\n",
              "      <td>1892213958</td>\n",
              "      <td>10</td>\n",
              "      <td>Clover #3</td>\n",
              "      <td>Clamp</td>\n",
              "      <td>2002</td>\n",
              "      <td>Tokyopop</td>\n",
              "      <td>http://images.amazon.com/images/P/1892213958.01.MZZZZZZZ.jpg</td>\n",
              "      <td>117</td>\n",
              "      <td>6626</td>\n",
              "    </tr>\n",
              "    <tr>\n",
              "      <th>58172</th>\n",
              "      <td>1892213966</td>\n",
              "      <td>10</td>\n",
              "      <td>Clover (Clover, 4)</td>\n",
              "      <td>Clamp</td>\n",
              "      <td>2002</td>\n",
              "      <td>TokyoPop</td>\n",
              "      <td>http://images.amazon.com/images/P/1892213966.01.MZZZZZZZ.jpg</td>\n",
              "      <td>117</td>\n",
              "      <td>6628</td>\n",
              "    </tr>\n",
              "    <tr>\n",
              "      <th>58173</th>\n",
              "      <td>1931514925</td>\n",
              "      <td>10</td>\n",
              "      <td>Chobits Vol.1</td>\n",
              "      <td>Clamp</td>\n",
              "      <td>2002</td>\n",
              "      <td>Tokyopop</td>\n",
              "      <td>http://images.amazon.com/images/P/1931514925.01.MZZZZZZZ.jpg</td>\n",
              "      <td>117</td>\n",
              "      <td>6328</td>\n",
              "    </tr>\n",
              "  </tbody>\n",
              "</table>\n",
              "<p>58174 rows × 9 columns</p>\n",
              "</div>"
            ],
            "text/plain": [
              "             ISBN  Rating  ... User_ID title_id\n",
              "0      0061083402      10  ...       0    29551\n",
              "1      0061093343       9  ...       0    11125\n",
              "2      0061093343       8  ...       4    11125\n",
              "3      0061096156      10  ...       0    27212\n",
              "4      0312956762      10  ...       0     8828\n",
              "...           ...     ...  ...     ...      ...\n",
              "58169  1892213737      10  ...     117     5731\n",
              "58170  189221394X      10  ...     117     6625\n",
              "58171  1892213958      10  ...     117     6626\n",
              "58172  1892213966      10  ...     117     6628\n",
              "58173  1931514925      10  ...     117     6328\n",
              "\n",
              "[58174 rows x 9 columns]"
            ]
          },
          "metadata": {
            "tags": []
          },
          "execution_count": 71
        }
      ]
    },
    {
      "cell_type": "code",
      "metadata": {
        "execution": {
          "iopub.execute_input": "2021-05-31T16:18:14.213637Z",
          "iopub.status.busy": "2021-05-31T16:18:14.208585Z",
          "iopub.status.idle": "2021-05-31T16:18:42.038680Z",
          "shell.execute_reply": "2021-05-31T16:18:42.039123Z",
          "shell.execute_reply.started": "2021-05-31T16:03:26.949801Z"
        },
        "papermill": {
          "duration": 27.947706,
          "end_time": "2021-05-31T16:18:42.039289",
          "exception": false,
          "start_time": "2021-05-31T16:18:14.091583",
          "status": "completed"
        },
        "tags": [],
        "colab": {
          "base_uri": "https://localhost:8080/"
        },
        "id": "2JXcW8J7yoLu",
        "outputId": "845967ef-9d27-4a37-bda5-2d71ea473ae5"
      },
      "source": [
        "from surprise import Reader\n",
        "reader = Reader(rating_scale=(1, 10))\n",
        "data = Dataset.load_from_df(cdf[['User_ID','title_id','Rating']], reader)\n",
        "svd = SVD()\n",
        "cross_validate(svd, data, measures=['RMSE', 'MAE'], cv=5, verbose=True)\n"
      ],
      "id": "2JXcW8J7yoLu",
      "execution_count": 72,
      "outputs": [
        {
          "output_type": "stream",
          "text": [
            "Evaluating RMSE, MAE of algorithm SVD on 5 split(s).\n",
            "\n",
            "                  Fold 1  Fold 2  Fold 3  Fold 4  Fold 5  Mean    Std     \n",
            "RMSE (testset)    1.4612  1.4902  1.4954  1.4931  1.4746  1.4829  0.0131  \n",
            "MAE (testset)     1.0647  1.0791  1.0879  1.0896  1.0863  1.0815  0.0091  \n",
            "Fit time          3.19    3.18    3.13    3.19    3.16    3.17    0.02    \n",
            "Test time         0.08    0.08    0.08    0.12    0.08    0.09    0.02    \n"
          ],
          "name": "stdout"
        },
        {
          "output_type": "execute_result",
          "data": {
            "text/plain": [
              "{'fit_time': (3.189040422439575,\n",
              "  3.1811001300811768,\n",
              "  3.1307921409606934,\n",
              "  3.1898090839385986,\n",
              "  3.157587766647339),\n",
              " 'test_mae': array([1.06471329, 1.07913932, 1.08792585, 1.0895604 , 1.08626385]),\n",
              " 'test_rmse': array([1.46122674, 1.49017441, 1.49537904, 1.49312918, 1.47455341]),\n",
              " 'test_time': (0.08108115196228027,\n",
              "  0.07860183715820312,\n",
              "  0.08008122444152832,\n",
              "  0.12024474143981934,\n",
              "  0.07907414436340332)}"
            ]
          },
          "metadata": {
            "tags": []
          },
          "execution_count": 72
        }
      ]
    },
    {
      "cell_type": "code",
      "metadata": {
        "execution": {
          "iopub.execute_input": "2021-05-31T16:18:42.196114Z",
          "iopub.status.busy": "2021-05-31T16:18:42.195471Z",
          "iopub.status.idle": "2021-05-31T16:18:42.197386Z",
          "shell.execute_reply": "2021-05-31T16:18:42.197912Z",
          "shell.execute_reply.started": "2021-05-31T16:04:38.057737Z"
        },
        "papermill": {
          "duration": 0.085224,
          "end_time": "2021-05-31T16:18:42.198085",
          "exception": false,
          "start_time": "2021-05-31T16:18:42.112861",
          "status": "completed"
        },
        "tags": [],
        "id": "pywEas01yoLu"
      },
      "source": [
        "def user_rec(id):\n",
        "    user= cdf[['ISBN','Title','Author','Year_Of_Publication','Publisher','title_id']].copy()\n",
        "    user = user.reset_index()\n",
        "# getting full dataset\n",
        "    data = Dataset.load_from_df(cdf[['User_ID','title_id','Rating']], reader)\n",
        "    trainset = data.build_full_trainset()\n",
        "    svd.fit(trainset)\n",
        "    user['Estimate_Score'] = user['title_id'].apply(lambda x: svd.predict(id, x).est)\n",
        "    user = user.drop(['index','title_id'], axis = 1)\n",
        "    user= user.sort_values('Estimate_Score' , ascending = False)\n",
        "    counts1 = user['Estimate_Score'].value_counts()\n",
        "    user = user[user['Estimate_Score'].isin(counts1[counts1 == 1].index)]\n",
        "    return user.head(10)"
      ],
      "id": "pywEas01yoLu",
      "execution_count": 73,
      "outputs": []
    },
    {
      "cell_type": "code",
      "metadata": {
        "execution": {
          "iopub.execute_input": "2021-05-31T16:18:42.350727Z",
          "iopub.status.busy": "2021-05-31T16:18:42.349972Z",
          "iopub.status.idle": "2021-05-31T16:18:49.338101Z",
          "shell.execute_reply": "2021-05-31T16:18:49.337587Z",
          "shell.execute_reply.started": "2021-05-31T16:04:39.019697Z"
        },
        "papermill": {
          "duration": 7.065375,
          "end_time": "2021-05-31T16:18:49.338248",
          "exception": false,
          "start_time": "2021-05-31T16:18:42.272873",
          "status": "completed"
        },
        "tags": [],
        "colab": {
          "base_uri": "https://localhost:8080/",
          "height": 1000
        },
        "id": "JCi1Y5dEyoLv",
        "outputId": "cd1dff16-dccc-436a-b8ce-c0018670c1ef"
      },
      "source": [
        "pd.set_option('display.max_rows',None) \n",
        "Uid=3\n",
        "print(\"THE ID OF THE USER: \",Uid)\n",
        "details=cdf.loc[cdf['User_ID']==Uid]\n",
        "id=details['User_ID'].iloc[0]\n",
        "a=user_rec(id)\n",
        "a.reset_index(inplace=True)\n",
        "a.drop(['index'],axis=1,inplace=True)\n",
        "details.reset_index(inplace=True)\n",
        "details\n",
        "details.drop(['index','User_ID','title_id','ISBN'],axis=1,inplace=True)\n",
        "print(\"\\n********************************************USER HAS RATED THESE BOOKs******************************************************\")\n",
        "title_1=list(details['Title'])\n",
        "rat1=list(details['Rating'])\n",
        "for i,j in zip(title_1,rat1):\n",
        "    print(i,'=>',j)\n",
        "print(\"\\n****************HERE ARE A FEW RECOMMENDATIONS FOR THE USER WITH THE  MOST ESTIMATED POINTS THE USER WILL GIVE******************\")\n",
        "\n",
        "display(a)"
      ],
      "id": "JCi1Y5dEyoLv",
      "execution_count": 74,
      "outputs": [
        {
          "output_type": "stream",
          "text": [
            "THE ID OF THE USER:  3\n",
            "\n",
            "********************************************USER HAS RATED THESE BOOKs******************************************************\n",
            "The Runaway Jury => 9\n",
            "Seven Up (A Stephanie Plum Novel) => 8\n",
            "MANY WATERS => 7\n",
            "Dying for Chocolate (Culinary Mysteries (Paperback)) => 8\n",
            "Wicked: The Life and Times of the Wicked Witch of the West => 7\n",
            "Cold Comfort Farm => 6\n",
            "Girl in Hyacinth Blue => 8\n",
            "To the Nines: A Stephanie Plum Novel => 6\n",
            "Four To Score (A Stephanie Plum Novel) => 8\n",
            "Coraline => 9\n",
            "The Sweet Potato Queens' Book of Love => 7\n",
            "Two for the Dough => 8\n",
            "THREE TO GET DEADLY : A Stephanie Plum Novel => 8\n",
            "The Other Boleyn Girl => 9\n",
            "The Joy Luck Club => 9\n",
            "The Kitchen God's Wife => 8\n",
            "Joshua => 8\n",
            "Mere Christianity: A revised and enlarged edition, with a new introduction, of the three books, The case for Christianity, Christian behaviour, and Beyond personality => 10\n",
            "Once upon a More Enlightened Time: More Politically Correct Bedtime Stories => 8\n",
            "The Boy Next Door => 8\n",
            "Today I Am a Ma'Am: And Other Musings on Life, Beauty, and Growing Older => 7\n",
            "The Last Hero : A Discworld Fable => 9\n",
            "Rescuing the Bible from Fundamentalism : A Bishop Rethinks the Meaning of Scripture => 8\n",
            "A Hog on Ice and Other Curious Expressions (Harper Colophon Books) => 8\n",
            "Love, Medicine and Miracles : Lessons Learned about Self-Healing from a Surgeon's Experience with Exceptional Patients => 8\n",
            "Vanishing Point: A Miss Silver Mystery => 7\n",
            "Hunger Point : A Novel => 7\n",
            "Guards! Guards! (Discworld Novels (Paperback)) => 9\n",
            "Gaudy Night => 8\n",
            "Strong Poison => 8\n",
            "When You Look Like Your Passport Photo, It's Time to Go Home => 8\n",
            "Freaky Friday => 7\n",
            "Where the Wild Things Are (Caldecott Collection) => 8\n",
            "The Lion, the Witch, and the Wardrobe (The Chronicles of Narnia, Book 2) => 9\n",
            "Angus, Thongs and Full-Frontal Snogging: Confessions of Georgia Nicolson => 6\n",
            "Aunt Dimity's Death (Aunt Dimity (Paperback)) => 10\n",
            "Aunt Dimity and the Duke (Penguin Crime Fiction) => 9\n",
            "Felicia's Journey => 8\n",
            "A Light in the Window (The Mitford Years) => 8\n",
            "Journey to the Centre of the Earth (Puffin Classics) => 8\n",
            "The Westing Game (Now in Speak!) => 8\n",
            "Pride and Prejudice (The Penguin English Library, El 72) => 10\n",
            "As You Like It (New Penguin Shakespeare S.) => 8\n",
            "Wuthering Heights (The World's Classics) => 7\n",
            "Freckles (Deluxe Illustrated Classic Series) => 7\n",
            "Daddies: All About the Work They Do (Little Golden Books) => 7\n",
            "Eli => 8\n",
            "I Capture the Castle => 8\n",
            "High Five (A Stephanie Plum Novel) => 7\n",
            "Agatha Raisin and the Love from Hell (An Agatha Raisin Mystery) => 7\n",
            "Silence of the Lambs => 9\n",
            "James Herriot's Dog Stories => 9\n",
            "All Things Bright and Beautiful (All Things Bright &amp; Beautiful) => 10\n",
            "Death of a Fool (St. Martin's Dead Letter Mysteries.) => 8\n",
            "Hot Six : A Stephanie Plum Novel (A Stephanie Plum Novel) => 7\n",
            "Skeleton Key : A Gregor Demarkian Mystery (A Gregor Demarkian Mystery) => 6\n",
            "Murder at the Cat Show (A Perkins &amp; Tate Mystery) => 8\n",
            "Lucky : A Memoir => 8\n",
            "Cats and Their Women => 9\n",
            "Buzz Beamer's Out of This World Series => 5\n",
            "Her Majesty's Wizard => 9\n",
            "Centaur Aisle => 7\n",
            "Moreta: Dragonlady of Pern => 8\n",
            "Night Mare #06 => 6\n",
            "Dragon on a Pedestal => 8\n",
            "Crewel Lye => 6\n",
            "The Source of Magic => 9\n",
            "Dragonquest => 10\n",
            "Killashandra => 7\n",
            "Spell for Chameleon #01 => 9\n",
            "Golem in the Gears (Xanth Novels (Paperback)) => 7\n",
            "Killing Orders => 8\n",
            "Crystal Singer => 7\n",
            "Ogre Ogre #05 => 4\n",
            "Castle Roogna #03 => 9\n",
            "The White Dragon (Dragonriders of Pern Vol 3) => 7\n",
            "The Murder at the Murder at the Mimosa Inn (Claire Malloy Mysteries (Paperback)) => 8\n",
            "The Princess Bride: S Morgenstern's Classic Tale of True Love and High Adventure => 8\n",
            "Lovely in Her Bones => 7\n",
            "A Prayer for Owen Meany => 9\n",
            "Jurassic Park => 8\n",
            "Rising Sun => 9\n",
            "Crystal Line => 6\n",
            "Do Unto Others => 8\n",
            "Disclosure => 7\n",
            "The Only Good Yankee => 9\n",
            "Big Cherry Holler: A Big Stone Gap Novel (Ballantine Reader's Circle) => 6\n",
            "Empire Falls => 8\n",
            "Christy => 8\n",
            "101 Dalmatians => 10\n",
            "Whose Body? => 8\n",
            "Woman of Independence => 9\n",
            "When Bad Things Happen to Good People => 8\n",
            "The Ladies of Missalonghi => 8\n",
            "Crows Can't Count => 6\n",
            "It's Always Something => 8\n",
            "Eight Million Ways To Die => 7\n",
            "Hello Darling, Are You Working? => 6\n",
            "The Indian in the Cupboard (rack) (Indian in the Cupboard) => 9\n",
            "Firestorm (Anna Pigeon Mysteries (Paperback)) => 8\n",
            "Liberty Falling (Anna Pigeon Mysteries (Paperback)) => 8\n",
            "The Night of Four Hundred Rabbits => 7\n",
            "Skeleton Dance (Gideon Oliver Mysteries (Paperback)) => 8\n",
            "Man from Mundania (Xanth Trilogy, No 12) => 6\n",
            "Xanth 13: Isle of View => 6\n",
            "Xanth 14: Question Quest => 6\n",
            "Xanth 15: The Color of Her Panties => 6\n",
            "Rebecca => 9\n",
            "Auntie Mayhem (Bed-And-Breakfast Mysteries (Paperback)) => 6\n",
            "Murder on a Bad Hair Day: A Southern Sisters Mystery => 8\n",
            "White Elephant Dead: : A Death on Demand Mystery (Death on Demand Mysteries (Paperback)) => 7\n",
            "The Ape Who Guards the Balance : An Amelia Peabody Mystery => 9\n",
            "Murder Shoots the Bull : A Southern Sisters Mystery (Southern Sisters Mysteries (Paperback)) => 8\n",
            "Murder Carries a Torch : A Southern Sisters Mystery (Southern Sisters Mysteries (Paperback)) => 7\n",
            "Silver Scream : A Bed-and-Breakfast Mystery (Bed-And-Breakfast Mysteries (Paperback)) => 7\n",
            "For Better, for Worse: A Novel => 7\n",
            "The Truth: A Novel of Discworld => 8\n",
            "Drinking : A Love Story => 8\n",
            "Shopaholic Takes Manhattan (Summer Display Opportunity) => 8\n",
            "The Hot Zone => 8\n",
            "Sisterhood of the Traveling Pants => 7\n",
            "Pamela => 7\n",
            "Gift from the sea => 9\n",
            "Black Notice => 7\n",
            "P Is for Peril (Kinsey Millhone Mysteries (Hardcover)) => 8\n",
            "The Secret Diary of Adrian Mole Aged 13 3/4 => 7\n",
            "Growing Pains of Adrian Mole => 7\n",
            "The Good Girl Syndrome => 5\n",
            "Miss Seeton Paints the Town (Heron Carvic's Miss Seeton) => 7\n",
            "The Body Farm => 8\n",
            "From Potter's Field => 8\n",
            "Stray Kat Waltz (Kat Colorado Mysteries) => 8\n",
            "Atlantis Found => 8\n",
            "A Murderous Yarn (Needlecraft Mysteries) => 6\n",
            "Hanging by a Thread (Ferris, Monica. Needlecraft Mysteries.) => 8\n",
            "Harry Potter and the Sorcerer's Stone (Book 1) => 9\n",
            "Don't Say Yes When You Want to Say No : Making Life Right When It Feels All Wrong => 7\n",
            "Hard Time (V.I. Warshawski Novels (Paperback)) => 7\n",
            "The Street Lawyer => 10\n",
            "The Testament => 9\n",
            "The Brethren => 8\n",
            "Died to Match => 7\n",
            "The Summons => 8\n",
            "One of the Third Grade Thonkers => 8\n",
            "A Girl of the Limberlost => 8\n",
            "Henry and Beezus (Henry Huggins (Paperback)) => 8\n",
            "Now We Are Six => 8\n",
            "Tales of a Fourth Grade Nothing => 7\n",
            "WIND IN THE WILLOWS, THE => 9\n",
            "Ramona Forever (Ramona Quimby (Paperback)) => 7\n",
            "Tuck Everlasting => 7\n",
            "Island of the Blue Dolphins (Laurel Leaf Books) => 9\n",
            "The Pistachio Prescription: A Novel => 8\n",
            "The Godmother => 7\n",
            "Warlock Unlocked => 8\n",
            "The Warlock in Spite of Himself => 10\n",
            "The Murders of Richard III => 7\n",
            "Crocodile on the Sandbank => 9\n",
            "The Charm School => 7\n",
            "Presumed Innocent => 7\n",
            "Gone with the Wind => 8\n",
            "Dark Place => 8\n",
            "The Bungalow Mystery (Nancy Drew Mystery Stories, No 3) => 7\n",
            "The Quest of the Missing Map (Nancy Drew (Hardcover)) => 7\n",
            "The Clue in the Crumbling Wall (Nancy Drew Mystery Stories, No 22) => 7\n",
            "Mystery of the Tolling Bell (Nancy Drew Mystery Stories, No 23) => 7\n",
            "The Clue in the Old Album (Nancy Drew Mystery Stories, No 24) => 7\n",
            "\\O\\\" Is for Outlaw\" => 8\n",
            "Mrs. Pollifax Unveiled (Mrs. Pollifax Mysteries (Paperback)) => 8\n",
            "Wicked Slice => 7\n",
            "Lucifer's Hammer => 8\n",
            "To Dream of Love => 7\n",
            "American Way of Death => 8\n",
            "Miss Melville Regrets => 10\n",
            "Murder in the CIA (Capital Crime Mysteries) => 7\n",
            "Miss Melville Returns => 8\n",
            "Miss Melville's Revenge => 7\n",
            "G Is for Gumshoe (Kinsey Millhone Mysteries (Paperback)) => 8\n",
            "H Is for Homicide (Kinsey Millhone Mysteries (Paperback)) => 7\n",
            "Miss Melville Rides a Tiger => 8\n",
            "Elusive Mrs. Pollifax => 8\n",
            "Lucifers Hammer => 7\n",
            "Think about It Snoopy => 8\n",
            "Not a Penny More 4 => 10\n",
            "Mindbend => 7\n",
            "Miss Fiona's Fancy (Signet Regency Romance) => 7\n",
            "She Walks These Hills => 8\n",
            "The Crime Lovers Casebook => 7\n",
            "The Bone Collector (Lincoln Rhyme Novels (Paperback)) => 8\n",
            "The Songcatcher: A Ballad Novel => 8\n",
            "A Kiss Gone Bad => 7\n",
            "Storm Front (The Dresden Files, Book 1) => 9\n",
            "Fool Moon (The Dresden Files, Book 2) => 9\n",
            "Pride and Prejudice => 10\n",
            "1984 => 8\n",
            "The Tragedy of Hamlet Prince of Denmark (Signet Classic Shakespeare Series) => 8\n",
            "Adventures of Tom Sawyer => 7\n",
            "Animal Farm => 8\n",
            "As You Like It (Shakespeare, William, Works.) => 9\n",
            "Legally Blonde => 6\n",
            "Killer Dolphin => 9\n",
            "The Cat Who Ate Danish Modern (Cat Who... (Paperback)) => 8\n",
            "The Cat Who Could Read Backwards => 8\n",
            "Babywatching => 9\n",
            "How to Murder Your Mother-In-Law => 7\n",
            "Scandal in Fair Haven => 6\n",
            "Book of Lists => 7\n",
            "All Creatures Great and Small => 9\n",
            "Encyclopedia Brown Finds the Clues (Encyclopedia Brown (Paperback)) => 8\n",
            "All Things Bright and Beautiful => 10\n",
            "Lord God Made Them All => 10\n",
            "The Adventures of Huckleberry Finn (Bantam Classics) => 8\n",
            "The Adventures of Tom Sawyer (Adventures of Tom Sawyer) => 8\n",
            "Silas Marner (Bantam Classics) => 9\n",
            "Four Comedies/the Taming of the Shrew/a Midsummer Night's Dream/the Merchant of Venice/Twelfth Night (Bantam Classics) => 9\n",
            "Macbeth (Bantam Classics) => 8\n",
            "Anne of Ingleside (Anne of Green Gables Novels (Paperback)) => 8\n",
            "Anne's House of Dreams => 9\n",
            "Kilmeny of the Orchard (Bantam Classics) => 6\n",
            "Dragonsinger => 10\n",
            "Little Drummer Girl => 6\n",
            "A Most Contagious Game => 10\n",
            "Anne of Green Gables (Bantam Starfire Book) => 9\n",
            "When I Say No, I Feel Guilty => 8\n",
            "All Creatures Great and Small => 9\n",
            "RED DRAGON => 7\n",
            "Of Mice and Men => 8\n",
            "TANGLED WEB, A => 8\n",
            "F Is for Fugitive (Kinsey Millhone Mysteries (Paperback)) => 6\n",
            "Wish You Were Here (Mrs. Murphy Mysteries (Paperback)) => 7\n",
            "Deadly Valentine => 7\n",
            "The Thin Woman => 10\n",
            "A Great Day for the Deadly => 6\n",
            "The Pill Book: The Illustrated Guide to the Most Prescribed Druga in the U.S. (Pill Book (Mass Market Paper)) => 9\n",
            "Life 101: Everything We Wish We Had Learned in High School-But Didn't => 8\n",
            "The Christie Caper => 9\n",
            "Mint Julep Murder => 9\n",
            "To Say Nothing of the Dog => 10\n",
            "The Dead Cat Bounce : A Home Repair is Homicide Mystery (Home Repair is Homicide Mysteries (Paperback)) => 7\n",
            "Charlotte's Web => 10\n",
            "Harry Potter and the Sorcerer's Stone (Book 1) => 10\n",
            "Miss Julia Throws a Wedding => 7\n",
            "Miss Julia Hits the Road (Southern Comedy of Manners) => 8\n",
            "Bridget Jones : The Edge of Reason => 7\n",
            "The Long Program : Skating Toward Life's Victories => 7\n",
            "HOW DID I GET TO BE 40 &amp; OTHER ATROCITIES => 9\n",
            "ROAD LESS TRAVELED : A New Psychology of Love, Traditional Values, and Spritual Growth (Touchstone Books (Paperback)) => 8\n",
            "GOING FOR GOLD => 9\n",
            "GREEN GROW DOLLARS => 8\n",
            "MURDER MAKE WHEELS => 8\n",
            "DAUGHTER OF TIME => 10\n",
            "Les Miserables (Enriched Classics) => 8\n",
            "ROMEO JULIET => 9\n",
            "The Color Purple => 8\n",
            "The Anastasia Syndrome => 7\n",
            "PARTNERSHIP (Brainship) => 8\n",
            "CUCKOO'S EGG => 8\n",
            "The Life of King Henry the Fifth => 7\n",
            "Romeo and Juliet => 9\n",
            "CROSSCURRENTS (NANCY DREW FILES 68) : CROSSCURRENTS (Nancy Drew Files, No 68) => 7\n",
            "FIRST WIVES CLUB => 6\n",
            "The Lottery Winner : Alvirah And Willy Stories => 9\n",
            "Kitchen => 7\n",
            "Gift from the Sea => 10\n",
            "The Fran Lebowitz Reader => 8\n",
            "JOSHUA => 8\n",
            "MISS PYM DISPOSES => 6\n",
            "Angela's Ashes (MMP) : A Memoir => 7\n",
            "Millie's Book: As Dictated to Barbara Bush => 6\n",
            "The Wind in the Willows (Aladdin Classics) => 10\n",
            "Life Messages: Inspiration For The Woman's Spirit => 8\n",
            "The Boilerplate Rhino: Nature in the Eye of the Beholder => 8\n",
            "The Book of Fred : A Novel => 8\n",
            "Nancy Drew's Guide to Life (Running Press Miniature Editions (Paperback)) => 7\n",
            "The Five People You Meet in Heaven => 7\n",
            "Peace Like a River => 8\n",
            "God at Eventide => 4\n",
            "Death of a Party Animal (A Doonesbury book) => 6\n",
            "Thousand Pieces of Gold: A Biographical Novel (Asian Voices) => 9\n",
            "Teachers! Teachers! Teachers! => 7\n",
            "Dr. Jekyll and Mr. Hyde => 8\n",
            "The Girl Who Heard Dragons => 6\n",
            "Lion in the Valley => 9\n",
            "The Bishop and the Missing L Train (Blackie Ryan) => 8\n",
            "Still Pumped From Using The Mouse => 7\n",
            "Dilbert Fugitive From The Cubicle Police => 6\n",
            "Casual Day Has Gone Too Far => 7\n",
            "Dilbert: Seven Years Of Highly Defective People (P => 8\n",
            "10,000 Things to Praise God for => 8\n",
            "Hinds' Feet on High Places => 8\n",
            "Mountains of Spices => 7\n",
            "The Enneagram : A Journey of Self Discovery => 8\n",
            "She Said Yes: The Unlikely Martyrdom of Cassie Bernall => 8\n",
            "Mr. Death and the Redheaded Woman (A Star &amp; elephant book) => 8\n",
            "The Soul of Celtic Spirituality: In the Lives of Its Saints => 5\n",
            "People of Pern => 7\n",
            "Olive and the Magic Hat => 7\n",
            "Lady Molly of Scotland Yard => 8\n",
            "Life 101: Everything We Wish We Had Learned About Life in School--But Didn't (The Life 101 Series) => 9\n",
            "Blue eyeshadow should still be illegal: The world after Retin-A : what do you do now? => 7\n",
            "At the Manger: The Stories of Those Who Were There => 7\n",
            "Life's Little Instruction Book (Life's Little Instruction Books (Paperback)) => 9\n",
            "Chicken Soup for the Soul (Chicken Soup for the Soul) => 7\n",
            "A 2nd Helping of Chicken Soup for the Soul (Chicken Soup for the Soul Series (Paper)) => 7\n",
            "Call of the Wild => 8\n",
            "Trick or Treat Murder: A Lucy Stone Mystery (Lucy Stone Mysteries (Paperback)) => 6\n",
            "Back to School Murder: A Lucy Stone Mystery (Lucy Stone Mysteries (Paperback)) => 7\n",
            "Tippy-Toe Murder: A Lucy Stone Mystery (Lucy Stone Mysteries (Paperback)) => 6\n",
            "Turkey Day Murder: A Lucy Stone Mystery (Lucy Stone Mysteries (Paperback)) => 7\n",
            "Christmas Cookie Murder: A Lucy Stone Mystery (Lucy Stone Mysteries (Paperback)) => 6\n",
            "Wedding Day Murder: A Lucy Stone Mystery (Lucy Stone Mystery) => 5\n",
            "Birthday Party Murder: A Lucy Stone Mystery (Lucy Stone Mysteries (Paperback)) => 7\n",
            "Crime and Punishment (Wordsworth Classics) => 6\n",
            "More Cats in the Belfry => 9\n",
            "\n",
            "****************HERE ARE A FEW RECOMMENDATIONS FOR THE USER WITH THE  MOST ESTIMATED POINTS THE USER WILL GIVE******************\n"
          ],
          "name": "stdout"
        },
        {
          "output_type": "display_data",
          "data": {
            "text/html": [
              "<div>\n",
              "<style scoped>\n",
              "    .dataframe tbody tr th:only-of-type {\n",
              "        vertical-align: middle;\n",
              "    }\n",
              "\n",
              "    .dataframe tbody tr th {\n",
              "        vertical-align: top;\n",
              "    }\n",
              "\n",
              "    .dataframe thead th {\n",
              "        text-align: right;\n",
              "    }\n",
              "</style>\n",
              "<table border=\"1\" class=\"dataframe\">\n",
              "  <thead>\n",
              "    <tr style=\"text-align: right;\">\n",
              "      <th></th>\n",
              "      <th>ISBN</th>\n",
              "      <th>Title</th>\n",
              "      <th>Author</th>\n",
              "      <th>Year_Of_Publication</th>\n",
              "      <th>Publisher</th>\n",
              "      <th>Estimate_Score</th>\n",
              "    </tr>\n",
              "  </thead>\n",
              "  <tbody>\n",
              "    <tr>\n",
              "      <th>0</th>\n",
              "      <td>0812516621</td>\n",
              "      <td>The Hungry Moon</td>\n",
              "      <td>Ramsey Campbell</td>\n",
              "      <td>1987</td>\n",
              "      <td>Tor Books (Mm)</td>\n",
              "      <td>8.943151</td>\n",
              "    </tr>\n",
              "    <tr>\n",
              "      <th>1</th>\n",
              "      <td>0441873375</td>\n",
              "      <td>The Warlock in Spite of Himself</td>\n",
              "      <td>Christopher Stasheff</td>\n",
              "      <td>1994</td>\n",
              "      <td>Ace Books</td>\n",
              "      <td>8.912877</td>\n",
              "    </tr>\n",
              "    <tr>\n",
              "      <th>2</th>\n",
              "      <td>0689831404</td>\n",
              "      <td>The Wind in the Willows (Aladdin Classics)</td>\n",
              "      <td>Kenneth Grahame</td>\n",
              "      <td>1999</td>\n",
              "      <td>Aladdin</td>\n",
              "      <td>8.828779</td>\n",
              "    </tr>\n",
              "    <tr>\n",
              "      <th>3</th>\n",
              "      <td>0671223666</td>\n",
              "      <td>HOW DID I GET TO BE 40 &amp;amp; OTHER ATROCITIES</td>\n",
              "      <td>Judith Viorst</td>\n",
              "      <td>1976</td>\n",
              "      <td>Simon &amp;amp; Schuster</td>\n",
              "      <td>8.725618</td>\n",
              "    </tr>\n",
              "    <tr>\n",
              "      <th>4</th>\n",
              "      <td>0671571435</td>\n",
              "      <td>Song of the West (Silhouette Romance #143)</td>\n",
              "      <td>Nora Roberts</td>\n",
              "      <td>1982</td>\n",
              "      <td>Pocket Books (Mm)</td>\n",
              "      <td>8.695019</td>\n",
              "    </tr>\n",
              "    <tr>\n",
              "      <th>5</th>\n",
              "      <td>0679410139</td>\n",
              "      <td>Brando: Songs My Mother Taught Me</td>\n",
              "      <td>MARLON BRANDO</td>\n",
              "      <td>1994</td>\n",
              "      <td>Modern Library</td>\n",
              "      <td>8.675949</td>\n",
              "    </tr>\n",
              "    <tr>\n",
              "      <th>6</th>\n",
              "      <td>0449244288</td>\n",
              "      <td>Not a Penny More 4</td>\n",
              "      <td>Jeffrey Archer</td>\n",
              "      <td>1981</td>\n",
              "      <td>Fawcett Books</td>\n",
              "      <td>8.647461</td>\n",
              "    </tr>\n",
              "    <tr>\n",
              "      <th>7</th>\n",
              "      <td>0590926675</td>\n",
              "      <td>So Far From Home : The Diary of Mary Driscoll, an Irish Mill Girl, Lowell, Massachusetts, 1847 (Dear America)</td>\n",
              "      <td>Barry Denenberg</td>\n",
              "      <td>1997</td>\n",
              "      <td>Scholastic</td>\n",
              "      <td>8.646915</td>\n",
              "    </tr>\n",
              "    <tr>\n",
              "      <th>8</th>\n",
              "      <td>3596215080</td>\n",
              "      <td>Der Konig David Bericht</td>\n",
              "      <td>Stefan Heym</td>\n",
              "      <td>1994</td>\n",
              "      <td>Fischer Taschenbuch Verlag GmbH</td>\n",
              "      <td>8.635507</td>\n",
              "    </tr>\n",
              "    <tr>\n",
              "      <th>9</th>\n",
              "      <td>0140178406</td>\n",
              "      <td>Aunt Dimity's Death (Aunt Dimity (Paperback))</td>\n",
              "      <td>Nancy Atherton</td>\n",
              "      <td>1993</td>\n",
              "      <td>Penguin Books</td>\n",
              "      <td>8.631925</td>\n",
              "    </tr>\n",
              "  </tbody>\n",
              "</table>\n",
              "</div>"
            ],
            "text/plain": [
              "         ISBN  ... Estimate_Score\n",
              "0  0812516621  ...       8.943151\n",
              "1  0441873375  ...       8.912877\n",
              "2  0689831404  ...       8.828779\n",
              "3  0671223666  ...       8.725618\n",
              "4  0671571435  ...       8.695019\n",
              "5  0679410139  ...       8.675949\n",
              "6  0449244288  ...       8.647461\n",
              "7  0590926675  ...       8.646915\n",
              "8  3596215080  ...       8.635507\n",
              "9  0140178406  ...       8.631925\n",
              "\n",
              "[10 rows x 6 columns]"
            ]
          },
          "metadata": {
            "tags": []
          }
        }
      ]
    },
    {
      "cell_type": "code",
      "metadata": {
        "papermill": {
          "duration": 0.075398,
          "end_time": "2021-05-31T16:18:49.489736",
          "exception": false,
          "start_time": "2021-05-31T16:18:49.414338",
          "status": "completed"
        },
        "tags": [],
        "id": "8S7KP9GnyoLv"
      },
      "source": [
        ""
      ],
      "id": "8S7KP9GnyoLv",
      "execution_count": 74,
      "outputs": []
    },
    {
      "cell_type": "code",
      "metadata": {
        "papermill": {
          "duration": 0.075352,
          "end_time": "2021-05-31T16:18:49.640623",
          "exception": false,
          "start_time": "2021-05-31T16:18:49.565271",
          "status": "completed"
        },
        "tags": [],
        "id": "SVrVRuM1yoLv"
      },
      "source": [
        ""
      ],
      "id": "SVrVRuM1yoLv",
      "execution_count": 74,
      "outputs": []
    }
  ]
}